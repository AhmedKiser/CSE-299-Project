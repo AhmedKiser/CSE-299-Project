{
 "cells": [
  {
   "cell_type": "code",
   "execution_count": 50,
   "metadata": {
    "id": "sIBFhh_xGici"
   },
   "outputs": [],
   "source": [
    "#import lib\n",
    "import numpy as np\n",
    "import matplotlib.pyplot as plt\n",
    "import pandas as pd\n",
    "import seaborn as sns"
   ]
  },
  {
   "cell_type": "code",
   "execution_count": 5,
   "metadata": {
    "id": "r_NE9GiJGn9h"
   },
   "outputs": [],
   "source": [
    "df=pd.read_csv('Crop_recommendation.csv')"
   ]
  },
  {
   "cell_type": "code",
   "execution_count": 6,
   "metadata": {
    "colab": {
     "base_uri": "https://localhost:8080/",
     "height": 424
    },
    "id": "ugiMfJazHPHT",
    "outputId": "3e85951f-2235-451d-e99b-8897bd933968"
   },
   "outputs": [
    {
     "data": {
      "text/html": [
       "<div>\n",
       "<style scoped>\n",
       "    .dataframe tbody tr th:only-of-type {\n",
       "        vertical-align: middle;\n",
       "    }\n",
       "\n",
       "    .dataframe tbody tr th {\n",
       "        vertical-align: top;\n",
       "    }\n",
       "\n",
       "    .dataframe thead th {\n",
       "        text-align: right;\n",
       "    }\n",
       "</style>\n",
       "<table border=\"1\" class=\"dataframe\">\n",
       "  <thead>\n",
       "    <tr style=\"text-align: right;\">\n",
       "      <th></th>\n",
       "      <th>N</th>\n",
       "      <th>P</th>\n",
       "      <th>K</th>\n",
       "      <th>temperature</th>\n",
       "      <th>humidity</th>\n",
       "      <th>ph</th>\n",
       "      <th>rainfall</th>\n",
       "      <th>label</th>\n",
       "    </tr>\n",
       "  </thead>\n",
       "  <tbody>\n",
       "    <tr>\n",
       "      <th>0</th>\n",
       "      <td>90</td>\n",
       "      <td>42</td>\n",
       "      <td>43</td>\n",
       "      <td>20.879744</td>\n",
       "      <td>82.002744</td>\n",
       "      <td>6.502985</td>\n",
       "      <td>202.935536</td>\n",
       "      <td>rice</td>\n",
       "    </tr>\n",
       "    <tr>\n",
       "      <th>1</th>\n",
       "      <td>85</td>\n",
       "      <td>58</td>\n",
       "      <td>41</td>\n",
       "      <td>21.770462</td>\n",
       "      <td>80.319644</td>\n",
       "      <td>7.038096</td>\n",
       "      <td>226.655537</td>\n",
       "      <td>rice</td>\n",
       "    </tr>\n",
       "    <tr>\n",
       "      <th>2</th>\n",
       "      <td>60</td>\n",
       "      <td>55</td>\n",
       "      <td>44</td>\n",
       "      <td>23.004459</td>\n",
       "      <td>82.320763</td>\n",
       "      <td>7.840207</td>\n",
       "      <td>263.964248</td>\n",
       "      <td>rice</td>\n",
       "    </tr>\n",
       "    <tr>\n",
       "      <th>3</th>\n",
       "      <td>74</td>\n",
       "      <td>35</td>\n",
       "      <td>40</td>\n",
       "      <td>26.491096</td>\n",
       "      <td>80.158363</td>\n",
       "      <td>6.980401</td>\n",
       "      <td>242.864034</td>\n",
       "      <td>rice</td>\n",
       "    </tr>\n",
       "    <tr>\n",
       "      <th>4</th>\n",
       "      <td>78</td>\n",
       "      <td>42</td>\n",
       "      <td>42</td>\n",
       "      <td>20.130175</td>\n",
       "      <td>81.604873</td>\n",
       "      <td>7.628473</td>\n",
       "      <td>262.717340</td>\n",
       "      <td>rice</td>\n",
       "    </tr>\n",
       "    <tr>\n",
       "      <th>...</th>\n",
       "      <td>...</td>\n",
       "      <td>...</td>\n",
       "      <td>...</td>\n",
       "      <td>...</td>\n",
       "      <td>...</td>\n",
       "      <td>...</td>\n",
       "      <td>...</td>\n",
       "      <td>...</td>\n",
       "    </tr>\n",
       "    <tr>\n",
       "      <th>2195</th>\n",
       "      <td>107</td>\n",
       "      <td>34</td>\n",
       "      <td>32</td>\n",
       "      <td>26.774637</td>\n",
       "      <td>66.413269</td>\n",
       "      <td>6.780064</td>\n",
       "      <td>177.774507</td>\n",
       "      <td>coffee</td>\n",
       "    </tr>\n",
       "    <tr>\n",
       "      <th>2196</th>\n",
       "      <td>99</td>\n",
       "      <td>15</td>\n",
       "      <td>27</td>\n",
       "      <td>27.417112</td>\n",
       "      <td>56.636362</td>\n",
       "      <td>6.086922</td>\n",
       "      <td>127.924610</td>\n",
       "      <td>coffee</td>\n",
       "    </tr>\n",
       "    <tr>\n",
       "      <th>2197</th>\n",
       "      <td>118</td>\n",
       "      <td>33</td>\n",
       "      <td>30</td>\n",
       "      <td>24.131797</td>\n",
       "      <td>67.225123</td>\n",
       "      <td>6.362608</td>\n",
       "      <td>173.322839</td>\n",
       "      <td>coffee</td>\n",
       "    </tr>\n",
       "    <tr>\n",
       "      <th>2198</th>\n",
       "      <td>117</td>\n",
       "      <td>32</td>\n",
       "      <td>34</td>\n",
       "      <td>26.272418</td>\n",
       "      <td>52.127394</td>\n",
       "      <td>6.758793</td>\n",
       "      <td>127.175293</td>\n",
       "      <td>coffee</td>\n",
       "    </tr>\n",
       "    <tr>\n",
       "      <th>2199</th>\n",
       "      <td>104</td>\n",
       "      <td>18</td>\n",
       "      <td>30</td>\n",
       "      <td>23.603016</td>\n",
       "      <td>60.396475</td>\n",
       "      <td>6.779833</td>\n",
       "      <td>140.937041</td>\n",
       "      <td>coffee</td>\n",
       "    </tr>\n",
       "  </tbody>\n",
       "</table>\n",
       "<p>2200 rows × 8 columns</p>\n",
       "</div>"
      ],
      "text/plain": [
       "        N   P   K  temperature   humidity        ph    rainfall   label\n",
       "0      90  42  43    20.879744  82.002744  6.502985  202.935536    rice\n",
       "1      85  58  41    21.770462  80.319644  7.038096  226.655537    rice\n",
       "2      60  55  44    23.004459  82.320763  7.840207  263.964248    rice\n",
       "3      74  35  40    26.491096  80.158363  6.980401  242.864034    rice\n",
       "4      78  42  42    20.130175  81.604873  7.628473  262.717340    rice\n",
       "...   ...  ..  ..          ...        ...       ...         ...     ...\n",
       "2195  107  34  32    26.774637  66.413269  6.780064  177.774507  coffee\n",
       "2196   99  15  27    27.417112  56.636362  6.086922  127.924610  coffee\n",
       "2197  118  33  30    24.131797  67.225123  6.362608  173.322839  coffee\n",
       "2198  117  32  34    26.272418  52.127394  6.758793  127.175293  coffee\n",
       "2199  104  18  30    23.603016  60.396475  6.779833  140.937041  coffee\n",
       "\n",
       "[2200 rows x 8 columns]"
      ]
     },
     "execution_count": 6,
     "metadata": {},
     "output_type": "execute_result"
    }
   ],
   "source": [
    "df"
   ]
  },
  {
   "cell_type": "code",
   "execution_count": 7,
   "metadata": {
    "colab": {
     "base_uri": "https://localhost:8080/"
    },
    "id": "uDhdAYHoHZ2b",
    "outputId": "f219ce67-9927-483e-b063-08b1cf909b9f"
   },
   "outputs": [
    {
     "data": {
      "text/plain": [
       "(2200, 8)"
      ]
     },
     "execution_count": 7,
     "metadata": {},
     "output_type": "execute_result"
    }
   ],
   "source": [
    "df.shape"
   ]
  },
  {
   "cell_type": "code",
   "execution_count": 8,
   "metadata": {
    "colab": {
     "base_uri": "https://localhost:8080/"
    },
    "id": "iOELF8ekHdrs",
    "outputId": "6ac5f076-87cf-4340-82d9-2cb47993467d"
   },
   "outputs": [
    {
     "data": {
      "text/plain": [
       "N              0\n",
       "P              0\n",
       "K              0\n",
       "temperature    0\n",
       "humidity       0\n",
       "ph             0\n",
       "rainfall       0\n",
       "label          0\n",
       "dtype: int64"
      ]
     },
     "execution_count": 8,
     "metadata": {},
     "output_type": "execute_result"
    }
   ],
   "source": [
    "df.isnull().sum()"
   ]
  },
  {
   "cell_type": "code",
   "execution_count": 9,
   "metadata": {
    "id": "LiTlBJ1IHiJ_"
   },
   "outputs": [],
   "source": [
    "X=df.drop(['temperature','humidity','rainfall','label'],axis=1)"
   ]
  },
  {
   "cell_type": "code",
   "execution_count": 10,
   "metadata": {
    "id": "bdQHeiQiICRX"
   },
   "outputs": [],
   "source": [
    "y=df['label']"
   ]
  },
  {
   "cell_type": "code",
   "execution_count": 11,
   "metadata": {
    "colab": {
     "base_uri": "https://localhost:8080/",
     "height": 424
    },
    "id": "azAtZad-IF9n",
    "outputId": "c2eb507a-b2bf-4831-fdb2-d8b4d8a302ac"
   },
   "outputs": [
    {
     "data": {
      "text/html": [
       "<div>\n",
       "<style scoped>\n",
       "    .dataframe tbody tr th:only-of-type {\n",
       "        vertical-align: middle;\n",
       "    }\n",
       "\n",
       "    .dataframe tbody tr th {\n",
       "        vertical-align: top;\n",
       "    }\n",
       "\n",
       "    .dataframe thead th {\n",
       "        text-align: right;\n",
       "    }\n",
       "</style>\n",
       "<table border=\"1\" class=\"dataframe\">\n",
       "  <thead>\n",
       "    <tr style=\"text-align: right;\">\n",
       "      <th></th>\n",
       "      <th>N</th>\n",
       "      <th>P</th>\n",
       "      <th>K</th>\n",
       "      <th>ph</th>\n",
       "    </tr>\n",
       "  </thead>\n",
       "  <tbody>\n",
       "    <tr>\n",
       "      <th>0</th>\n",
       "      <td>90</td>\n",
       "      <td>42</td>\n",
       "      <td>43</td>\n",
       "      <td>6.502985</td>\n",
       "    </tr>\n",
       "    <tr>\n",
       "      <th>1</th>\n",
       "      <td>85</td>\n",
       "      <td>58</td>\n",
       "      <td>41</td>\n",
       "      <td>7.038096</td>\n",
       "    </tr>\n",
       "    <tr>\n",
       "      <th>2</th>\n",
       "      <td>60</td>\n",
       "      <td>55</td>\n",
       "      <td>44</td>\n",
       "      <td>7.840207</td>\n",
       "    </tr>\n",
       "    <tr>\n",
       "      <th>3</th>\n",
       "      <td>74</td>\n",
       "      <td>35</td>\n",
       "      <td>40</td>\n",
       "      <td>6.980401</td>\n",
       "    </tr>\n",
       "    <tr>\n",
       "      <th>4</th>\n",
       "      <td>78</td>\n",
       "      <td>42</td>\n",
       "      <td>42</td>\n",
       "      <td>7.628473</td>\n",
       "    </tr>\n",
       "    <tr>\n",
       "      <th>...</th>\n",
       "      <td>...</td>\n",
       "      <td>...</td>\n",
       "      <td>...</td>\n",
       "      <td>...</td>\n",
       "    </tr>\n",
       "    <tr>\n",
       "      <th>2195</th>\n",
       "      <td>107</td>\n",
       "      <td>34</td>\n",
       "      <td>32</td>\n",
       "      <td>6.780064</td>\n",
       "    </tr>\n",
       "    <tr>\n",
       "      <th>2196</th>\n",
       "      <td>99</td>\n",
       "      <td>15</td>\n",
       "      <td>27</td>\n",
       "      <td>6.086922</td>\n",
       "    </tr>\n",
       "    <tr>\n",
       "      <th>2197</th>\n",
       "      <td>118</td>\n",
       "      <td>33</td>\n",
       "      <td>30</td>\n",
       "      <td>6.362608</td>\n",
       "    </tr>\n",
       "    <tr>\n",
       "      <th>2198</th>\n",
       "      <td>117</td>\n",
       "      <td>32</td>\n",
       "      <td>34</td>\n",
       "      <td>6.758793</td>\n",
       "    </tr>\n",
       "    <tr>\n",
       "      <th>2199</th>\n",
       "      <td>104</td>\n",
       "      <td>18</td>\n",
       "      <td>30</td>\n",
       "      <td>6.779833</td>\n",
       "    </tr>\n",
       "  </tbody>\n",
       "</table>\n",
       "<p>2200 rows × 4 columns</p>\n",
       "</div>"
      ],
      "text/plain": [
       "        N   P   K        ph\n",
       "0      90  42  43  6.502985\n",
       "1      85  58  41  7.038096\n",
       "2      60  55  44  7.840207\n",
       "3      74  35  40  6.980401\n",
       "4      78  42  42  7.628473\n",
       "...   ...  ..  ..       ...\n",
       "2195  107  34  32  6.780064\n",
       "2196   99  15  27  6.086922\n",
       "2197  118  33  30  6.362608\n",
       "2198  117  32  34  6.758793\n",
       "2199  104  18  30  6.779833\n",
       "\n",
       "[2200 rows x 4 columns]"
      ]
     },
     "execution_count": 11,
     "metadata": {},
     "output_type": "execute_result"
    }
   ],
   "source": [
    "X"
   ]
  },
  {
   "cell_type": "code",
   "execution_count": 12,
   "metadata": {
    "colab": {
     "base_uri": "https://localhost:8080/"
    },
    "id": "eonyF41FIJCn",
    "outputId": "b49b0466-f674-44d6-bf01-1362a76d9572"
   },
   "outputs": [
    {
     "data": {
      "text/plain": [
       "0         rice\n",
       "1         rice\n",
       "2         rice\n",
       "3         rice\n",
       "4         rice\n",
       "         ...  \n",
       "2195    coffee\n",
       "2196    coffee\n",
       "2197    coffee\n",
       "2198    coffee\n",
       "2199    coffee\n",
       "Name: label, Length: 2200, dtype: object"
      ]
     },
     "execution_count": 12,
     "metadata": {},
     "output_type": "execute_result"
    }
   ],
   "source": [
    "y"
   ]
  },
  {
   "cell_type": "code",
   "execution_count": 13,
   "metadata": {
    "id": "9-aaYap5IL29"
   },
   "outputs": [],
   "source": [
    "xdf = df.copy()"
   ]
  },
  {
   "cell_type": "code",
   "execution_count": 14,
   "metadata": {
    "colab": {
     "base_uri": "https://localhost:8080/",
     "height": 424
    },
    "id": "YMQYg6gHIUEE",
    "outputId": "332815ed-594d-4878-bd7f-ba7560811143"
   },
   "outputs": [
    {
     "data": {
      "text/html": [
       "<div>\n",
       "<style scoped>\n",
       "    .dataframe tbody tr th:only-of-type {\n",
       "        vertical-align: middle;\n",
       "    }\n",
       "\n",
       "    .dataframe tbody tr th {\n",
       "        vertical-align: top;\n",
       "    }\n",
       "\n",
       "    .dataframe thead th {\n",
       "        text-align: right;\n",
       "    }\n",
       "</style>\n",
       "<table border=\"1\" class=\"dataframe\">\n",
       "  <thead>\n",
       "    <tr style=\"text-align: right;\">\n",
       "      <th></th>\n",
       "      <th>N</th>\n",
       "      <th>P</th>\n",
       "      <th>K</th>\n",
       "      <th>temperature</th>\n",
       "      <th>humidity</th>\n",
       "      <th>ph</th>\n",
       "      <th>rainfall</th>\n",
       "      <th>label</th>\n",
       "    </tr>\n",
       "  </thead>\n",
       "  <tbody>\n",
       "    <tr>\n",
       "      <th>0</th>\n",
       "      <td>90</td>\n",
       "      <td>42</td>\n",
       "      <td>43</td>\n",
       "      <td>20.879744</td>\n",
       "      <td>82.002744</td>\n",
       "      <td>6.502985</td>\n",
       "      <td>202.935536</td>\n",
       "      <td>rice</td>\n",
       "    </tr>\n",
       "    <tr>\n",
       "      <th>1</th>\n",
       "      <td>85</td>\n",
       "      <td>58</td>\n",
       "      <td>41</td>\n",
       "      <td>21.770462</td>\n",
       "      <td>80.319644</td>\n",
       "      <td>7.038096</td>\n",
       "      <td>226.655537</td>\n",
       "      <td>rice</td>\n",
       "    </tr>\n",
       "    <tr>\n",
       "      <th>2</th>\n",
       "      <td>60</td>\n",
       "      <td>55</td>\n",
       "      <td>44</td>\n",
       "      <td>23.004459</td>\n",
       "      <td>82.320763</td>\n",
       "      <td>7.840207</td>\n",
       "      <td>263.964248</td>\n",
       "      <td>rice</td>\n",
       "    </tr>\n",
       "    <tr>\n",
       "      <th>3</th>\n",
       "      <td>74</td>\n",
       "      <td>35</td>\n",
       "      <td>40</td>\n",
       "      <td>26.491096</td>\n",
       "      <td>80.158363</td>\n",
       "      <td>6.980401</td>\n",
       "      <td>242.864034</td>\n",
       "      <td>rice</td>\n",
       "    </tr>\n",
       "    <tr>\n",
       "      <th>4</th>\n",
       "      <td>78</td>\n",
       "      <td>42</td>\n",
       "      <td>42</td>\n",
       "      <td>20.130175</td>\n",
       "      <td>81.604873</td>\n",
       "      <td>7.628473</td>\n",
       "      <td>262.717340</td>\n",
       "      <td>rice</td>\n",
       "    </tr>\n",
       "    <tr>\n",
       "      <th>...</th>\n",
       "      <td>...</td>\n",
       "      <td>...</td>\n",
       "      <td>...</td>\n",
       "      <td>...</td>\n",
       "      <td>...</td>\n",
       "      <td>...</td>\n",
       "      <td>...</td>\n",
       "      <td>...</td>\n",
       "    </tr>\n",
       "    <tr>\n",
       "      <th>2195</th>\n",
       "      <td>107</td>\n",
       "      <td>34</td>\n",
       "      <td>32</td>\n",
       "      <td>26.774637</td>\n",
       "      <td>66.413269</td>\n",
       "      <td>6.780064</td>\n",
       "      <td>177.774507</td>\n",
       "      <td>coffee</td>\n",
       "    </tr>\n",
       "    <tr>\n",
       "      <th>2196</th>\n",
       "      <td>99</td>\n",
       "      <td>15</td>\n",
       "      <td>27</td>\n",
       "      <td>27.417112</td>\n",
       "      <td>56.636362</td>\n",
       "      <td>6.086922</td>\n",
       "      <td>127.924610</td>\n",
       "      <td>coffee</td>\n",
       "    </tr>\n",
       "    <tr>\n",
       "      <th>2197</th>\n",
       "      <td>118</td>\n",
       "      <td>33</td>\n",
       "      <td>30</td>\n",
       "      <td>24.131797</td>\n",
       "      <td>67.225123</td>\n",
       "      <td>6.362608</td>\n",
       "      <td>173.322839</td>\n",
       "      <td>coffee</td>\n",
       "    </tr>\n",
       "    <tr>\n",
       "      <th>2198</th>\n",
       "      <td>117</td>\n",
       "      <td>32</td>\n",
       "      <td>34</td>\n",
       "      <td>26.272418</td>\n",
       "      <td>52.127394</td>\n",
       "      <td>6.758793</td>\n",
       "      <td>127.175293</td>\n",
       "      <td>coffee</td>\n",
       "    </tr>\n",
       "    <tr>\n",
       "      <th>2199</th>\n",
       "      <td>104</td>\n",
       "      <td>18</td>\n",
       "      <td>30</td>\n",
       "      <td>23.603016</td>\n",
       "      <td>60.396475</td>\n",
       "      <td>6.779833</td>\n",
       "      <td>140.937041</td>\n",
       "      <td>coffee</td>\n",
       "    </tr>\n",
       "  </tbody>\n",
       "</table>\n",
       "<p>2200 rows × 8 columns</p>\n",
       "</div>"
      ],
      "text/plain": [
       "        N   P   K  temperature   humidity        ph    rainfall   label\n",
       "0      90  42  43    20.879744  82.002744  6.502985  202.935536    rice\n",
       "1      85  58  41    21.770462  80.319644  7.038096  226.655537    rice\n",
       "2      60  55  44    23.004459  82.320763  7.840207  263.964248    rice\n",
       "3      74  35  40    26.491096  80.158363  6.980401  242.864034    rice\n",
       "4      78  42  42    20.130175  81.604873  7.628473  262.717340    rice\n",
       "...   ...  ..  ..          ...        ...       ...         ...     ...\n",
       "2195  107  34  32    26.774637  66.413269  6.780064  177.774507  coffee\n",
       "2196   99  15  27    27.417112  56.636362  6.086922  127.924610  coffee\n",
       "2197  118  33  30    24.131797  67.225123  6.362608  173.322839  coffee\n",
       "2198  117  32  34    26.272418  52.127394  6.758793  127.175293  coffee\n",
       "2199  104  18  30    23.603016  60.396475  6.779833  140.937041  coffee\n",
       "\n",
       "[2200 rows x 8 columns]"
      ]
     },
     "execution_count": 14,
     "metadata": {},
     "output_type": "execute_result"
    }
   ],
   "source": [
    "xdf"
   ]
  },
  {
   "cell_type": "code",
   "execution_count": 15,
   "metadata": {
    "id": "3-WntD0cIVVP"
   },
   "outputs": [],
   "source": [
    "from sklearn.preprocessing import LabelEncoder "
   ]
  },
  {
   "cell_type": "code",
   "execution_count": 16,
   "metadata": {
    "id": "nOtC7A94I5hM"
   },
   "outputs": [],
   "source": [
    "labelencoder= LabelEncoder() "
   ]
  },
  {
   "cell_type": "code",
   "execution_count": 17,
   "metadata": {
    "id": "VG6qfY_jJI4h"
   },
   "outputs": [],
   "source": [
    "xdf['label_codes'] = labelencoder.fit_transform(xdf['label'])"
   ]
  },
  {
   "cell_type": "code",
   "execution_count": 18,
   "metadata": {
    "colab": {
     "base_uri": "https://localhost:8080/",
     "height": 424
    },
    "id": "LW0Z3wK7JXex",
    "outputId": "cf29dd3d-4ba3-48f7-ad69-d0c5681f9162"
   },
   "outputs": [
    {
     "data": {
      "text/html": [
       "<div>\n",
       "<style scoped>\n",
       "    .dataframe tbody tr th:only-of-type {\n",
       "        vertical-align: middle;\n",
       "    }\n",
       "\n",
       "    .dataframe tbody tr th {\n",
       "        vertical-align: top;\n",
       "    }\n",
       "\n",
       "    .dataframe thead th {\n",
       "        text-align: right;\n",
       "    }\n",
       "</style>\n",
       "<table border=\"1\" class=\"dataframe\">\n",
       "  <thead>\n",
       "    <tr style=\"text-align: right;\">\n",
       "      <th></th>\n",
       "      <th>N</th>\n",
       "      <th>P</th>\n",
       "      <th>K</th>\n",
       "      <th>temperature</th>\n",
       "      <th>humidity</th>\n",
       "      <th>ph</th>\n",
       "      <th>rainfall</th>\n",
       "      <th>label</th>\n",
       "      <th>label_codes</th>\n",
       "    </tr>\n",
       "  </thead>\n",
       "  <tbody>\n",
       "    <tr>\n",
       "      <th>0</th>\n",
       "      <td>90</td>\n",
       "      <td>42</td>\n",
       "      <td>43</td>\n",
       "      <td>20.879744</td>\n",
       "      <td>82.002744</td>\n",
       "      <td>6.502985</td>\n",
       "      <td>202.935536</td>\n",
       "      <td>rice</td>\n",
       "      <td>20</td>\n",
       "    </tr>\n",
       "    <tr>\n",
       "      <th>1</th>\n",
       "      <td>85</td>\n",
       "      <td>58</td>\n",
       "      <td>41</td>\n",
       "      <td>21.770462</td>\n",
       "      <td>80.319644</td>\n",
       "      <td>7.038096</td>\n",
       "      <td>226.655537</td>\n",
       "      <td>rice</td>\n",
       "      <td>20</td>\n",
       "    </tr>\n",
       "    <tr>\n",
       "      <th>2</th>\n",
       "      <td>60</td>\n",
       "      <td>55</td>\n",
       "      <td>44</td>\n",
       "      <td>23.004459</td>\n",
       "      <td>82.320763</td>\n",
       "      <td>7.840207</td>\n",
       "      <td>263.964248</td>\n",
       "      <td>rice</td>\n",
       "      <td>20</td>\n",
       "    </tr>\n",
       "    <tr>\n",
       "      <th>3</th>\n",
       "      <td>74</td>\n",
       "      <td>35</td>\n",
       "      <td>40</td>\n",
       "      <td>26.491096</td>\n",
       "      <td>80.158363</td>\n",
       "      <td>6.980401</td>\n",
       "      <td>242.864034</td>\n",
       "      <td>rice</td>\n",
       "      <td>20</td>\n",
       "    </tr>\n",
       "    <tr>\n",
       "      <th>4</th>\n",
       "      <td>78</td>\n",
       "      <td>42</td>\n",
       "      <td>42</td>\n",
       "      <td>20.130175</td>\n",
       "      <td>81.604873</td>\n",
       "      <td>7.628473</td>\n",
       "      <td>262.717340</td>\n",
       "      <td>rice</td>\n",
       "      <td>20</td>\n",
       "    </tr>\n",
       "    <tr>\n",
       "      <th>...</th>\n",
       "      <td>...</td>\n",
       "      <td>...</td>\n",
       "      <td>...</td>\n",
       "      <td>...</td>\n",
       "      <td>...</td>\n",
       "      <td>...</td>\n",
       "      <td>...</td>\n",
       "      <td>...</td>\n",
       "      <td>...</td>\n",
       "    </tr>\n",
       "    <tr>\n",
       "      <th>2195</th>\n",
       "      <td>107</td>\n",
       "      <td>34</td>\n",
       "      <td>32</td>\n",
       "      <td>26.774637</td>\n",
       "      <td>66.413269</td>\n",
       "      <td>6.780064</td>\n",
       "      <td>177.774507</td>\n",
       "      <td>coffee</td>\n",
       "      <td>5</td>\n",
       "    </tr>\n",
       "    <tr>\n",
       "      <th>2196</th>\n",
       "      <td>99</td>\n",
       "      <td>15</td>\n",
       "      <td>27</td>\n",
       "      <td>27.417112</td>\n",
       "      <td>56.636362</td>\n",
       "      <td>6.086922</td>\n",
       "      <td>127.924610</td>\n",
       "      <td>coffee</td>\n",
       "      <td>5</td>\n",
       "    </tr>\n",
       "    <tr>\n",
       "      <th>2197</th>\n",
       "      <td>118</td>\n",
       "      <td>33</td>\n",
       "      <td>30</td>\n",
       "      <td>24.131797</td>\n",
       "      <td>67.225123</td>\n",
       "      <td>6.362608</td>\n",
       "      <td>173.322839</td>\n",
       "      <td>coffee</td>\n",
       "      <td>5</td>\n",
       "    </tr>\n",
       "    <tr>\n",
       "      <th>2198</th>\n",
       "      <td>117</td>\n",
       "      <td>32</td>\n",
       "      <td>34</td>\n",
       "      <td>26.272418</td>\n",
       "      <td>52.127394</td>\n",
       "      <td>6.758793</td>\n",
       "      <td>127.175293</td>\n",
       "      <td>coffee</td>\n",
       "      <td>5</td>\n",
       "    </tr>\n",
       "    <tr>\n",
       "      <th>2199</th>\n",
       "      <td>104</td>\n",
       "      <td>18</td>\n",
       "      <td>30</td>\n",
       "      <td>23.603016</td>\n",
       "      <td>60.396475</td>\n",
       "      <td>6.779833</td>\n",
       "      <td>140.937041</td>\n",
       "      <td>coffee</td>\n",
       "      <td>5</td>\n",
       "    </tr>\n",
       "  </tbody>\n",
       "</table>\n",
       "<p>2200 rows × 9 columns</p>\n",
       "</div>"
      ],
      "text/plain": [
       "        N   P   K  temperature   humidity        ph    rainfall   label  \\\n",
       "0      90  42  43    20.879744  82.002744  6.502985  202.935536    rice   \n",
       "1      85  58  41    21.770462  80.319644  7.038096  226.655537    rice   \n",
       "2      60  55  44    23.004459  82.320763  7.840207  263.964248    rice   \n",
       "3      74  35  40    26.491096  80.158363  6.980401  242.864034    rice   \n",
       "4      78  42  42    20.130175  81.604873  7.628473  262.717340    rice   \n",
       "...   ...  ..  ..          ...        ...       ...         ...     ...   \n",
       "2195  107  34  32    26.774637  66.413269  6.780064  177.774507  coffee   \n",
       "2196   99  15  27    27.417112  56.636362  6.086922  127.924610  coffee   \n",
       "2197  118  33  30    24.131797  67.225123  6.362608  173.322839  coffee   \n",
       "2198  117  32  34    26.272418  52.127394  6.758793  127.175293  coffee   \n",
       "2199  104  18  30    23.603016  60.396475  6.779833  140.937041  coffee   \n",
       "\n",
       "      label_codes  \n",
       "0              20  \n",
       "1              20  \n",
       "2              20  \n",
       "3              20  \n",
       "4              20  \n",
       "...           ...  \n",
       "2195            5  \n",
       "2196            5  \n",
       "2197            5  \n",
       "2198            5  \n",
       "2199            5  \n",
       "\n",
       "[2200 rows x 9 columns]"
      ]
     },
     "execution_count": 18,
     "metadata": {},
     "output_type": "execute_result"
    }
   ],
   "source": [
    "xdf"
   ]
  },
  {
   "cell_type": "code",
   "execution_count": 19,
   "metadata": {
    "id": "THaPI6ETJYdK"
   },
   "outputs": [],
   "source": [
    "X = xdf.drop(['temperature','humidity','rainfall','label','label_codes'],axis = 1)"
   ]
  },
  {
   "cell_type": "code",
   "execution_count": 20,
   "metadata": {
    "id": "umkwe21yJf3z"
   },
   "outputs": [],
   "source": [
    "y = xdf['label_codes']"
   ]
  },
  {
   "cell_type": "code",
   "execution_count": 21,
   "metadata": {
    "colab": {
     "base_uri": "https://localhost:8080/",
     "height": 424
    },
    "id": "CGurSYQaJ17u",
    "outputId": "8aae6248-eccb-4d5e-f311-ab1a18bc5df0"
   },
   "outputs": [
    {
     "data": {
      "text/html": [
       "<div>\n",
       "<style scoped>\n",
       "    .dataframe tbody tr th:only-of-type {\n",
       "        vertical-align: middle;\n",
       "    }\n",
       "\n",
       "    .dataframe tbody tr th {\n",
       "        vertical-align: top;\n",
       "    }\n",
       "\n",
       "    .dataframe thead th {\n",
       "        text-align: right;\n",
       "    }\n",
       "</style>\n",
       "<table border=\"1\" class=\"dataframe\">\n",
       "  <thead>\n",
       "    <tr style=\"text-align: right;\">\n",
       "      <th></th>\n",
       "      <th>N</th>\n",
       "      <th>P</th>\n",
       "      <th>K</th>\n",
       "      <th>ph</th>\n",
       "    </tr>\n",
       "  </thead>\n",
       "  <tbody>\n",
       "    <tr>\n",
       "      <th>0</th>\n",
       "      <td>90</td>\n",
       "      <td>42</td>\n",
       "      <td>43</td>\n",
       "      <td>6.502985</td>\n",
       "    </tr>\n",
       "    <tr>\n",
       "      <th>1</th>\n",
       "      <td>85</td>\n",
       "      <td>58</td>\n",
       "      <td>41</td>\n",
       "      <td>7.038096</td>\n",
       "    </tr>\n",
       "    <tr>\n",
       "      <th>2</th>\n",
       "      <td>60</td>\n",
       "      <td>55</td>\n",
       "      <td>44</td>\n",
       "      <td>7.840207</td>\n",
       "    </tr>\n",
       "    <tr>\n",
       "      <th>3</th>\n",
       "      <td>74</td>\n",
       "      <td>35</td>\n",
       "      <td>40</td>\n",
       "      <td>6.980401</td>\n",
       "    </tr>\n",
       "    <tr>\n",
       "      <th>4</th>\n",
       "      <td>78</td>\n",
       "      <td>42</td>\n",
       "      <td>42</td>\n",
       "      <td>7.628473</td>\n",
       "    </tr>\n",
       "    <tr>\n",
       "      <th>...</th>\n",
       "      <td>...</td>\n",
       "      <td>...</td>\n",
       "      <td>...</td>\n",
       "      <td>...</td>\n",
       "    </tr>\n",
       "    <tr>\n",
       "      <th>2195</th>\n",
       "      <td>107</td>\n",
       "      <td>34</td>\n",
       "      <td>32</td>\n",
       "      <td>6.780064</td>\n",
       "    </tr>\n",
       "    <tr>\n",
       "      <th>2196</th>\n",
       "      <td>99</td>\n",
       "      <td>15</td>\n",
       "      <td>27</td>\n",
       "      <td>6.086922</td>\n",
       "    </tr>\n",
       "    <tr>\n",
       "      <th>2197</th>\n",
       "      <td>118</td>\n",
       "      <td>33</td>\n",
       "      <td>30</td>\n",
       "      <td>6.362608</td>\n",
       "    </tr>\n",
       "    <tr>\n",
       "      <th>2198</th>\n",
       "      <td>117</td>\n",
       "      <td>32</td>\n",
       "      <td>34</td>\n",
       "      <td>6.758793</td>\n",
       "    </tr>\n",
       "    <tr>\n",
       "      <th>2199</th>\n",
       "      <td>104</td>\n",
       "      <td>18</td>\n",
       "      <td>30</td>\n",
       "      <td>6.779833</td>\n",
       "    </tr>\n",
       "  </tbody>\n",
       "</table>\n",
       "<p>2200 rows × 4 columns</p>\n",
       "</div>"
      ],
      "text/plain": [
       "        N   P   K        ph\n",
       "0      90  42  43  6.502985\n",
       "1      85  58  41  7.038096\n",
       "2      60  55  44  7.840207\n",
       "3      74  35  40  6.980401\n",
       "4      78  42  42  7.628473\n",
       "...   ...  ..  ..       ...\n",
       "2195  107  34  32  6.780064\n",
       "2196   99  15  27  6.086922\n",
       "2197  118  33  30  6.362608\n",
       "2198  117  32  34  6.758793\n",
       "2199  104  18  30  6.779833\n",
       "\n",
       "[2200 rows x 4 columns]"
      ]
     },
     "execution_count": 21,
     "metadata": {},
     "output_type": "execute_result"
    }
   ],
   "source": [
    "X"
   ]
  },
  {
   "cell_type": "code",
   "execution_count": 22,
   "metadata": {
    "colab": {
     "base_uri": "https://localhost:8080/"
    },
    "id": "YhXGwKhGKIC2",
    "outputId": "9df8e687-e8fe-4b71-b8aa-70a9476aa90b"
   },
   "outputs": [
    {
     "data": {
      "text/plain": [
       "0       20\n",
       "1       20\n",
       "2       20\n",
       "3       20\n",
       "4       20\n",
       "        ..\n",
       "2195     5\n",
       "2196     5\n",
       "2197     5\n",
       "2198     5\n",
       "2199     5\n",
       "Name: label_codes, Length: 2200, dtype: int32"
      ]
     },
     "execution_count": 22,
     "metadata": {},
     "output_type": "execute_result"
    }
   ],
   "source": [
    "y"
   ]
  },
  {
   "cell_type": "code",
   "execution_count": 23,
   "metadata": {
    "colab": {
     "base_uri": "https://localhost:8080/"
    },
    "id": "qa9YEBVzRCZD",
    "outputId": "d9a34cc2-bb5b-4794-bccb-cc75b25d45b0"
   },
   "outputs": [
    {
     "data": {
      "text/plain": [
       "array([20, 11,  3,  9, 18, 13, 14,  2, 10, 19,  1, 12,  7, 21, 15,  0, 16,\n",
       "       17,  4,  6,  8,  5])"
      ]
     },
     "execution_count": 23,
     "metadata": {},
     "output_type": "execute_result"
    }
   ],
   "source": [
    "y.unique()"
   ]
  },
  {
   "cell_type": "code",
   "execution_count": 24,
   "metadata": {
    "id": "jWNUqkXrU-RZ"
   },
   "outputs": [],
   "source": [
    "from sklearn.model_selection import train_test_split"
   ]
  },
  {
   "cell_type": "code",
   "execution_count": 25,
   "metadata": {
    "id": "ymc0WvRiV3C-"
   },
   "outputs": [],
   "source": [
    "Xtrain, Xtest, ytrain, ytest = train_test_split(X, y, test_size=0.3)"
   ]
  },
  {
   "cell_type": "code",
   "execution_count": 26,
   "metadata": {
    "id": "_JSBCFSSV5ta"
   },
   "outputs": [],
   "source": [
    "from sklearn.linear_model import LinearRegression"
   ]
  },
  {
   "cell_type": "code",
   "execution_count": 27,
   "metadata": {
    "id": "UD7lLeUtV8ly"
   },
   "outputs": [],
   "source": [
    "reg=LinearRegression()"
   ]
  },
  {
   "cell_type": "code",
   "execution_count": 28,
   "metadata": {
    "colab": {
     "base_uri": "https://localhost:8080/",
     "height": 74
    },
    "id": "jKwRWIoYV_eA",
    "outputId": "292c3189-1d63-434f-8f0d-6b82eb76fc13"
   },
   "outputs": [
    {
     "data": {
      "text/plain": [
       "LinearRegression()"
      ]
     },
     "execution_count": 28,
     "metadata": {},
     "output_type": "execute_result"
    }
   ],
   "source": [
    "reg.fit(Xtrain, ytrain)"
   ]
  },
  {
   "cell_type": "code",
   "execution_count": 29,
   "metadata": {
    "colab": {
     "base_uri": "https://localhost:8080/"
    },
    "id": "aD0a1qtAWEOA",
    "outputId": "e4865d70-06f2-4e95-fed4-6ac5c83152e4"
   },
   "outputs": [
    {
     "data": {
      "text/plain": [
       "2023     8\n",
       "430     18\n",
       "1557     0\n",
       "2067     8\n",
       "1856     4\n",
       "        ..\n",
       "393      9\n",
       "1022     1\n",
       "1678    16\n",
       "2103     5\n",
       "1175    12\n",
       "Name: label_codes, Length: 660, dtype: int32"
      ]
     },
     "execution_count": 29,
     "metadata": {},
     "output_type": "execute_result"
    }
   ],
   "source": [
    "ytest"
   ]
  },
  {
   "cell_type": "code",
   "execution_count": 30,
   "metadata": {
    "id": "O9ZGmuoKWHAX"
   },
   "outputs": [],
   "source": [
    "pred=reg.predict(Xtest)"
   ]
  },
  {
   "cell_type": "code",
   "execution_count": 31,
   "metadata": {
    "colab": {
     "base_uri": "https://localhost:8080/"
    },
    "id": "D59tAjNyWNU3",
    "outputId": "f0e0921b-ad92-4435-f4b0-77e9da77bad1"
   },
   "outputs": [
    {
     "data": {
      "text/plain": [
       "array([10.15505524, 10.68824589,  4.03836188,  9.12986936, 14.84405166,\n",
       "        8.36284462, 13.76663323,  9.98655957,  7.97519671, 11.26376918,\n",
       "        4.27179333, 14.99845463, 14.22397625, 14.66174214, 10.18344947,\n",
       "       16.24009863, 15.42374006, 14.2322675 ,  8.17111205, 10.93001453,\n",
       "       15.23636436, 12.59181214, 12.77865086,  9.80737585, 13.02882867,\n",
       "       11.70418594,  7.61534757,  9.81723207,  8.20323135,  9.40641   ,\n",
       "       10.20701752,  9.85237017, 14.15401883,  4.26805531, 12.9968848 ,\n",
       "       16.71139834,  7.48121156,  8.2901114 ,  9.45140983,  8.69905249,\n",
       "        4.01437029, 14.59965696, 11.68464451, 10.09300997,  3.23307542,\n",
       "        9.87182314,  9.73273496, 12.8804413 ,  6.88569899, 13.78046027,\n",
       "       11.88910599,  8.53833176, 10.01621611,  7.60602877, 14.82372456,\n",
       "       12.77424595,  8.98539682,  9.64942347, 11.3669346 ,  4.33666725,\n",
       "       15.5770229 ,  9.04450763,  8.23649676, 10.00975642, 10.69751749,\n",
       "        9.17785205,  9.74341732,  4.68467432, 11.89732085, 12.84979024,\n",
       "        8.38421968, 12.38252921,  3.18773046, 10.65108443, 10.30589058,\n",
       "        9.43939872,  9.57912577,  9.04922095,  8.9966658 , 14.13555562,\n",
       "       12.9832909 ,  3.58090994, 12.59395934,  9.23123336, 12.96863228,\n",
       "        5.68695548, 11.87360309,  9.17390958,  7.62260341, 10.63683894,\n",
       "       11.31932816,  8.42364309, 14.89332686, 10.08969551,  9.87436668,\n",
       "       11.60524441, 10.06205409,  3.76207353,  9.77505622, 14.14813801,\n",
       "        7.24386428,  8.97121526, 14.09914594, 11.66741642,  5.35404948,\n",
       "       10.04807564, 10.4736547 ,  5.62364412, 12.53795109,  8.62522476,\n",
       "       14.74321545, 10.19564462, 10.03106781, 10.96746515, 10.39492113,\n",
       "       10.29726329, 10.65310075, 10.35296721, 10.72880323, 12.01468573,\n",
       "        2.95327744, 10.02236815, 10.57246954,  9.87946967, 11.90889886,\n",
       "       16.2551616 ,  9.30718233, 10.37880306,  9.75426233,  8.91216863,\n",
       "       10.83228226,  8.93676344,  4.68414969, 10.53507313,  9.26294433,\n",
       "        5.17455928, 11.0662595 , 12.39792965, 11.1504083 ,  4.31029794,\n",
       "        9.93616328, 12.20875516, 11.4170254 , 10.44413296,  2.92304439,\n",
       "       12.09706115, 10.69156007,  8.41824938, 10.01230458,  9.27203012,\n",
       "        5.30527129,  8.59712693,  2.9586686 , 11.05102027, 11.80419655,\n",
       "        8.08631348,  7.71785554, 12.81002388,  9.17855253,  2.58789777,\n",
       "        9.59374213, 10.31049679, 10.54584301, 14.935079  , 15.27806088,\n",
       "        8.83696223, 16.29786848,  8.77419611, 15.99935943,  3.501478  ,\n",
       "       14.36374733, 14.35067862,  9.58215434,  9.49209436, 14.23857922,\n",
       "       13.62534948, 13.96096482,  2.05766219, 14.89560092, 12.42482723,\n",
       "       12.7519044 , 10.13277385, 16.06278028, 11.47383826, 14.49514384,\n",
       "        8.68246701,  9.37192568, 12.08599838, 12.18795   , 12.68788146,\n",
       "        9.20028809, 11.00840514, 13.86694821, 10.75252778, 10.09948525,\n",
       "       13.34750987,  8.26268334,  7.27720009,  9.65464023,  9.39445504,\n",
       "       15.06911955,  6.55529933, 11.59893196, 10.53620599, 13.21433875,\n",
       "       13.73684684, 10.86830744, 12.90973424,  8.96035524, 11.39638254,\n",
       "        9.46224891,  8.19812128,  3.18893532,  2.42711598, 11.75560157,\n",
       "       10.10121498,  7.23246973, 11.95490818,  9.49781701,  9.12115491,\n",
       "       16.31888073, 10.06247503, 11.12752377, 12.3971719 , 10.82878704,\n",
       "       12.33103047, 12.56908552, 16.80910715, 10.73244573,  7.04591659,\n",
       "       10.62782469, 10.88901271,  9.24871879, 11.47683768, 12.98251732,\n",
       "       12.0359097 ,  7.71554352, 13.36321126,  8.48776049, 10.72701873,\n",
       "        9.77354818,  9.08884543, 14.42264137, 10.56166404,  7.94058247,\n",
       "        9.07408879, 11.90109378, 15.09828492,  9.25021251,  7.95578329,\n",
       "        2.79178036,  8.36956062, 14.50147291,  2.91117278, 14.15964995,\n",
       "       10.40503527, 11.43274196, 14.87707361,  3.83493195, 10.60422477,\n",
       "       10.62545015, 10.54728109, 12.27426532,  4.71797657, 10.99462429,\n",
       "        8.24263575,  4.45094378, 10.01636234, 14.54434606, 13.0141758 ,\n",
       "       13.50164976,  4.26669852, 12.33800501, 14.20414112, 13.91145664,\n",
       "       11.20034588, 13.17973806,  7.65126536, 11.01466771, 11.26059792,\n",
       "       11.44193854,  9.97755088,  9.30755322, 10.32503999,  6.36756319,\n",
       "       10.40395223, 10.94205617, 11.26692702, 13.57345404, 15.43756692,\n",
       "       11.05008059,  9.58426353, 11.55406896, 12.98381461,  9.66035817,\n",
       "       14.66449262,  3.02596778,  8.90890938,  2.46225759, 11.20034251,\n",
       "       14.58733664, 14.35833282, 10.9453763 , 12.84462065, 13.43216669,\n",
       "       10.78132467, 10.23570768, 11.33781358,  9.85568104, 10.87489504,\n",
       "       12.69566374,  8.86072212, 10.79691619, 15.38808304,  9.69646309,\n",
       "       12.84289281, 13.41860937, 14.32126508,  8.58014091, 10.66939458,\n",
       "       14.96808783, 11.84721418, 10.93619356, 11.45906382,  7.46983195,\n",
       "        8.19654475, 14.31590082, 15.15737607, 15.36053646, 11.54332279,\n",
       "       14.93945268, 10.92140485,  8.78898969, 10.76526945,  9.93169808,\n",
       "        8.94399003, 14.10559917, 14.02228905,  5.8872864 , 16.0681952 ,\n",
       "       14.61590586, 11.56542918,  2.97196307, 14.15051042, 11.45321232,\n",
       "       10.44116662, 11.33306798, 10.80599203, 12.34617695,  9.70627672,\n",
       "        9.70160081, 10.26310758, 14.29582836,  9.94585006, 13.53883907,\n",
       "       10.74366853, 11.0188938 ,  7.0650621 , 14.32207211,  7.85925828,\n",
       "        7.62401345, 14.38744947,  9.98362818,  9.32668795,  3.24655451,\n",
       "        9.18173396, 11.34981663,  9.08582411,  3.55340271, 12.58450304,\n",
       "       10.26619796, 13.53280303, 10.81076845, 13.11294326, 12.44884756,\n",
       "       16.50552026, 11.80790579,  7.80375919,  9.68752223, 14.94919893,\n",
       "        3.17167866, 10.29134111,  7.51759189, 16.27884673, 15.58248658,\n",
       "       11.69522858, 14.51294298, 10.70976627,  8.90698431, 12.39582875,\n",
       "        9.00917038,  4.7133929 , 10.1553327 ,  7.79643823, 10.5430561 ,\n",
       "       10.11821446,  4.32585933,  5.58099468, 12.76227494,  9.27110983,\n",
       "       10.70282921, 12.93093201, 11.95318176, 14.10291277, 14.59320167,\n",
       "       11.041458  , 10.69525016, 10.71396781, 10.70049884,  9.71454   ,\n",
       "       15.21581323, 12.16015023,  9.63258634,  7.82516909, 11.71444259,\n",
       "        9.95122317, 10.29195721, 14.9202044 , 11.65106842, 12.97962829,\n",
       "       10.33830989,  5.03810853,  8.12969088, 15.38944011, 12.77847118,\n",
       "       10.65564571, 12.72258069,  9.32225781, 11.53005692,  4.59843316,\n",
       "       10.00234437, 10.49202137,  3.15574828, 14.48674896,  9.10148283,\n",
       "       10.4629908 ,  3.22112484,  5.42045115,  9.09547912, 11.10883549,\n",
       "       12.13096648,  4.68511007,  7.37024924, 10.40726804, 10.22014472,\n",
       "       10.51334506, 13.66548699,  9.43524894, 14.91438876, 13.04579921,\n",
       "        7.89796474, 10.70233486, 11.6535842 ,  8.88097279,  9.94661027,\n",
       "       14.55218919, 12.94757464, 12.58546122,  7.73598318, 15.29998205,\n",
       "       10.73094692, 10.43101506, 10.93654114,  9.26071779,  4.62936552,\n",
       "       10.26283704,  8.50433602, 16.28109894,  8.78787595,  2.82696933,\n",
       "        2.51765898,  9.40748963, 12.91562186,  7.84919708,  8.25544963,\n",
       "        9.84204472, 14.73826607, 12.49157148, 14.77165343, 14.5391841 ,\n",
       "       12.46349641, 14.52095626,  9.64756343,  8.69862245, 13.56636957,\n",
       "       12.98905711, 11.15243336, 15.44803996, 10.96059661,  5.25294551,\n",
       "        9.6175017 , 10.66131591, 15.19992473,  4.14539636, 11.71260721,\n",
       "       15.48960151,  9.84348969,  7.49653756, 10.47968814,  4.9818254 ,\n",
       "        8.64425005, 13.5290297 , 13.58145672, 11.32784959,  8.25781174,\n",
       "       10.92801509,  2.99836425, 11.7993885 , 10.62013834,  9.40598371,\n",
       "        9.63093283, 14.57365157, 15.41003032, 14.48670179,  2.83850682,\n",
       "       14.58716364,  6.093263  , 14.25595031, 14.68132736, 12.62236027,\n",
       "       10.0984049 ,  8.08311697, 14.7403691 ,  9.91925143, 14.09182462,\n",
       "        9.69777637,  9.75174814,  2.81757204, 12.69309546, 11.6806746 ,\n",
       "       10.29836354,  6.12925975, 16.60141198,  8.92063392,  9.20809963,\n",
       "        9.5175226 ,  7.30733915,  4.05830161,  9.59184994, 13.44887843,\n",
       "       10.79613503, 11.84292488, 10.10673421, 11.11065104, 10.99908524,\n",
       "       11.89648072, 15.60651902, 10.8213024 , 12.34234028,  8.35988844,\n",
       "        2.91736753, 14.57602763,  3.05945598,  6.56279613,  4.51357264,\n",
       "        9.58336867,  9.30272179,  3.77370557, 12.77403393, 15.59325389,\n",
       "        9.93840649, 13.88584489,  2.31319916, 12.70696058, 10.19328147,\n",
       "        3.24912118,  3.93639907, 14.00310097,  4.90144358,  4.1639284 ,\n",
       "        8.57279817, 10.2289564 ,  9.1758641 , 14.67847743,  5.43896763,\n",
       "        9.55138322, 11.00993739,  1.91016662,  8.68499646,  4.88372374,\n",
       "       10.77559821, 12.60515934, 14.22616081, 10.98727366,  9.4289774 ,\n",
       "       11.13531059, 10.34916583,  1.95289342, 13.37200242, 11.05094483,\n",
       "        2.85851975, 12.57168762, 11.12181449,  9.09509878,  7.5043242 ,\n",
       "       10.99719133,  1.9270311 , 15.24711484, 12.92034836, 14.64286986,\n",
       "        3.04018198, 13.30654109, 10.47507669,  9.95679178, 15.39881706,\n",
       "        9.461672  ,  8.9910356 ,  4.33286603, 11.7285693 ,  9.76775519,\n",
       "        9.08777332, 10.08426541, 14.7051736 ,  5.93203201,  8.98198233,\n",
       "        3.18008201,  9.97232803,  8.6199222 , 11.80850569, 13.04235386,\n",
       "        3.03535041,  7.95739791, 11.27949073, 14.52295125, 11.68848322,\n",
       "        9.3493227 , 11.29554189,  9.96065704,  2.52339871,  9.76141994,\n",
       "       10.24971099, 10.2957884 , 10.70808015, 15.66340933, 10.66269915,\n",
       "       13.82071889,  3.07235642,  3.23696812, 12.15831041, 16.00548432,\n",
       "        9.78620824, 11.61728754, 10.93394353, 15.03947548, 13.29552293,\n",
       "        8.9692295 , 10.3279177 ,  7.05520164,  4.83700764, 15.54917009,\n",
       "        8.08938643, 10.15736409,  8.47623166,  9.85268592, 10.40059761,\n",
       "       10.2016799 ,  7.83950866, 14.69596087, 12.13880713, 12.69928927])"
      ]
     },
     "execution_count": 31,
     "metadata": {},
     "output_type": "execute_result"
    }
   ],
   "source": [
    "pred"
   ]
  },
  {
   "cell_type": "code",
   "execution_count": 32,
   "metadata": {
    "id": "p1zmqIHBWPtm"
   },
   "outputs": [],
   "source": [
    "from sklearn.metrics import mean_squared_error"
   ]
  },
  {
   "cell_type": "code",
   "execution_count": 33,
   "metadata": {
    "id": "54mCsUedW9qn"
   },
   "outputs": [],
   "source": [
    "accuracy_train = []\n",
    "accuracy_test = []\n",
    "model_name = []"
   ]
  },
  {
   "cell_type": "code",
   "execution_count": 34,
   "metadata": {
    "colab": {
     "base_uri": "https://localhost:8080/"
    },
    "id": "mq-KQOB8XDMr",
    "outputId": "e8afaa9b-0d2a-4c8c-8aea-22a31dfaa755"
   },
   "outputs": [
    {
     "name": "stdout",
     "output_type": "stream",
     "text": [
      "Train Accuracy:  70.2639936651545\n"
     ]
    }
   ],
   "source": [
    "predict_linear_train = reg.predict(Xtrain)\n",
    "MSE_linear_train = ( mean_squared_error(ytrain, predict_linear_train)  )\n",
    "\n",
    "accuracy_linear_train = 100 - MSE_linear_train\n",
    "print(\"Train Accuracy: \", accuracy_linear_train)"
   ]
  },
  {
   "cell_type": "code",
   "execution_count": 35,
   "metadata": {
    "colab": {
     "base_uri": "https://localhost:8080/"
    },
    "id": "23O-e3AfXGXw",
    "outputId": "82308349-2e2d-4a92-8f3c-ee0a51f3f6d9"
   },
   "outputs": [
    {
     "name": "stdout",
     "output_type": "stream",
     "text": [
      "Test Accuracy:  71.24071179093892\n"
     ]
    }
   ],
   "source": [
    "predict_linear_test = reg.predict(Xtest)\n",
    "MSE_linear_test = ( mean_squared_error(ytest, predict_linear_test)  )\n",
    "accuracy_linear_test = 100 - MSE_linear_test\n",
    "print(\"Test Accuracy: \", accuracy_linear_test)\n",
    "\n",
    "accuracy_train.append( accuracy_linear_train )\n",
    "accuracy_test.append( accuracy_linear_test )\n",
    "model_name.append('Linear Regression')"
   ]
  },
  {
   "cell_type": "code",
   "execution_count": 36,
   "metadata": {
    "id": "_20GjXQ4XLHS"
   },
   "outputs": [],
   "source": [
    "from sklearn.tree import DecisionTreeClassifier"
   ]
  },
  {
   "cell_type": "code",
   "execution_count": 37,
   "metadata": {
    "id": "m6q0sfD8aHXe"
   },
   "outputs": [],
   "source": [
    "from sklearn.pipeline import make_pipeline"
   ]
  },
  {
   "cell_type": "code",
   "execution_count": 38,
   "metadata": {
    "id": "VgrLbPRkaT5w"
   },
   "outputs": [],
   "source": [
    "dt_pipeline = make_pipeline(DecisionTreeClassifier(criterion=\"entropy\", random_state=2, max_depth=5))"
   ]
  },
  {
   "cell_type": "code",
   "execution_count": 39,
   "metadata": {
    "colab": {
     "base_uri": "https://localhost:8080/",
     "height": 91
    },
    "id": "dKZkufxNa8u7",
    "outputId": "43d1ec30-1d1d-44df-88d5-434171cfbdd6"
   },
   "outputs": [
    {
     "data": {
      "text/plain": [
       "Pipeline(steps=[('decisiontreeclassifier',\n",
       "                 DecisionTreeClassifier(criterion='entropy', max_depth=5,\n",
       "                                        random_state=2))])"
      ]
     },
     "execution_count": 39,
     "metadata": {},
     "output_type": "execute_result"
    }
   ],
   "source": [
    "dt_pipeline.fit(Xtrain,ytrain)"
   ]
  },
  {
   "cell_type": "code",
   "execution_count": 40,
   "metadata": {
    "id": "UJO9Kh7ObHLQ"
   },
   "outputs": [],
   "source": [
    "from sklearn.metrics import accuracy_score"
   ]
  },
  {
   "cell_type": "code",
   "execution_count": 41,
   "metadata": {
    "colab": {
     "base_uri": "https://localhost:8080/"
    },
    "id": "i8FmKs2ibdms",
    "outputId": "5f6dfc01-23ab-4e10-c882-359cdb0f59ba"
   },
   "outputs": [
    {
     "name": "stdout",
     "output_type": "stream",
     "text": [
      "Train Accuracy: 76.818182%\n"
     ]
    }
   ],
   "source": [
    "decision_pred_train = dt_pipeline.predict(Xtrain)\n",
    "decision_accuracy_train = accuracy_score(ytrain, decision_pred_train)\n",
    "print(f\"Train Accuracy: {decision_accuracy_train * 100:2f}%\")"
   ]
  },
  {
   "cell_type": "code",
   "execution_count": 42,
   "metadata": {
    "colab": {
     "base_uri": "https://localhost:8080/"
    },
    "id": "S3tWSW4NcwuV",
    "outputId": "3af7d11a-8426-4728-b306-aca2fc675ab5"
   },
   "outputs": [
    {
     "name": "stdout",
     "output_type": "stream",
     "text": [
      "Test Accuracy: 73.484848%\n"
     ]
    }
   ],
   "source": [
    "decision_pred_test = dt_pipeline.predict(Xtest)\n",
    "decision_accuracy_test = accuracy_score(ytest, decision_pred_test)\n",
    "print(f\"Test Accuracy: {decision_accuracy_test * 100:2f}%\")"
   ]
  },
  {
   "cell_type": "code",
   "execution_count": 43,
   "metadata": {
    "id": "HYL948kGgtXo"
   },
   "outputs": [],
   "source": [
    "accuracy_train.append( (decision_accuracy_train) * 100 )\n",
    "accuracy_test.append( (decision_accuracy_test) * 100 )\n",
    "model_name.append('Decision Tree')"
   ]
  },
  {
   "cell_type": "code",
   "execution_count": 44,
   "metadata": {
    "colab": {
     "base_uri": "https://localhost:8080/",
     "height": 112
    },
    "id": "8QEZcl8vebep",
    "outputId": "d98a5377-ee82-456a-f50f-793319b20574"
   },
   "outputs": [
    {
     "data": {
      "text/html": [
       "<div>\n",
       "<style scoped>\n",
       "    .dataframe tbody tr th:only-of-type {\n",
       "        vertical-align: middle;\n",
       "    }\n",
       "\n",
       "    .dataframe tbody tr th {\n",
       "        vertical-align: top;\n",
       "    }\n",
       "\n",
       "    .dataframe thead th {\n",
       "        text-align: right;\n",
       "    }\n",
       "</style>\n",
       "<table border=\"1\" class=\"dataframe\">\n",
       "  <thead>\n",
       "    <tr style=\"text-align: right;\">\n",
       "      <th></th>\n",
       "      <th>model_name</th>\n",
       "      <th>accuracy_train</th>\n",
       "      <th>accuracy_test</th>\n",
       "    </tr>\n",
       "  </thead>\n",
       "  <tbody>\n",
       "    <tr>\n",
       "      <th>0</th>\n",
       "      <td>Linear Regression</td>\n",
       "      <td>70.263994</td>\n",
       "      <td>71.240712</td>\n",
       "    </tr>\n",
       "    <tr>\n",
       "      <th>1</th>\n",
       "      <td>Decision Tree</td>\n",
       "      <td>76.818182</td>\n",
       "      <td>73.484848</td>\n",
       "    </tr>\n",
       "  </tbody>\n",
       "</table>\n",
       "</div>"
      ],
      "text/plain": [
       "          model_name  accuracy_train  accuracy_test\n",
       "0  Linear Regression       70.263994      71.240712\n",
       "1      Decision Tree       76.818182      73.484848"
      ]
     },
     "execution_count": 44,
     "metadata": {},
     "output_type": "execute_result"
    }
   ],
   "source": [
    "dftable = pd.DataFrame(columns={'accuracy_train', 'accuracy_test', 'model_name'})\n",
    "dftable['accuracy_train'] = accuracy_train\n",
    "dftable['accuracy_test'] = accuracy_test\n",
    "dftable['model_name'] = model_name\n",
    "dftable = dftable[['model_name', 'accuracy_train', 'accuracy_test']]\n",
    "dftable"
   ]
  }
 ],
 "metadata": {
  "colab": {
   "provenance": []
  },
  "kernelspec": {
   "display_name": "Python 3 (ipykernel)",
   "language": "python",
   "name": "python3"
  },
  "language_info": {
   "codemirror_mode": {
    "name": "ipython",
    "version": 3
   },
   "file_extension": ".py",
   "mimetype": "text/x-python",
   "name": "python",
   "nbconvert_exporter": "python",
   "pygments_lexer": "ipython3",
   "version": "3.9.13"
  }
 },
 "nbformat": 4,
 "nbformat_minor": 1
}
