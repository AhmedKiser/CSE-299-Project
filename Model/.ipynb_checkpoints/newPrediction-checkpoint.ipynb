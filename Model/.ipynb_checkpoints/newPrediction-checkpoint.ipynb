{
 "cells": [
  {
   "cell_type": "code",
   "execution_count": 5,
   "metadata": {
    "id": "sIBFhh_xGici"
   },
   "outputs": [],
   "source": [
    "#import lib\n",
    "import numpy as np\n",
    "import matplotlib.pyplot as plt\n",
    "import pandas as pd"
   ]
  },
  {
   "cell_type": "code",
   "execution_count": 6,
   "metadata": {
    "id": "r_NE9GiJGn9h"
   },
   "outputs": [],
   "source": [
    "df=pd.read_csv('Crop_recommendation.csv')"
   ]
  },
  {
   "cell_type": "code",
   "execution_count": 7,
   "metadata": {
    "colab": {
     "base_uri": "https://localhost:8080/",
     "height": 423
    },
    "id": "ugiMfJazHPHT",
    "outputId": "75a4838f-b307-4bec-948d-460d64b7c6a7"
   },
   "outputs": [
    {
     "data": {
      "text/html": [
       "<div>\n",
       "<style scoped>\n",
       "    .dataframe tbody tr th:only-of-type {\n",
       "        vertical-align: middle;\n",
       "    }\n",
       "\n",
       "    .dataframe tbody tr th {\n",
       "        vertical-align: top;\n",
       "    }\n",
       "\n",
       "    .dataframe thead th {\n",
       "        text-align: right;\n",
       "    }\n",
       "</style>\n",
       "<table border=\"1\" class=\"dataframe\">\n",
       "  <thead>\n",
       "    <tr style=\"text-align: right;\">\n",
       "      <th></th>\n",
       "      <th>N</th>\n",
       "      <th>P</th>\n",
       "      <th>K</th>\n",
       "      <th>temperature</th>\n",
       "      <th>humidity</th>\n",
       "      <th>ph</th>\n",
       "      <th>rainfall</th>\n",
       "      <th>label</th>\n",
       "    </tr>\n",
       "  </thead>\n",
       "  <tbody>\n",
       "    <tr>\n",
       "      <th>0</th>\n",
       "      <td>90</td>\n",
       "      <td>42</td>\n",
       "      <td>43</td>\n",
       "      <td>20.879744</td>\n",
       "      <td>82.002744</td>\n",
       "      <td>6.502985</td>\n",
       "      <td>202.935536</td>\n",
       "      <td>rice</td>\n",
       "    </tr>\n",
       "    <tr>\n",
       "      <th>1</th>\n",
       "      <td>85</td>\n",
       "      <td>58</td>\n",
       "      <td>41</td>\n",
       "      <td>21.770462</td>\n",
       "      <td>80.319644</td>\n",
       "      <td>7.038096</td>\n",
       "      <td>226.655537</td>\n",
       "      <td>rice</td>\n",
       "    </tr>\n",
       "    <tr>\n",
       "      <th>2</th>\n",
       "      <td>60</td>\n",
       "      <td>55</td>\n",
       "      <td>44</td>\n",
       "      <td>23.004459</td>\n",
       "      <td>82.320763</td>\n",
       "      <td>7.840207</td>\n",
       "      <td>263.964248</td>\n",
       "      <td>rice</td>\n",
       "    </tr>\n",
       "    <tr>\n",
       "      <th>3</th>\n",
       "      <td>74</td>\n",
       "      <td>35</td>\n",
       "      <td>40</td>\n",
       "      <td>26.491096</td>\n",
       "      <td>80.158363</td>\n",
       "      <td>6.980401</td>\n",
       "      <td>242.864034</td>\n",
       "      <td>rice</td>\n",
       "    </tr>\n",
       "    <tr>\n",
       "      <th>4</th>\n",
       "      <td>78</td>\n",
       "      <td>42</td>\n",
       "      <td>42</td>\n",
       "      <td>20.130175</td>\n",
       "      <td>81.604873</td>\n",
       "      <td>7.628473</td>\n",
       "      <td>262.717340</td>\n",
       "      <td>rice</td>\n",
       "    </tr>\n",
       "    <tr>\n",
       "      <th>...</th>\n",
       "      <td>...</td>\n",
       "      <td>...</td>\n",
       "      <td>...</td>\n",
       "      <td>...</td>\n",
       "      <td>...</td>\n",
       "      <td>...</td>\n",
       "      <td>...</td>\n",
       "      <td>...</td>\n",
       "    </tr>\n",
       "    <tr>\n",
       "      <th>2195</th>\n",
       "      <td>107</td>\n",
       "      <td>34</td>\n",
       "      <td>32</td>\n",
       "      <td>26.774637</td>\n",
       "      <td>66.413269</td>\n",
       "      <td>6.780064</td>\n",
       "      <td>177.774507</td>\n",
       "      <td>coffee</td>\n",
       "    </tr>\n",
       "    <tr>\n",
       "      <th>2196</th>\n",
       "      <td>99</td>\n",
       "      <td>15</td>\n",
       "      <td>27</td>\n",
       "      <td>27.417112</td>\n",
       "      <td>56.636362</td>\n",
       "      <td>6.086922</td>\n",
       "      <td>127.924610</td>\n",
       "      <td>coffee</td>\n",
       "    </tr>\n",
       "    <tr>\n",
       "      <th>2197</th>\n",
       "      <td>118</td>\n",
       "      <td>33</td>\n",
       "      <td>30</td>\n",
       "      <td>24.131797</td>\n",
       "      <td>67.225123</td>\n",
       "      <td>6.362608</td>\n",
       "      <td>173.322839</td>\n",
       "      <td>coffee</td>\n",
       "    </tr>\n",
       "    <tr>\n",
       "      <th>2198</th>\n",
       "      <td>117</td>\n",
       "      <td>32</td>\n",
       "      <td>34</td>\n",
       "      <td>26.272418</td>\n",
       "      <td>52.127394</td>\n",
       "      <td>6.758793</td>\n",
       "      <td>127.175293</td>\n",
       "      <td>coffee</td>\n",
       "    </tr>\n",
       "    <tr>\n",
       "      <th>2199</th>\n",
       "      <td>104</td>\n",
       "      <td>18</td>\n",
       "      <td>30</td>\n",
       "      <td>23.603016</td>\n",
       "      <td>60.396475</td>\n",
       "      <td>6.779833</td>\n",
       "      <td>140.937041</td>\n",
       "      <td>coffee</td>\n",
       "    </tr>\n",
       "  </tbody>\n",
       "</table>\n",
       "<p>2200 rows × 8 columns</p>\n",
       "</div>"
      ],
      "text/plain": [
       "        N   P   K  temperature   humidity        ph    rainfall   label\n",
       "0      90  42  43    20.879744  82.002744  6.502985  202.935536    rice\n",
       "1      85  58  41    21.770462  80.319644  7.038096  226.655537    rice\n",
       "2      60  55  44    23.004459  82.320763  7.840207  263.964248    rice\n",
       "3      74  35  40    26.491096  80.158363  6.980401  242.864034    rice\n",
       "4      78  42  42    20.130175  81.604873  7.628473  262.717340    rice\n",
       "...   ...  ..  ..          ...        ...       ...         ...     ...\n",
       "2195  107  34  32    26.774637  66.413269  6.780064  177.774507  coffee\n",
       "2196   99  15  27    27.417112  56.636362  6.086922  127.924610  coffee\n",
       "2197  118  33  30    24.131797  67.225123  6.362608  173.322839  coffee\n",
       "2198  117  32  34    26.272418  52.127394  6.758793  127.175293  coffee\n",
       "2199  104  18  30    23.603016  60.396475  6.779833  140.937041  coffee\n",
       "\n",
       "[2200 rows x 8 columns]"
      ]
     },
     "execution_count": 7,
     "metadata": {},
     "output_type": "execute_result"
    }
   ],
   "source": [
    "df"
   ]
  },
  {
   "cell_type": "code",
   "execution_count": 8,
   "metadata": {
    "colab": {
     "base_uri": "https://localhost:8080/"
    },
    "id": "uDhdAYHoHZ2b",
    "outputId": "ec5b435f-d35e-40a6-8049-6b17b749aab8"
   },
   "outputs": [
    {
     "data": {
      "text/plain": [
       "(2200, 8)"
      ]
     },
     "execution_count": 8,
     "metadata": {},
     "output_type": "execute_result"
    }
   ],
   "source": [
    "df.shape"
   ]
  },
  {
   "cell_type": "code",
   "execution_count": 9,
   "metadata": {
    "colab": {
     "base_uri": "https://localhost:8080/"
    },
    "id": "iOELF8ekHdrs",
    "outputId": "8f9a5c5f-8ab5-4ab5-c3cd-4c970a5016f3"
   },
   "outputs": [
    {
     "data": {
      "text/plain": [
       "N              0\n",
       "P              0\n",
       "K              0\n",
       "temperature    0\n",
       "humidity       0\n",
       "ph             0\n",
       "rainfall       0\n",
       "label          0\n",
       "dtype: int64"
      ]
     },
     "execution_count": 9,
     "metadata": {},
     "output_type": "execute_result"
    }
   ],
   "source": [
    "df.isnull().sum()"
   ]
  },
  {
   "cell_type": "code",
   "execution_count": 10,
   "metadata": {
    "id": "LiTlBJ1IHiJ_"
   },
   "outputs": [],
   "source": [
    "X=df.drop(['temperature','rainfall','label'],axis=1)"
   ]
  },
  {
   "cell_type": "code",
   "execution_count": 11,
   "metadata": {
    "id": "bdQHeiQiICRX"
   },
   "outputs": [],
   "source": [
    "y=df['label']"
   ]
  },
  {
   "cell_type": "code",
   "execution_count": 12,
   "metadata": {
    "colab": {
     "base_uri": "https://localhost:8080/",
     "height": 423
    },
    "id": "azAtZad-IF9n",
    "outputId": "4c9b4932-0f10-4d75-a100-3216c6dc5553"
   },
   "outputs": [
    {
     "data": {
      "text/html": [
       "<div>\n",
       "<style scoped>\n",
       "    .dataframe tbody tr th:only-of-type {\n",
       "        vertical-align: middle;\n",
       "    }\n",
       "\n",
       "    .dataframe tbody tr th {\n",
       "        vertical-align: top;\n",
       "    }\n",
       "\n",
       "    .dataframe thead th {\n",
       "        text-align: right;\n",
       "    }\n",
       "</style>\n",
       "<table border=\"1\" class=\"dataframe\">\n",
       "  <thead>\n",
       "    <tr style=\"text-align: right;\">\n",
       "      <th></th>\n",
       "      <th>N</th>\n",
       "      <th>P</th>\n",
       "      <th>K</th>\n",
       "      <th>humidity</th>\n",
       "      <th>ph</th>\n",
       "    </tr>\n",
       "  </thead>\n",
       "  <tbody>\n",
       "    <tr>\n",
       "      <th>0</th>\n",
       "      <td>90</td>\n",
       "      <td>42</td>\n",
       "      <td>43</td>\n",
       "      <td>82.002744</td>\n",
       "      <td>6.502985</td>\n",
       "    </tr>\n",
       "    <tr>\n",
       "      <th>1</th>\n",
       "      <td>85</td>\n",
       "      <td>58</td>\n",
       "      <td>41</td>\n",
       "      <td>80.319644</td>\n",
       "      <td>7.038096</td>\n",
       "    </tr>\n",
       "    <tr>\n",
       "      <th>2</th>\n",
       "      <td>60</td>\n",
       "      <td>55</td>\n",
       "      <td>44</td>\n",
       "      <td>82.320763</td>\n",
       "      <td>7.840207</td>\n",
       "    </tr>\n",
       "    <tr>\n",
       "      <th>3</th>\n",
       "      <td>74</td>\n",
       "      <td>35</td>\n",
       "      <td>40</td>\n",
       "      <td>80.158363</td>\n",
       "      <td>6.980401</td>\n",
       "    </tr>\n",
       "    <tr>\n",
       "      <th>4</th>\n",
       "      <td>78</td>\n",
       "      <td>42</td>\n",
       "      <td>42</td>\n",
       "      <td>81.604873</td>\n",
       "      <td>7.628473</td>\n",
       "    </tr>\n",
       "    <tr>\n",
       "      <th>...</th>\n",
       "      <td>...</td>\n",
       "      <td>...</td>\n",
       "      <td>...</td>\n",
       "      <td>...</td>\n",
       "      <td>...</td>\n",
       "    </tr>\n",
       "    <tr>\n",
       "      <th>2195</th>\n",
       "      <td>107</td>\n",
       "      <td>34</td>\n",
       "      <td>32</td>\n",
       "      <td>66.413269</td>\n",
       "      <td>6.780064</td>\n",
       "    </tr>\n",
       "    <tr>\n",
       "      <th>2196</th>\n",
       "      <td>99</td>\n",
       "      <td>15</td>\n",
       "      <td>27</td>\n",
       "      <td>56.636362</td>\n",
       "      <td>6.086922</td>\n",
       "    </tr>\n",
       "    <tr>\n",
       "      <th>2197</th>\n",
       "      <td>118</td>\n",
       "      <td>33</td>\n",
       "      <td>30</td>\n",
       "      <td>67.225123</td>\n",
       "      <td>6.362608</td>\n",
       "    </tr>\n",
       "    <tr>\n",
       "      <th>2198</th>\n",
       "      <td>117</td>\n",
       "      <td>32</td>\n",
       "      <td>34</td>\n",
       "      <td>52.127394</td>\n",
       "      <td>6.758793</td>\n",
       "    </tr>\n",
       "    <tr>\n",
       "      <th>2199</th>\n",
       "      <td>104</td>\n",
       "      <td>18</td>\n",
       "      <td>30</td>\n",
       "      <td>60.396475</td>\n",
       "      <td>6.779833</td>\n",
       "    </tr>\n",
       "  </tbody>\n",
       "</table>\n",
       "<p>2200 rows × 5 columns</p>\n",
       "</div>"
      ],
      "text/plain": [
       "        N   P   K   humidity        ph\n",
       "0      90  42  43  82.002744  6.502985\n",
       "1      85  58  41  80.319644  7.038096\n",
       "2      60  55  44  82.320763  7.840207\n",
       "3      74  35  40  80.158363  6.980401\n",
       "4      78  42  42  81.604873  7.628473\n",
       "...   ...  ..  ..        ...       ...\n",
       "2195  107  34  32  66.413269  6.780064\n",
       "2196   99  15  27  56.636362  6.086922\n",
       "2197  118  33  30  67.225123  6.362608\n",
       "2198  117  32  34  52.127394  6.758793\n",
       "2199  104  18  30  60.396475  6.779833\n",
       "\n",
       "[2200 rows x 5 columns]"
      ]
     },
     "execution_count": 12,
     "metadata": {},
     "output_type": "execute_result"
    }
   ],
   "source": [
    "X"
   ]
  },
  {
   "cell_type": "code",
   "execution_count": 13,
   "metadata": {
    "colab": {
     "base_uri": "https://localhost:8080/"
    },
    "id": "eonyF41FIJCn",
    "outputId": "313bf489-f57d-452f-bfc2-1533a6a94cee"
   },
   "outputs": [
    {
     "data": {
      "text/plain": [
       "0         rice\n",
       "1         rice\n",
       "2         rice\n",
       "3         rice\n",
       "4         rice\n",
       "         ...  \n",
       "2195    coffee\n",
       "2196    coffee\n",
       "2197    coffee\n",
       "2198    coffee\n",
       "2199    coffee\n",
       "Name: label, Length: 2200, dtype: object"
      ]
     },
     "execution_count": 13,
     "metadata": {},
     "output_type": "execute_result"
    }
   ],
   "source": [
    "y"
   ]
  },
  {
   "cell_type": "code",
   "execution_count": 14,
   "metadata": {
    "id": "9-aaYap5IL29"
   },
   "outputs": [],
   "source": [
    "xdf = df.copy()"
   ]
  },
  {
   "cell_type": "code",
   "execution_count": 15,
   "metadata": {
    "colab": {
     "base_uri": "https://localhost:8080/",
     "height": 423
    },
    "id": "YMQYg6gHIUEE",
    "outputId": "6a3625c3-e578-4672-8b6f-1b27960f6582"
   },
   "outputs": [
    {
     "data": {
      "text/html": [
       "<div>\n",
       "<style scoped>\n",
       "    .dataframe tbody tr th:only-of-type {\n",
       "        vertical-align: middle;\n",
       "    }\n",
       "\n",
       "    .dataframe tbody tr th {\n",
       "        vertical-align: top;\n",
       "    }\n",
       "\n",
       "    .dataframe thead th {\n",
       "        text-align: right;\n",
       "    }\n",
       "</style>\n",
       "<table border=\"1\" class=\"dataframe\">\n",
       "  <thead>\n",
       "    <tr style=\"text-align: right;\">\n",
       "      <th></th>\n",
       "      <th>N</th>\n",
       "      <th>P</th>\n",
       "      <th>K</th>\n",
       "      <th>temperature</th>\n",
       "      <th>humidity</th>\n",
       "      <th>ph</th>\n",
       "      <th>rainfall</th>\n",
       "      <th>label</th>\n",
       "    </tr>\n",
       "  </thead>\n",
       "  <tbody>\n",
       "    <tr>\n",
       "      <th>0</th>\n",
       "      <td>90</td>\n",
       "      <td>42</td>\n",
       "      <td>43</td>\n",
       "      <td>20.879744</td>\n",
       "      <td>82.002744</td>\n",
       "      <td>6.502985</td>\n",
       "      <td>202.935536</td>\n",
       "      <td>rice</td>\n",
       "    </tr>\n",
       "    <tr>\n",
       "      <th>1</th>\n",
       "      <td>85</td>\n",
       "      <td>58</td>\n",
       "      <td>41</td>\n",
       "      <td>21.770462</td>\n",
       "      <td>80.319644</td>\n",
       "      <td>7.038096</td>\n",
       "      <td>226.655537</td>\n",
       "      <td>rice</td>\n",
       "    </tr>\n",
       "    <tr>\n",
       "      <th>2</th>\n",
       "      <td>60</td>\n",
       "      <td>55</td>\n",
       "      <td>44</td>\n",
       "      <td>23.004459</td>\n",
       "      <td>82.320763</td>\n",
       "      <td>7.840207</td>\n",
       "      <td>263.964248</td>\n",
       "      <td>rice</td>\n",
       "    </tr>\n",
       "    <tr>\n",
       "      <th>3</th>\n",
       "      <td>74</td>\n",
       "      <td>35</td>\n",
       "      <td>40</td>\n",
       "      <td>26.491096</td>\n",
       "      <td>80.158363</td>\n",
       "      <td>6.980401</td>\n",
       "      <td>242.864034</td>\n",
       "      <td>rice</td>\n",
       "    </tr>\n",
       "    <tr>\n",
       "      <th>4</th>\n",
       "      <td>78</td>\n",
       "      <td>42</td>\n",
       "      <td>42</td>\n",
       "      <td>20.130175</td>\n",
       "      <td>81.604873</td>\n",
       "      <td>7.628473</td>\n",
       "      <td>262.717340</td>\n",
       "      <td>rice</td>\n",
       "    </tr>\n",
       "    <tr>\n",
       "      <th>...</th>\n",
       "      <td>...</td>\n",
       "      <td>...</td>\n",
       "      <td>...</td>\n",
       "      <td>...</td>\n",
       "      <td>...</td>\n",
       "      <td>...</td>\n",
       "      <td>...</td>\n",
       "      <td>...</td>\n",
       "    </tr>\n",
       "    <tr>\n",
       "      <th>2195</th>\n",
       "      <td>107</td>\n",
       "      <td>34</td>\n",
       "      <td>32</td>\n",
       "      <td>26.774637</td>\n",
       "      <td>66.413269</td>\n",
       "      <td>6.780064</td>\n",
       "      <td>177.774507</td>\n",
       "      <td>coffee</td>\n",
       "    </tr>\n",
       "    <tr>\n",
       "      <th>2196</th>\n",
       "      <td>99</td>\n",
       "      <td>15</td>\n",
       "      <td>27</td>\n",
       "      <td>27.417112</td>\n",
       "      <td>56.636362</td>\n",
       "      <td>6.086922</td>\n",
       "      <td>127.924610</td>\n",
       "      <td>coffee</td>\n",
       "    </tr>\n",
       "    <tr>\n",
       "      <th>2197</th>\n",
       "      <td>118</td>\n",
       "      <td>33</td>\n",
       "      <td>30</td>\n",
       "      <td>24.131797</td>\n",
       "      <td>67.225123</td>\n",
       "      <td>6.362608</td>\n",
       "      <td>173.322839</td>\n",
       "      <td>coffee</td>\n",
       "    </tr>\n",
       "    <tr>\n",
       "      <th>2198</th>\n",
       "      <td>117</td>\n",
       "      <td>32</td>\n",
       "      <td>34</td>\n",
       "      <td>26.272418</td>\n",
       "      <td>52.127394</td>\n",
       "      <td>6.758793</td>\n",
       "      <td>127.175293</td>\n",
       "      <td>coffee</td>\n",
       "    </tr>\n",
       "    <tr>\n",
       "      <th>2199</th>\n",
       "      <td>104</td>\n",
       "      <td>18</td>\n",
       "      <td>30</td>\n",
       "      <td>23.603016</td>\n",
       "      <td>60.396475</td>\n",
       "      <td>6.779833</td>\n",
       "      <td>140.937041</td>\n",
       "      <td>coffee</td>\n",
       "    </tr>\n",
       "  </tbody>\n",
       "</table>\n",
       "<p>2200 rows × 8 columns</p>\n",
       "</div>"
      ],
      "text/plain": [
       "        N   P   K  temperature   humidity        ph    rainfall   label\n",
       "0      90  42  43    20.879744  82.002744  6.502985  202.935536    rice\n",
       "1      85  58  41    21.770462  80.319644  7.038096  226.655537    rice\n",
       "2      60  55  44    23.004459  82.320763  7.840207  263.964248    rice\n",
       "3      74  35  40    26.491096  80.158363  6.980401  242.864034    rice\n",
       "4      78  42  42    20.130175  81.604873  7.628473  262.717340    rice\n",
       "...   ...  ..  ..          ...        ...       ...         ...     ...\n",
       "2195  107  34  32    26.774637  66.413269  6.780064  177.774507  coffee\n",
       "2196   99  15  27    27.417112  56.636362  6.086922  127.924610  coffee\n",
       "2197  118  33  30    24.131797  67.225123  6.362608  173.322839  coffee\n",
       "2198  117  32  34    26.272418  52.127394  6.758793  127.175293  coffee\n",
       "2199  104  18  30    23.603016  60.396475  6.779833  140.937041  coffee\n",
       "\n",
       "[2200 rows x 8 columns]"
      ]
     },
     "execution_count": 15,
     "metadata": {},
     "output_type": "execute_result"
    }
   ],
   "source": [
    "xdf"
   ]
  },
  {
   "cell_type": "code",
   "execution_count": 16,
   "metadata": {
    "id": "3-WntD0cIVVP"
   },
   "outputs": [],
   "source": [
    "from sklearn.preprocessing import LabelEncoder "
   ]
  },
  {
   "cell_type": "code",
   "execution_count": 17,
   "metadata": {
    "id": "nOtC7A94I5hM"
   },
   "outputs": [],
   "source": [
    "labelencoder= LabelEncoder() "
   ]
  },
  {
   "cell_type": "code",
   "execution_count": 18,
   "metadata": {
    "id": "VG6qfY_jJI4h"
   },
   "outputs": [],
   "source": [
    "xdf['label_codes'] = labelencoder.fit_transform(xdf['label'])"
   ]
  },
  {
   "cell_type": "code",
   "execution_count": 19,
   "metadata": {
    "colab": {
     "base_uri": "https://localhost:8080/",
     "height": 423
    },
    "id": "LW0Z3wK7JXex",
    "outputId": "3e574630-b26a-4ba5-f763-8b2c217563ed"
   },
   "outputs": [
    {
     "data": {
      "text/html": [
       "<div>\n",
       "<style scoped>\n",
       "    .dataframe tbody tr th:only-of-type {\n",
       "        vertical-align: middle;\n",
       "    }\n",
       "\n",
       "    .dataframe tbody tr th {\n",
       "        vertical-align: top;\n",
       "    }\n",
       "\n",
       "    .dataframe thead th {\n",
       "        text-align: right;\n",
       "    }\n",
       "</style>\n",
       "<table border=\"1\" class=\"dataframe\">\n",
       "  <thead>\n",
       "    <tr style=\"text-align: right;\">\n",
       "      <th></th>\n",
       "      <th>N</th>\n",
       "      <th>P</th>\n",
       "      <th>K</th>\n",
       "      <th>temperature</th>\n",
       "      <th>humidity</th>\n",
       "      <th>ph</th>\n",
       "      <th>rainfall</th>\n",
       "      <th>label</th>\n",
       "      <th>label_codes</th>\n",
       "    </tr>\n",
       "  </thead>\n",
       "  <tbody>\n",
       "    <tr>\n",
       "      <th>0</th>\n",
       "      <td>90</td>\n",
       "      <td>42</td>\n",
       "      <td>43</td>\n",
       "      <td>20.879744</td>\n",
       "      <td>82.002744</td>\n",
       "      <td>6.502985</td>\n",
       "      <td>202.935536</td>\n",
       "      <td>rice</td>\n",
       "      <td>20</td>\n",
       "    </tr>\n",
       "    <tr>\n",
       "      <th>1</th>\n",
       "      <td>85</td>\n",
       "      <td>58</td>\n",
       "      <td>41</td>\n",
       "      <td>21.770462</td>\n",
       "      <td>80.319644</td>\n",
       "      <td>7.038096</td>\n",
       "      <td>226.655537</td>\n",
       "      <td>rice</td>\n",
       "      <td>20</td>\n",
       "    </tr>\n",
       "    <tr>\n",
       "      <th>2</th>\n",
       "      <td>60</td>\n",
       "      <td>55</td>\n",
       "      <td>44</td>\n",
       "      <td>23.004459</td>\n",
       "      <td>82.320763</td>\n",
       "      <td>7.840207</td>\n",
       "      <td>263.964248</td>\n",
       "      <td>rice</td>\n",
       "      <td>20</td>\n",
       "    </tr>\n",
       "    <tr>\n",
       "      <th>3</th>\n",
       "      <td>74</td>\n",
       "      <td>35</td>\n",
       "      <td>40</td>\n",
       "      <td>26.491096</td>\n",
       "      <td>80.158363</td>\n",
       "      <td>6.980401</td>\n",
       "      <td>242.864034</td>\n",
       "      <td>rice</td>\n",
       "      <td>20</td>\n",
       "    </tr>\n",
       "    <tr>\n",
       "      <th>4</th>\n",
       "      <td>78</td>\n",
       "      <td>42</td>\n",
       "      <td>42</td>\n",
       "      <td>20.130175</td>\n",
       "      <td>81.604873</td>\n",
       "      <td>7.628473</td>\n",
       "      <td>262.717340</td>\n",
       "      <td>rice</td>\n",
       "      <td>20</td>\n",
       "    </tr>\n",
       "    <tr>\n",
       "      <th>...</th>\n",
       "      <td>...</td>\n",
       "      <td>...</td>\n",
       "      <td>...</td>\n",
       "      <td>...</td>\n",
       "      <td>...</td>\n",
       "      <td>...</td>\n",
       "      <td>...</td>\n",
       "      <td>...</td>\n",
       "      <td>...</td>\n",
       "    </tr>\n",
       "    <tr>\n",
       "      <th>2195</th>\n",
       "      <td>107</td>\n",
       "      <td>34</td>\n",
       "      <td>32</td>\n",
       "      <td>26.774637</td>\n",
       "      <td>66.413269</td>\n",
       "      <td>6.780064</td>\n",
       "      <td>177.774507</td>\n",
       "      <td>coffee</td>\n",
       "      <td>5</td>\n",
       "    </tr>\n",
       "    <tr>\n",
       "      <th>2196</th>\n",
       "      <td>99</td>\n",
       "      <td>15</td>\n",
       "      <td>27</td>\n",
       "      <td>27.417112</td>\n",
       "      <td>56.636362</td>\n",
       "      <td>6.086922</td>\n",
       "      <td>127.924610</td>\n",
       "      <td>coffee</td>\n",
       "      <td>5</td>\n",
       "    </tr>\n",
       "    <tr>\n",
       "      <th>2197</th>\n",
       "      <td>118</td>\n",
       "      <td>33</td>\n",
       "      <td>30</td>\n",
       "      <td>24.131797</td>\n",
       "      <td>67.225123</td>\n",
       "      <td>6.362608</td>\n",
       "      <td>173.322839</td>\n",
       "      <td>coffee</td>\n",
       "      <td>5</td>\n",
       "    </tr>\n",
       "    <tr>\n",
       "      <th>2198</th>\n",
       "      <td>117</td>\n",
       "      <td>32</td>\n",
       "      <td>34</td>\n",
       "      <td>26.272418</td>\n",
       "      <td>52.127394</td>\n",
       "      <td>6.758793</td>\n",
       "      <td>127.175293</td>\n",
       "      <td>coffee</td>\n",
       "      <td>5</td>\n",
       "    </tr>\n",
       "    <tr>\n",
       "      <th>2199</th>\n",
       "      <td>104</td>\n",
       "      <td>18</td>\n",
       "      <td>30</td>\n",
       "      <td>23.603016</td>\n",
       "      <td>60.396475</td>\n",
       "      <td>6.779833</td>\n",
       "      <td>140.937041</td>\n",
       "      <td>coffee</td>\n",
       "      <td>5</td>\n",
       "    </tr>\n",
       "  </tbody>\n",
       "</table>\n",
       "<p>2200 rows × 9 columns</p>\n",
       "</div>"
      ],
      "text/plain": [
       "        N   P   K  temperature   humidity        ph    rainfall   label  \\\n",
       "0      90  42  43    20.879744  82.002744  6.502985  202.935536    rice   \n",
       "1      85  58  41    21.770462  80.319644  7.038096  226.655537    rice   \n",
       "2      60  55  44    23.004459  82.320763  7.840207  263.964248    rice   \n",
       "3      74  35  40    26.491096  80.158363  6.980401  242.864034    rice   \n",
       "4      78  42  42    20.130175  81.604873  7.628473  262.717340    rice   \n",
       "...   ...  ..  ..          ...        ...       ...         ...     ...   \n",
       "2195  107  34  32    26.774637  66.413269  6.780064  177.774507  coffee   \n",
       "2196   99  15  27    27.417112  56.636362  6.086922  127.924610  coffee   \n",
       "2197  118  33  30    24.131797  67.225123  6.362608  173.322839  coffee   \n",
       "2198  117  32  34    26.272418  52.127394  6.758793  127.175293  coffee   \n",
       "2199  104  18  30    23.603016  60.396475  6.779833  140.937041  coffee   \n",
       "\n",
       "      label_codes  \n",
       "0              20  \n",
       "1              20  \n",
       "2              20  \n",
       "3              20  \n",
       "4              20  \n",
       "...           ...  \n",
       "2195            5  \n",
       "2196            5  \n",
       "2197            5  \n",
       "2198            5  \n",
       "2199            5  \n",
       "\n",
       "[2200 rows x 9 columns]"
      ]
     },
     "execution_count": 19,
     "metadata": {},
     "output_type": "execute_result"
    }
   ],
   "source": [
    "xdf"
   ]
  },
  {
   "cell_type": "code",
   "execution_count": 20,
   "metadata": {
    "id": "THaPI6ETJYdK"
   },
   "outputs": [],
   "source": [
    "X = xdf.drop(['temperature','rainfall','label','label_codes'],axis = 1)"
   ]
  },
  {
   "cell_type": "code",
   "execution_count": 21,
   "metadata": {
    "id": "umkwe21yJf3z"
   },
   "outputs": [],
   "source": [
    "y = xdf['label_codes']"
   ]
  },
  {
   "cell_type": "code",
   "execution_count": 22,
   "metadata": {
    "colab": {
     "base_uri": "https://localhost:8080/",
     "height": 423
    },
    "id": "CGurSYQaJ17u",
    "outputId": "03fee9e1-d4aa-4153-c314-d3e09e99e413"
   },
   "outputs": [
    {
     "data": {
      "text/html": [
       "<div>\n",
       "<style scoped>\n",
       "    .dataframe tbody tr th:only-of-type {\n",
       "        vertical-align: middle;\n",
       "    }\n",
       "\n",
       "    .dataframe tbody tr th {\n",
       "        vertical-align: top;\n",
       "    }\n",
       "\n",
       "    .dataframe thead th {\n",
       "        text-align: right;\n",
       "    }\n",
       "</style>\n",
       "<table border=\"1\" class=\"dataframe\">\n",
       "  <thead>\n",
       "    <tr style=\"text-align: right;\">\n",
       "      <th></th>\n",
       "      <th>N</th>\n",
       "      <th>P</th>\n",
       "      <th>K</th>\n",
       "      <th>humidity</th>\n",
       "      <th>ph</th>\n",
       "    </tr>\n",
       "  </thead>\n",
       "  <tbody>\n",
       "    <tr>\n",
       "      <th>0</th>\n",
       "      <td>90</td>\n",
       "      <td>42</td>\n",
       "      <td>43</td>\n",
       "      <td>82.002744</td>\n",
       "      <td>6.502985</td>\n",
       "    </tr>\n",
       "    <tr>\n",
       "      <th>1</th>\n",
       "      <td>85</td>\n",
       "      <td>58</td>\n",
       "      <td>41</td>\n",
       "      <td>80.319644</td>\n",
       "      <td>7.038096</td>\n",
       "    </tr>\n",
       "    <tr>\n",
       "      <th>2</th>\n",
       "      <td>60</td>\n",
       "      <td>55</td>\n",
       "      <td>44</td>\n",
       "      <td>82.320763</td>\n",
       "      <td>7.840207</td>\n",
       "    </tr>\n",
       "    <tr>\n",
       "      <th>3</th>\n",
       "      <td>74</td>\n",
       "      <td>35</td>\n",
       "      <td>40</td>\n",
       "      <td>80.158363</td>\n",
       "      <td>6.980401</td>\n",
       "    </tr>\n",
       "    <tr>\n",
       "      <th>4</th>\n",
       "      <td>78</td>\n",
       "      <td>42</td>\n",
       "      <td>42</td>\n",
       "      <td>81.604873</td>\n",
       "      <td>7.628473</td>\n",
       "    </tr>\n",
       "    <tr>\n",
       "      <th>...</th>\n",
       "      <td>...</td>\n",
       "      <td>...</td>\n",
       "      <td>...</td>\n",
       "      <td>...</td>\n",
       "      <td>...</td>\n",
       "    </tr>\n",
       "    <tr>\n",
       "      <th>2195</th>\n",
       "      <td>107</td>\n",
       "      <td>34</td>\n",
       "      <td>32</td>\n",
       "      <td>66.413269</td>\n",
       "      <td>6.780064</td>\n",
       "    </tr>\n",
       "    <tr>\n",
       "      <th>2196</th>\n",
       "      <td>99</td>\n",
       "      <td>15</td>\n",
       "      <td>27</td>\n",
       "      <td>56.636362</td>\n",
       "      <td>6.086922</td>\n",
       "    </tr>\n",
       "    <tr>\n",
       "      <th>2197</th>\n",
       "      <td>118</td>\n",
       "      <td>33</td>\n",
       "      <td>30</td>\n",
       "      <td>67.225123</td>\n",
       "      <td>6.362608</td>\n",
       "    </tr>\n",
       "    <tr>\n",
       "      <th>2198</th>\n",
       "      <td>117</td>\n",
       "      <td>32</td>\n",
       "      <td>34</td>\n",
       "      <td>52.127394</td>\n",
       "      <td>6.758793</td>\n",
       "    </tr>\n",
       "    <tr>\n",
       "      <th>2199</th>\n",
       "      <td>104</td>\n",
       "      <td>18</td>\n",
       "      <td>30</td>\n",
       "      <td>60.396475</td>\n",
       "      <td>6.779833</td>\n",
       "    </tr>\n",
       "  </tbody>\n",
       "</table>\n",
       "<p>2200 rows × 5 columns</p>\n",
       "</div>"
      ],
      "text/plain": [
       "        N   P   K   humidity        ph\n",
       "0      90  42  43  82.002744  6.502985\n",
       "1      85  58  41  80.319644  7.038096\n",
       "2      60  55  44  82.320763  7.840207\n",
       "3      74  35  40  80.158363  6.980401\n",
       "4      78  42  42  81.604873  7.628473\n",
       "...   ...  ..  ..        ...       ...\n",
       "2195  107  34  32  66.413269  6.780064\n",
       "2196   99  15  27  56.636362  6.086922\n",
       "2197  118  33  30  67.225123  6.362608\n",
       "2198  117  32  34  52.127394  6.758793\n",
       "2199  104  18  30  60.396475  6.779833\n",
       "\n",
       "[2200 rows x 5 columns]"
      ]
     },
     "execution_count": 22,
     "metadata": {},
     "output_type": "execute_result"
    }
   ],
   "source": [
    "X"
   ]
  },
  {
   "cell_type": "code",
   "execution_count": 23,
   "metadata": {
    "colab": {
     "base_uri": "https://localhost:8080/"
    },
    "id": "YhXGwKhGKIC2",
    "outputId": "27d8147f-72cf-47da-9333-c1dceae5e38a"
   },
   "outputs": [
    {
     "data": {
      "text/plain": [
       "0       20\n",
       "1       20\n",
       "2       20\n",
       "3       20\n",
       "4       20\n",
       "        ..\n",
       "2195     5\n",
       "2196     5\n",
       "2197     5\n",
       "2198     5\n",
       "2199     5\n",
       "Name: label_codes, Length: 2200, dtype: int32"
      ]
     },
     "execution_count": 23,
     "metadata": {},
     "output_type": "execute_result"
    }
   ],
   "source": [
    "y"
   ]
  },
  {
   "cell_type": "code",
   "execution_count": 24,
   "metadata": {
    "colab": {
     "base_uri": "https://localhost:8080/"
    },
    "id": "qa9YEBVzRCZD",
    "outputId": "f8c7ad1c-5046-4275-991d-621893723e65"
   },
   "outputs": [
    {
     "data": {
      "text/plain": [
       "array([20, 11,  3,  9, 18, 13, 14,  2, 10, 19,  1, 12,  7, 21, 15,  0, 16,\n",
       "       17,  4,  6,  8,  5])"
      ]
     },
     "execution_count": 24,
     "metadata": {},
     "output_type": "execute_result"
    }
   ],
   "source": [
    "y.unique()"
   ]
  },
  {
   "cell_type": "code",
   "execution_count": 25,
   "metadata": {
    "id": "jWNUqkXrU-RZ"
   },
   "outputs": [],
   "source": [
    "from sklearn.model_selection import train_test_split"
   ]
  },
  {
   "cell_type": "code",
   "execution_count": 26,
   "metadata": {
    "id": "ymc0WvRiV3C-"
   },
   "outputs": [],
   "source": [
    "Xtrain, Xtest, ytrain, ytest = train_test_split(X, y, test_size=0.3)"
   ]
  },
  {
   "cell_type": "code",
   "execution_count": 27,
   "metadata": {
    "id": "_JSBCFSSV5ta"
   },
   "outputs": [],
   "source": [
    "from sklearn.linear_model import LinearRegression"
   ]
  },
  {
   "cell_type": "code",
   "execution_count": 28,
   "metadata": {
    "id": "UD7lLeUtV8ly"
   },
   "outputs": [],
   "source": [
    "reg=LinearRegression()"
   ]
  },
  {
   "cell_type": "code",
   "execution_count": 29,
   "metadata": {
    "colab": {
     "base_uri": "https://localhost:8080/",
     "height": 74
    },
    "id": "jKwRWIoYV_eA",
    "outputId": "c6b2aa26-c444-4214-bdd6-db9e2a0845bc"
   },
   "outputs": [
    {
     "data": {
      "text/plain": [
       "LinearRegression()"
      ]
     },
     "execution_count": 29,
     "metadata": {},
     "output_type": "execute_result"
    }
   ],
   "source": [
    "reg.fit(Xtrain, ytrain)"
   ]
  },
  {
   "cell_type": "code",
   "execution_count": 30,
   "metadata": {
    "colab": {
     "base_uri": "https://localhost:8080/"
    },
    "id": "aD0a1qtAWEOA",
    "outputId": "df7fef11-3d5b-4c2d-c6a6-261f29b43a7d"
   },
   "outputs": [
    {
     "data": {
      "text/plain": [
       "1940     6\n",
       "1943     6\n",
       "1980     6\n",
       "1908     6\n",
       "32      20\n",
       "        ..\n",
       "168     11\n",
       "462     18\n",
       "1441    15\n",
       "2118     5\n",
       "903     19\n",
       "Name: label_codes, Length: 660, dtype: int32"
      ]
     },
     "execution_count": 30,
     "metadata": {},
     "output_type": "execute_result"
    }
   ],
   "source": [
    "ytest"
   ]
  },
  {
   "cell_type": "code",
   "execution_count": 31,
   "metadata": {
    "id": "O9ZGmuoKWHAX"
   },
   "outputs": [],
   "source": [
    "pred=reg.predict(Xtest)"
   ]
  },
  {
   "cell_type": "code",
   "execution_count": 32,
   "metadata": {
    "colab": {
     "base_uri": "https://localhost:8080/"
    },
    "id": "D59tAjNyWNU3",
    "outputId": "a10ba206-a707-4a6f-b3ee-856f784aa495"
   },
   "outputs": [
    {
     "data": {
      "text/plain": [
       "array([10.20594612,  8.41400241,  9.44355668,  8.94405979, 11.66502998,\n",
       "       11.145387  ,  7.36604036, 16.14613114, 11.9954681 , 16.77884623,\n",
       "       16.7077745 , 10.54106874,  7.04876738, 13.33270341,  9.61329546,\n",
       "       11.52743355, 11.56822384, 10.69736651,  9.64433997,  9.48707071,\n",
       "       17.05215624, 10.79380431,  5.02975841, 17.29567169,  2.95715046,\n",
       "       10.35849305, 12.80317941,  3.59928589,  6.76627049,  8.16976349,\n",
       "        9.79145395, 11.96230731, 16.19006544,  4.58677168, 13.29679482,\n",
       "        9.27157343,  8.88634822,  9.32119499,  5.02315833, 15.09449474,\n",
       "       14.05605987, 12.96549438, 11.11941989, 16.11381929,  3.2489531 ,\n",
       "       12.63281861, 14.78664004,  3.35061059, 12.84915487, 10.5824984 ,\n",
       "        9.80909357,  9.31506341,  8.74730594, 14.94865511,  8.01473123,\n",
       "       11.75750667,  5.46702902, 12.61030018, 16.55772375,  8.54219251,\n",
       "       11.08734812,  6.65646585, 12.02490087,  6.02879238, 10.79999071,\n",
       "        8.21676932,  9.82572627,  5.06737025, 10.82382735,  4.06478041,\n",
       "       15.70748958,  9.08337028, 16.85334164, 13.01560822, 10.41525649,\n",
       "       11.10756417,  8.90619689, 16.32545881,  4.92340558, 12.31524448,\n",
       "       10.17855397, 10.42096216, 15.32676829, 10.15696773,  8.49248869,\n",
       "       10.1951782 , 12.248094  ,  7.47518459,  9.21849858, 13.62633701,\n",
       "        3.87075947,  8.90390005, 10.25056168, 15.57372639,  4.32113901,\n",
       "        6.84594416, 15.80854339,  8.67291298, 12.74693081,  6.70091375,\n",
       "       13.68843103,  5.70852342,  8.69238785, 17.35573659, 13.93914777,\n",
       "       17.01741944,  8.69405442,  3.49905856, 15.77923121,  5.68369553,\n",
       "       15.04394124, 16.1373542 , 10.41100737, 13.44415951,  5.03042048,\n",
       "       13.63910159,  8.67288113, 10.06680107, 12.28277635, 11.23003055,\n",
       "        9.99191173, 15.22458635, 10.72263791, 10.70062747, 13.00349846,\n",
       "        8.80732393,  9.29844786,  9.99521164, 11.44152752,  6.57770421,\n",
       "       11.16119282, 12.92244401,  9.80295303, 10.71961787,  9.85776762,\n",
       "        6.7433549 ,  6.80076021,  8.24503278,  9.93623258, 11.8768073 ,\n",
       "        5.97934639, 11.55168215, 10.07569696,  7.48135968,  7.52572976,\n",
       "        9.50723252,  7.67214328,  8.00356571, 11.72327257, 10.70515619,\n",
       "       16.68271896, 10.15357348, 11.57181098, 12.02821407, 10.04279504,\n",
       "       10.19765143, 12.534862  ,  6.07310752,  8.46676444, 11.47983996,\n",
       "       11.67081166,  9.00455258,  4.89568158, 10.24910203, 11.97027567,\n",
       "       10.76608116,  9.6386243 ,  3.27409822, 10.93732207, 13.02568604,\n",
       "       12.49428448, 12.77642788, 16.97644723, 13.56697504, 13.72787255,\n",
       "       10.65817584,  9.19205466,  3.74378146, 10.59445927,  7.03975644,\n",
       "       15.99348392, 16.38466297, 11.96583843,  8.02853511, 12.04392464,\n",
       "       10.65121917, 11.61644663, 12.20723575,  6.14745991,  1.97010745,\n",
       "        8.68050359,  8.68003017,  4.94684552, 13.73971311, 13.68997587,\n",
       "        3.22221042,  9.96874559, 13.45680917, 12.42169999,  9.36957475,\n",
       "       16.51167451,  3.32185364,  9.47840733, 15.18937914,  7.16779193,\n",
       "        9.63015967,  8.50331315, 11.22348913, 10.64530215,  7.55416539,\n",
       "       15.07815484, 11.72006446,  9.60168043, 12.64192119, 11.33601134,\n",
       "       15.09886594, 13.95407546,  8.98157495,  8.02060038, 10.44351945,\n",
       "        4.8158523 ,  4.45728297, 14.47403067,  3.54531397, 10.24837772,\n",
       "       10.55049983, 10.27554182, 10.56550448,  9.24402256,  8.12602258,\n",
       "        8.06880843, 16.02536134, 11.25868675,  8.81521121,  5.48816027,\n",
       "        9.72481713,  9.3787188 ,  8.82861118, 11.19345231, 11.48654533,\n",
       "       15.55432358,  8.84979114, 14.81218846,  3.3114697 ,  4.79052272,\n",
       "       17.50822826, 16.77086649,  4.4716211 , 10.59949438, 13.92661712,\n",
       "       10.03406008, 10.00198288, 15.42431543,  6.95062122, 12.9486556 ,\n",
       "        4.39676754, 13.95676612,  5.65781074, 10.88939193,  9.40745125,\n",
       "       13.36086005, 12.64390032, 16.22048889, 17.69034812,  8.7942476 ,\n",
       "        9.16298892, 10.72838901, 16.82888021, 16.45996564,  9.472791  ,\n",
       "       12.36312409, 11.83624257,  8.23670479, 14.03955765, 11.37210155,\n",
       "        9.87148318,  9.461963  ,  3.94299122,  9.09349699, 16.27852367,\n",
       "        3.12266698,  6.42038002, 14.11443524, 10.36266327,  9.38374455,\n",
       "        9.0934552 ,  7.04852548,  9.9884053 ,  4.58712295, 10.18087679,\n",
       "        9.39359459, 11.99015583,  9.43774956, 12.63435676, 11.49373306,\n",
       "        6.24858861,  8.27089608, 13.15299439, 10.4626788 ,  5.50636155,\n",
       "       15.2142717 , 10.07557269, 13.06433945, 13.97722951,  9.32708885,\n",
       "        3.52393762, 13.06227412,  9.68217626,  2.3041197 ,  5.29992823,\n",
       "       10.8850405 ,  9.75090043, 11.80601483,  6.29106018,  7.2582787 ,\n",
       "        9.72909329, 10.77258723,  7.57808224,  4.75153823,  8.13028923,\n",
       "        7.96146265,  8.80077233, 10.34854405,  2.82409256, 10.7407945 ,\n",
       "       10.49943149, 14.19404533, 17.51260029, 11.06167535, 12.4345139 ,\n",
       "        4.32997377,  2.77229434, 10.86963479,  4.08475214, 16.37072035,\n",
       "       14.09140586,  9.45059686,  3.7898861 , 10.81823174,  8.89503948,\n",
       "        9.75454037,  9.3084689 , 15.12510286, 12.09596594, 11.46187647,\n",
       "        6.05740176, 15.42353418, 15.69537829, 11.30668755, 10.20265698,\n",
       "        9.57508648, 16.40387377,  9.65979389,  7.62190405, 10.81927054,\n",
       "       12.7504851 ,  8.78932155, 13.18056528, 10.0942969 ,  5.23984002,\n",
       "        7.08001915, 10.99761921,  9.75739957,  8.08906384,  4.37233983,\n",
       "       11.33052457, 11.90620399, 13.39852029, 14.31769969, 13.00053589,\n",
       "        4.62168265, 11.4850852 , 13.21184772,  7.57582363, 12.30900199,\n",
       "       10.78989973, 10.95781898, 12.92060429,  6.31701146, 13.10823197,\n",
       "        8.20506109, 13.26968127,  9.36374215, 10.11933469, 17.04028596,\n",
       "       11.63004994,  6.25059985, 10.62732265,  8.78733157,  8.39851477,\n",
       "       10.07173699,  8.34656363,  5.7636234 , 15.20306059, 16.53614435,\n",
       "       14.11329328, 14.56700181,  9.27630185,  9.92667879, 14.59563609,\n",
       "       17.0164659 , 10.22620305, 10.35310127,  9.10237325, 11.97776913,\n",
       "        9.25661378,  8.18123932, 14.79462246, 10.543609  , 12.20037472,\n",
       "       16.15898326, 13.48884781,  8.80591661,  3.328341  , 10.83388535,\n",
       "       11.89140308,  4.61830651,  9.35648266, 11.46998833, 10.9157932 ,\n",
       "       11.53579595,  9.88863302, 10.60170847, 13.55005178,  9.2824038 ,\n",
       "        9.67989185, 10.92989151,  9.98151626,  8.98370504, 14.66430549,\n",
       "        9.0116184 ,  7.81149881, 10.25523987,  3.06664085, 14.08746478,\n",
       "       10.45665619, 16.17636977, 10.73671644, 12.2490819 , 12.65232843,\n",
       "        6.59618948,  4.78506872, 12.36333688,  3.41012039,  8.99195399,\n",
       "       10.52694988, 14.28708489,  9.41748698, 10.16997085, 13.02677964,\n",
       "       16.27129798, 13.05095548,  3.95660519, 10.4913688 , 16.07970121,\n",
       "        9.13012816, 10.79138395,  9.45027832, 16.62955404,  8.97097301,\n",
       "       10.22275424, 10.2193901 , 11.49352294, 12.71525384,  4.57034101,\n",
       "        9.79908868,  9.31651798,  9.85936193, 16.12855598, 11.82222043,\n",
       "       15.57262077,  7.40258375,  7.8129333 ,  9.27408326, 14.08605813,\n",
       "       15.28428167,  9.9007235 , 10.04247922, 11.61570406, 10.84060065,\n",
       "       10.88874792, 13.92798727,  6.21886983, 16.3777457 , 17.98537726,\n",
       "       15.33783035,  6.7427222 , 17.38011694, 10.02168611, 16.83949183,\n",
       "       10.1208939 , 13.44730068, 11.2354199 , 10.56938894,  4.90458015,\n",
       "       10.61651565,  6.1564985 , 11.43192916, 15.53445899,  9.53882214,\n",
       "       12.05389472,  8.42153605,  9.46266883, 13.1461364 ,  4.03239765,\n",
       "       10.71895671, 11.00353802,  4.40302193, 13.18000285,  8.55437508,\n",
       "       13.71097065,  7.81609032, 16.28593958, 12.64596008,  3.90728521,\n",
       "       10.23502383, 10.69263181,  3.99044862, 12.7643116 ,  9.30804091,\n",
       "       15.61453848, 10.11386814, 13.59131047, 10.05616516, 15.81208893,\n",
       "       14.97324408, 14.19646295, 10.27243296, 10.77561251,  3.73565453,\n",
       "        8.60349489, 12.08723204,  9.66781326, 10.37389656, 10.50292851,\n",
       "       14.60795069, 12.69793621, 17.14604408, 11.53202438, 10.5599476 ,\n",
       "        7.78047469,  7.07934482, 10.66398961, 15.16486584, 11.56741504,\n",
       "       11.08453422, 10.69498102, 10.03074457, 14.05209937, 11.09625176,\n",
       "       12.62438731,  7.28734689, 11.47107339, 10.42143114, 10.69702063,\n",
       "       14.27640538,  7.73191602, 10.71387513, 12.76192867,  6.72018062,\n",
       "        6.44172035, 10.02044905, 16.73649041, 12.27896036, 11.02407855,\n",
       "       11.94108632,  8.80675115,  6.37705265,  9.52616598,  9.35328932,\n",
       "       12.24813509,  7.01220212,  3.18423405,  9.54238504, 10.88534916,\n",
       "       12.07195579,  9.54364661, 13.00792725, 12.8147932 , 12.46669854,\n",
       "       10.10581677, 14.64495936, 15.74183329, 13.09323324, 16.40454979,\n",
       "        9.7542312 , 10.23232354, 10.51894911,  9.55179161,  9.28720674,\n",
       "       11.54245159, 11.34706965, 16.42918486, 10.78937833, 16.145306  ,\n",
       "       15.38294825, 11.7985436 , 10.89345359, 12.12705742, 17.72194087,\n",
       "        9.61347675, 12.270868  , 12.21730166,  8.64680364,  9.74217916,\n",
       "        8.73892109, 14.47558439,  6.02751891, 13.0871989 ,  9.0601689 ,\n",
       "        7.89675477, 13.46750902, 10.04820693, 11.90301821, 10.01354947,\n",
       "       10.5429686 , 11.45046546, 10.3666636 , 10.34480607,  6.62411235,\n",
       "        4.83258422, 14.08555858,  7.4059351 ,  9.48960946,  6.44130829,\n",
       "       12.40639724, 10.54172594,  7.31631331, 14.13940011,  8.20647133,\n",
       "       11.44746237, 10.79192301,  9.55407432, 11.04199208, 11.89315735,\n",
       "       11.70458827, 10.66608758, 10.41211721, 11.40096435, 12.39196224,\n",
       "       10.95473169,  9.91644295,  3.65553779,  6.42174877, 10.93915633,\n",
       "        5.25506652,  9.22326738, 12.17673477, 11.5258258 ,  9.97295655,\n",
       "       16.03470752,  6.94791754,  7.93876528, 12.17909015, 10.33365336,\n",
       "       11.518887  ,  8.52495433, 11.86742729, 10.32681016, 15.36073708])"
      ]
     },
     "execution_count": 32,
     "metadata": {},
     "output_type": "execute_result"
    }
   ],
   "source": [
    "pred"
   ]
  },
  {
   "cell_type": "code",
   "execution_count": 33,
   "metadata": {
    "id": "p1zmqIHBWPtm"
   },
   "outputs": [],
   "source": [
    "from sklearn.metrics import mean_squared_error"
   ]
  },
  {
   "cell_type": "code",
   "execution_count": 34,
   "metadata": {
    "id": "54mCsUedW9qn"
   },
   "outputs": [],
   "source": [
    "accuracy_train = []\n",
    "accuracy_test = []\n",
    "model_name = []"
   ]
  },
  {
   "cell_type": "code",
   "execution_count": 35,
   "metadata": {
    "colab": {
     "base_uri": "https://localhost:8080/"
    },
    "id": "mq-KQOB8XDMr",
    "outputId": "844fe439-6652-4b28-c51a-3def47f6e425"
   },
   "outputs": [
    {
     "name": "stdout",
     "output_type": "stream",
     "text": [
      "Train Accuracy:  72.53516032899233\n"
     ]
    }
   ],
   "source": [
    "predict_linear_train = reg.predict(Xtrain)\n",
    "MSE_linear_train = ( mean_squared_error(ytrain, predict_linear_train)  )\n",
    "\n",
    "accuracy_linear_train = 100 - MSE_linear_train\n",
    "print(\"Train Accuracy: \", accuracy_linear_train)"
   ]
  },
  {
   "cell_type": "code",
   "execution_count": 36,
   "metadata": {
    "colab": {
     "base_uri": "https://localhost:8080/"
    },
    "id": "23O-e3AfXGXw",
    "outputId": "e1806b04-9826-49e2-ae2f-33dea8179168"
   },
   "outputs": [
    {
     "name": "stdout",
     "output_type": "stream",
     "text": [
      "Test Accuracy:  69.71828194340245\n"
     ]
    }
   ],
   "source": [
    "predict_linear_test = reg.predict(Xtest)\n",
    "MSE_linear_test = ( mean_squared_error(ytest, predict_linear_test)  )\n",
    "accuracy_linear_test = 100 - MSE_linear_test\n",
    "print(\"Test Accuracy: \", accuracy_linear_test)\n",
    "\n",
    "accuracy_train.append( accuracy_linear_train )\n",
    "accuracy_test.append( accuracy_linear_test )\n",
    "model_name.append('Linear Regression')"
   ]
  },
  {
   "cell_type": "code",
   "execution_count": 37,
   "metadata": {
    "id": "_20GjXQ4XLHS"
   },
   "outputs": [],
   "source": [
    "from sklearn.tree import DecisionTreeClassifier"
   ]
  },
  {
   "cell_type": "code",
   "execution_count": 38,
   "metadata": {
    "id": "m6q0sfD8aHXe"
   },
   "outputs": [],
   "source": [
    "from sklearn.pipeline import make_pipeline"
   ]
  },
  {
   "cell_type": "code",
   "execution_count": 39,
   "metadata": {
    "id": "VgrLbPRkaT5w"
   },
   "outputs": [],
   "source": [
    "dt_pipeline = make_pipeline(DecisionTreeClassifier(criterion=\"entropy\", random_state=2, max_depth=5))"
   ]
  },
  {
   "cell_type": "code",
   "execution_count": 40,
   "metadata": {
    "colab": {
     "base_uri": "https://localhost:8080/",
     "height": 90
    },
    "id": "dKZkufxNa8u7",
    "outputId": "b25da8f0-b38f-46cc-87ea-e8b6fab0ad23"
   },
   "outputs": [
    {
     "data": {
      "text/plain": [
       "Pipeline(steps=[('decisiontreeclassifier',\n",
       "                 DecisionTreeClassifier(criterion='entropy', max_depth=5,\n",
       "                                        random_state=2))])"
      ]
     },
     "execution_count": 40,
     "metadata": {},
     "output_type": "execute_result"
    }
   ],
   "source": [
    "dt_pipeline.fit(Xtrain,ytrain)"
   ]
  },
  {
   "cell_type": "code",
   "execution_count": 41,
   "metadata": {
    "id": "UJO9Kh7ObHLQ"
   },
   "outputs": [],
   "source": [
    "from sklearn.metrics import accuracy_score"
   ]
  },
  {
   "cell_type": "code",
   "execution_count": 42,
   "metadata": {
    "colab": {
     "base_uri": "https://localhost:8080/"
    },
    "id": "i8FmKs2ibdms",
    "outputId": "16ac3b85-560f-4205-bed5-78af4b2c4c4e"
   },
   "outputs": [
    {
     "name": "stdout",
     "output_type": "stream",
     "text": [
      "Train Accuracy: 88.896104%\n"
     ]
    }
   ],
   "source": [
    "decision_pred_train = dt_pipeline.predict(Xtrain)\n",
    "decision_accuracy_train = accuracy_score(ytrain, decision_pred_train)\n",
    "print(f\"Train Accuracy: {decision_accuracy_train * 100:2f}%\")"
   ]
  },
  {
   "cell_type": "code",
   "execution_count": 43,
   "metadata": {
    "colab": {
     "base_uri": "https://localhost:8080/"
    },
    "id": "S3tWSW4NcwuV",
    "outputId": "707623fe-4f2b-4a87-a5ca-4af696703737"
   },
   "outputs": [
    {
     "name": "stdout",
     "output_type": "stream",
     "text": [
      "Test Accuracy: 88.939394%\n"
     ]
    }
   ],
   "source": [
    "decision_pred_test = dt_pipeline.predict(Xtest)\n",
    "decision_accuracy_test = accuracy_score(ytest, decision_pred_test)\n",
    "print(f\"Test Accuracy: {decision_accuracy_test * 100:2f}%\")"
   ]
  },
  {
   "cell_type": "code",
   "execution_count": 44,
   "metadata": {
    "id": "FrTwdpJgtIgW"
   },
   "outputs": [],
   "source": [
    "import pickle"
   ]
  },
  {
   "cell_type": "code",
   "execution_count": 45,
   "metadata": {},
   "outputs": [],
   "source": [
    "pickle.dump(reg, open(\"final.sav\", \"wb\"))"
   ]
  },
  {
   "cell_type": "code",
   "execution_count": 46,
   "metadata": {},
   "outputs": [],
   "source": [
    "with open('newp','wb') as file:\n",
    "    pickle.dump(reg,file)"
   ]
  },
  {
   "cell_type": "code",
   "execution_count": 47,
   "metadata": {},
   "outputs": [],
   "source": [
    "with open('newp','rb') as file:\n",
    "    mp = pickle.load(file)"
   ]
  },
  {
   "cell_type": "code",
   "execution_count": 48,
   "metadata": {},
   "outputs": [
    {
     "data": {
      "text/plain": [
       "array([-0.03050639, -0.08601918, -0.01151516,  0.05389211, -0.61948671])"
      ]
     },
     "execution_count": 48,
     "metadata": {},
     "output_type": "execute_result"
    }
   ],
   "source": [
    "mp.coef_"
   ]
  },
  {
   "cell_type": "code",
   "execution_count": 49,
   "metadata": {},
   "outputs": [
    {
     "data": {
      "text/plain": [
       "17.3735075509274"
      ]
     },
     "execution_count": 49,
     "metadata": {},
     "output_type": "execute_result"
    }
   ],
   "source": [
    "mp.intercept_"
   ]
  },
  {
   "cell_type": "code",
   "execution_count": 50,
   "metadata": {},
   "outputs": [],
   "source": [
    "pd.to_pickle(reg,r'C:\\Users\\User\\Desktop\\ML\\newp')"
   ]
  },
  {
   "cell_type": "code",
   "execution_count": 51,
   "metadata": {},
   "outputs": [],
   "source": [
    "model = pd.read_pickle(r'C:\\Users\\User\\Desktop\\ML\\newp')"
   ]
  },
  {
   "cell_type": "code",
   "execution_count": 56,
   "metadata": {},
   "outputs": [
    {
     "name": "stdout",
     "output_type": "stream",
     "text": [
      "N: 12\n",
      "P: 8\n",
      "K: 3\n",
      "ph: 6\n",
      "ph: 77\n",
      "-31\n"
     ]
    },
    {
     "name": "stderr",
     "output_type": "stream",
     "text": [
      "C:\\ProgramData\\Anaconda3\\lib\\site-packages\\sklearn\\base.py:450: UserWarning: X does not have valid feature names, but LinearRegression was fitted with feature names\n",
      "  warnings.warn(\n"
     ]
    }
   ],
   "source": [
    "N = int(input(\"N: \"))\n",
    "P = int(input(\"P: \"))\n",
    "K = int(input(\"K: \"))\n",
    "ph = int(input(\"ph: \"))\n",
    "humidity = int(input(\"ph: \"))\n",
    "\n",
    "result = int(model.predict([[N ,P, K, ph, humidity]]))\n",
    "print(result)"
   ]
  },
  {
   "cell_type": "code",
   "execution_count": 53,
   "metadata": {},
   "outputs": [],
   "source": [
    "pickle.dump(reg, open(\"newPrediction.pkl\", \"wb\"))"
   ]
  },
  {
   "cell_type": "code",
   "execution_count": 54,
   "metadata": {},
   "outputs": [],
   "source": [
    "new = pickle.load(open(\"newPrediction.pkl\", \"rb\"))"
   ]
  },
  {
   "cell_type": "code",
   "execution_count": 55,
   "metadata": {},
   "outputs": [
    {
     "name": "stderr",
     "output_type": "stream",
     "text": [
      "C:\\ProgramData\\Anaconda3\\lib\\site-packages\\sklearn\\base.py:450: UserWarning: X does not have valid feature names, but LinearRegression was fitted with feature names\n",
      "  warnings.warn(\n"
     ]
    },
    {
     "data": {
      "text/plain": [
       "array([6.77191194])"
      ]
     },
     "execution_count": 55,
     "metadata": {},
     "output_type": "execute_result"
    }
   ],
   "source": [
    "new.predict([[5,6,7,8,74]])"
   ]
  }
 ],
 "metadata": {
  "colab": {
   "provenance": []
  },
  "kernelspec": {
   "display_name": "Python 3 (ipykernel)",
   "language": "python",
   "name": "python3"
  },
  "language_info": {
   "codemirror_mode": {
    "name": "ipython",
    "version": 3
   },
   "file_extension": ".py",
   "mimetype": "text/x-python",
   "name": "python",
   "nbconvert_exporter": "python",
   "pygments_lexer": "ipython3",
   "version": "3.9.13"
  }
 },
 "nbformat": 4,
 "nbformat_minor": 1
}
