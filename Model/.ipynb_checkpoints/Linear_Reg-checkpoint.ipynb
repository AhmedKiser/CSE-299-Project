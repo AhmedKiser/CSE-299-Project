{
 "cells": [
  {
   "cell_type": "code",
   "execution_count": 1,
   "metadata": {
    "id": "tH7ZABD8holx"
   },
   "outputs": [],
   "source": [
    "#import lib\n",
    "import numpy as np\n",
    "import matplotlib.pyplot as plt\n",
    "import pandas as pd\n",
    "from sklearn.svm import SVC"
   ]
  },
  {
   "cell_type": "code",
   "execution_count": 2,
   "metadata": {
    "id": "J3Jq9B9MhqNK"
   },
   "outputs": [],
   "source": [
    "df=pd.read_csv('Crop_recommendation.csv')"
   ]
  },
  {
   "cell_type": "code",
   "execution_count": 3,
   "metadata": {
    "colab": {
     "base_uri": "https://localhost:8080/",
     "height": 424
    },
    "id": "hfrKHn87iGV_",
    "outputId": "805df793-522b-4bd1-9988-6065fced2479"
   },
   "outputs": [
    {
     "data": {
      "text/html": [
       "<div>\n",
       "<style scoped>\n",
       "    .dataframe tbody tr th:only-of-type {\n",
       "        vertical-align: middle;\n",
       "    }\n",
       "\n",
       "    .dataframe tbody tr th {\n",
       "        vertical-align: top;\n",
       "    }\n",
       "\n",
       "    .dataframe thead th {\n",
       "        text-align: right;\n",
       "    }\n",
       "</style>\n",
       "<table border=\"1\" class=\"dataframe\">\n",
       "  <thead>\n",
       "    <tr style=\"text-align: right;\">\n",
       "      <th></th>\n",
       "      <th>N</th>\n",
       "      <th>P</th>\n",
       "      <th>K</th>\n",
       "      <th>temperature</th>\n",
       "      <th>humidity</th>\n",
       "      <th>ph</th>\n",
       "      <th>rainfall</th>\n",
       "      <th>label</th>\n",
       "    </tr>\n",
       "  </thead>\n",
       "  <tbody>\n",
       "    <tr>\n",
       "      <th>0</th>\n",
       "      <td>90</td>\n",
       "      <td>42</td>\n",
       "      <td>43</td>\n",
       "      <td>20.879744</td>\n",
       "      <td>82.002744</td>\n",
       "      <td>6.502985</td>\n",
       "      <td>202.935536</td>\n",
       "      <td>rice</td>\n",
       "    </tr>\n",
       "    <tr>\n",
       "      <th>1</th>\n",
       "      <td>85</td>\n",
       "      <td>58</td>\n",
       "      <td>41</td>\n",
       "      <td>21.770462</td>\n",
       "      <td>80.319644</td>\n",
       "      <td>7.038096</td>\n",
       "      <td>226.655537</td>\n",
       "      <td>rice</td>\n",
       "    </tr>\n",
       "    <tr>\n",
       "      <th>2</th>\n",
       "      <td>60</td>\n",
       "      <td>55</td>\n",
       "      <td>44</td>\n",
       "      <td>23.004459</td>\n",
       "      <td>82.320763</td>\n",
       "      <td>7.840207</td>\n",
       "      <td>263.964248</td>\n",
       "      <td>rice</td>\n",
       "    </tr>\n",
       "    <tr>\n",
       "      <th>3</th>\n",
       "      <td>74</td>\n",
       "      <td>35</td>\n",
       "      <td>40</td>\n",
       "      <td>26.491096</td>\n",
       "      <td>80.158363</td>\n",
       "      <td>6.980401</td>\n",
       "      <td>242.864034</td>\n",
       "      <td>rice</td>\n",
       "    </tr>\n",
       "    <tr>\n",
       "      <th>4</th>\n",
       "      <td>78</td>\n",
       "      <td>42</td>\n",
       "      <td>42</td>\n",
       "      <td>20.130175</td>\n",
       "      <td>81.604873</td>\n",
       "      <td>7.628473</td>\n",
       "      <td>262.717340</td>\n",
       "      <td>rice</td>\n",
       "    </tr>\n",
       "    <tr>\n",
       "      <th>...</th>\n",
       "      <td>...</td>\n",
       "      <td>...</td>\n",
       "      <td>...</td>\n",
       "      <td>...</td>\n",
       "      <td>...</td>\n",
       "      <td>...</td>\n",
       "      <td>...</td>\n",
       "      <td>...</td>\n",
       "    </tr>\n",
       "    <tr>\n",
       "      <th>2195</th>\n",
       "      <td>107</td>\n",
       "      <td>34</td>\n",
       "      <td>32</td>\n",
       "      <td>26.774637</td>\n",
       "      <td>66.413269</td>\n",
       "      <td>6.780064</td>\n",
       "      <td>177.774507</td>\n",
       "      <td>coffee</td>\n",
       "    </tr>\n",
       "    <tr>\n",
       "      <th>2196</th>\n",
       "      <td>99</td>\n",
       "      <td>15</td>\n",
       "      <td>27</td>\n",
       "      <td>27.417112</td>\n",
       "      <td>56.636362</td>\n",
       "      <td>6.086922</td>\n",
       "      <td>127.924610</td>\n",
       "      <td>coffee</td>\n",
       "    </tr>\n",
       "    <tr>\n",
       "      <th>2197</th>\n",
       "      <td>118</td>\n",
       "      <td>33</td>\n",
       "      <td>30</td>\n",
       "      <td>24.131797</td>\n",
       "      <td>67.225123</td>\n",
       "      <td>6.362608</td>\n",
       "      <td>173.322839</td>\n",
       "      <td>coffee</td>\n",
       "    </tr>\n",
       "    <tr>\n",
       "      <th>2198</th>\n",
       "      <td>117</td>\n",
       "      <td>32</td>\n",
       "      <td>34</td>\n",
       "      <td>26.272418</td>\n",
       "      <td>52.127394</td>\n",
       "      <td>6.758793</td>\n",
       "      <td>127.175293</td>\n",
       "      <td>coffee</td>\n",
       "    </tr>\n",
       "    <tr>\n",
       "      <th>2199</th>\n",
       "      <td>104</td>\n",
       "      <td>18</td>\n",
       "      <td>30</td>\n",
       "      <td>23.603016</td>\n",
       "      <td>60.396475</td>\n",
       "      <td>6.779833</td>\n",
       "      <td>140.937041</td>\n",
       "      <td>coffee</td>\n",
       "    </tr>\n",
       "  </tbody>\n",
       "</table>\n",
       "<p>2200 rows × 8 columns</p>\n",
       "</div>"
      ],
      "text/plain": [
       "        N   P   K  temperature   humidity        ph    rainfall   label\n",
       "0      90  42  43    20.879744  82.002744  6.502985  202.935536    rice\n",
       "1      85  58  41    21.770462  80.319644  7.038096  226.655537    rice\n",
       "2      60  55  44    23.004459  82.320763  7.840207  263.964248    rice\n",
       "3      74  35  40    26.491096  80.158363  6.980401  242.864034    rice\n",
       "4      78  42  42    20.130175  81.604873  7.628473  262.717340    rice\n",
       "...   ...  ..  ..          ...        ...       ...         ...     ...\n",
       "2195  107  34  32    26.774637  66.413269  6.780064  177.774507  coffee\n",
       "2196   99  15  27    27.417112  56.636362  6.086922  127.924610  coffee\n",
       "2197  118  33  30    24.131797  67.225123  6.362608  173.322839  coffee\n",
       "2198  117  32  34    26.272418  52.127394  6.758793  127.175293  coffee\n",
       "2199  104  18  30    23.603016  60.396475  6.779833  140.937041  coffee\n",
       "\n",
       "[2200 rows x 8 columns]"
      ]
     },
     "execution_count": 3,
     "metadata": {},
     "output_type": "execute_result"
    }
   ],
   "source": [
    "df"
   ]
  },
  {
   "cell_type": "code",
   "execution_count": 4,
   "metadata": {
    "colab": {
     "base_uri": "https://localhost:8080/"
    },
    "id": "SNiQzScoibtu",
    "outputId": "6d0f1ea1-aab7-4f86-b062-63d3b472458f"
   },
   "outputs": [
    {
     "data": {
      "text/plain": [
       "(2200, 8)"
      ]
     },
     "execution_count": 4,
     "metadata": {},
     "output_type": "execute_result"
    }
   ],
   "source": [
    "df.shape"
   ]
  },
  {
   "cell_type": "code",
   "execution_count": 5,
   "metadata": {
    "colab": {
     "base_uri": "https://localhost:8080/"
    },
    "id": "5qiFt2osidut",
    "outputId": "a4c2c0e6-0a52-4384-a2fa-1a68c8ec5695"
   },
   "outputs": [
    {
     "data": {
      "text/plain": [
       "N              0\n",
       "P              0\n",
       "K              0\n",
       "temperature    0\n",
       "humidity       0\n",
       "ph             0\n",
       "rainfall       0\n",
       "label          0\n",
       "dtype: int64"
      ]
     },
     "execution_count": 5,
     "metadata": {},
     "output_type": "execute_result"
    }
   ],
   "source": [
    "df.isnull().sum()"
   ]
  },
  {
   "cell_type": "code",
   "execution_count": 6,
   "metadata": {
    "id": "gtCmBeNti13r"
   },
   "outputs": [],
   "source": [
    "X=df.drop( ['temperature','humidity','rainfall','label'],axis=1)"
   ]
  },
  {
   "cell_type": "code",
   "execution_count": 7,
   "metadata": {
    "id": "mdx5g2UEjlkB"
   },
   "outputs": [],
   "source": [
    "y=df['label']"
   ]
  },
  {
   "cell_type": "code",
   "execution_count": 8,
   "metadata": {
    "colab": {
     "base_uri": "https://localhost:8080/",
     "height": 424
    },
    "id": "exyiWmmMjpdT",
    "outputId": "374cde18-fd66-48ba-ffb4-a45edd7803e6"
   },
   "outputs": [
    {
     "data": {
      "text/html": [
       "<div>\n",
       "<style scoped>\n",
       "    .dataframe tbody tr th:only-of-type {\n",
       "        vertical-align: middle;\n",
       "    }\n",
       "\n",
       "    .dataframe tbody tr th {\n",
       "        vertical-align: top;\n",
       "    }\n",
       "\n",
       "    .dataframe thead th {\n",
       "        text-align: right;\n",
       "    }\n",
       "</style>\n",
       "<table border=\"1\" class=\"dataframe\">\n",
       "  <thead>\n",
       "    <tr style=\"text-align: right;\">\n",
       "      <th></th>\n",
       "      <th>N</th>\n",
       "      <th>P</th>\n",
       "      <th>K</th>\n",
       "      <th>ph</th>\n",
       "    </tr>\n",
       "  </thead>\n",
       "  <tbody>\n",
       "    <tr>\n",
       "      <th>0</th>\n",
       "      <td>90</td>\n",
       "      <td>42</td>\n",
       "      <td>43</td>\n",
       "      <td>6.502985</td>\n",
       "    </tr>\n",
       "    <tr>\n",
       "      <th>1</th>\n",
       "      <td>85</td>\n",
       "      <td>58</td>\n",
       "      <td>41</td>\n",
       "      <td>7.038096</td>\n",
       "    </tr>\n",
       "    <tr>\n",
       "      <th>2</th>\n",
       "      <td>60</td>\n",
       "      <td>55</td>\n",
       "      <td>44</td>\n",
       "      <td>7.840207</td>\n",
       "    </tr>\n",
       "    <tr>\n",
       "      <th>3</th>\n",
       "      <td>74</td>\n",
       "      <td>35</td>\n",
       "      <td>40</td>\n",
       "      <td>6.980401</td>\n",
       "    </tr>\n",
       "    <tr>\n",
       "      <th>4</th>\n",
       "      <td>78</td>\n",
       "      <td>42</td>\n",
       "      <td>42</td>\n",
       "      <td>7.628473</td>\n",
       "    </tr>\n",
       "    <tr>\n",
       "      <th>...</th>\n",
       "      <td>...</td>\n",
       "      <td>...</td>\n",
       "      <td>...</td>\n",
       "      <td>...</td>\n",
       "    </tr>\n",
       "    <tr>\n",
       "      <th>2195</th>\n",
       "      <td>107</td>\n",
       "      <td>34</td>\n",
       "      <td>32</td>\n",
       "      <td>6.780064</td>\n",
       "    </tr>\n",
       "    <tr>\n",
       "      <th>2196</th>\n",
       "      <td>99</td>\n",
       "      <td>15</td>\n",
       "      <td>27</td>\n",
       "      <td>6.086922</td>\n",
       "    </tr>\n",
       "    <tr>\n",
       "      <th>2197</th>\n",
       "      <td>118</td>\n",
       "      <td>33</td>\n",
       "      <td>30</td>\n",
       "      <td>6.362608</td>\n",
       "    </tr>\n",
       "    <tr>\n",
       "      <th>2198</th>\n",
       "      <td>117</td>\n",
       "      <td>32</td>\n",
       "      <td>34</td>\n",
       "      <td>6.758793</td>\n",
       "    </tr>\n",
       "    <tr>\n",
       "      <th>2199</th>\n",
       "      <td>104</td>\n",
       "      <td>18</td>\n",
       "      <td>30</td>\n",
       "      <td>6.779833</td>\n",
       "    </tr>\n",
       "  </tbody>\n",
       "</table>\n",
       "<p>2200 rows × 4 columns</p>\n",
       "</div>"
      ],
      "text/plain": [
       "        N   P   K        ph\n",
       "0      90  42  43  6.502985\n",
       "1      85  58  41  7.038096\n",
       "2      60  55  44  7.840207\n",
       "3      74  35  40  6.980401\n",
       "4      78  42  42  7.628473\n",
       "...   ...  ..  ..       ...\n",
       "2195  107  34  32  6.780064\n",
       "2196   99  15  27  6.086922\n",
       "2197  118  33  30  6.362608\n",
       "2198  117  32  34  6.758793\n",
       "2199  104  18  30  6.779833\n",
       "\n",
       "[2200 rows x 4 columns]"
      ]
     },
     "execution_count": 8,
     "metadata": {},
     "output_type": "execute_result"
    }
   ],
   "source": [
    "X"
   ]
  },
  {
   "cell_type": "code",
   "execution_count": 9,
   "metadata": {
    "colab": {
     "base_uri": "https://localhost:8080/"
    },
    "id": "-qACFxcrkGCQ",
    "outputId": "5c8d274f-d5c4-4805-8ced-adfb1e195bac"
   },
   "outputs": [
    {
     "data": {
      "text/plain": [
       "0         rice\n",
       "1         rice\n",
       "2         rice\n",
       "3         rice\n",
       "4         rice\n",
       "         ...  \n",
       "2195    coffee\n",
       "2196    coffee\n",
       "2197    coffee\n",
       "2198    coffee\n",
       "2199    coffee\n",
       "Name: label, Length: 2200, dtype: object"
      ]
     },
     "execution_count": 9,
     "metadata": {},
     "output_type": "execute_result"
    }
   ],
   "source": [
    "y"
   ]
  },
  {
   "cell_type": "code",
   "execution_count": 10,
   "metadata": {
    "colab": {
     "base_uri": "https://localhost:8080/",
     "height": 424
    },
    "id": "UY7T-z2rkI-c",
    "outputId": "83babb41-81b6-4656-89c9-1d3c43295ea5"
   },
   "outputs": [
    {
     "data": {
      "text/html": [
       "<div>\n",
       "<style scoped>\n",
       "    .dataframe tbody tr th:only-of-type {\n",
       "        vertical-align: middle;\n",
       "    }\n",
       "\n",
       "    .dataframe tbody tr th {\n",
       "        vertical-align: top;\n",
       "    }\n",
       "\n",
       "    .dataframe thead th {\n",
       "        text-align: right;\n",
       "    }\n",
       "</style>\n",
       "<table border=\"1\" class=\"dataframe\">\n",
       "  <thead>\n",
       "    <tr style=\"text-align: right;\">\n",
       "      <th></th>\n",
       "      <th>N</th>\n",
       "      <th>P</th>\n",
       "      <th>K</th>\n",
       "      <th>temperature</th>\n",
       "      <th>humidity</th>\n",
       "      <th>ph</th>\n",
       "      <th>rainfall</th>\n",
       "      <th>label</th>\n",
       "    </tr>\n",
       "  </thead>\n",
       "  <tbody>\n",
       "    <tr>\n",
       "      <th>0</th>\n",
       "      <td>90</td>\n",
       "      <td>42</td>\n",
       "      <td>43</td>\n",
       "      <td>20.879744</td>\n",
       "      <td>82.002744</td>\n",
       "      <td>6.502985</td>\n",
       "      <td>202.935536</td>\n",
       "      <td>rice</td>\n",
       "    </tr>\n",
       "    <tr>\n",
       "      <th>1</th>\n",
       "      <td>85</td>\n",
       "      <td>58</td>\n",
       "      <td>41</td>\n",
       "      <td>21.770462</td>\n",
       "      <td>80.319644</td>\n",
       "      <td>7.038096</td>\n",
       "      <td>226.655537</td>\n",
       "      <td>rice</td>\n",
       "    </tr>\n",
       "    <tr>\n",
       "      <th>2</th>\n",
       "      <td>60</td>\n",
       "      <td>55</td>\n",
       "      <td>44</td>\n",
       "      <td>23.004459</td>\n",
       "      <td>82.320763</td>\n",
       "      <td>7.840207</td>\n",
       "      <td>263.964248</td>\n",
       "      <td>rice</td>\n",
       "    </tr>\n",
       "    <tr>\n",
       "      <th>3</th>\n",
       "      <td>74</td>\n",
       "      <td>35</td>\n",
       "      <td>40</td>\n",
       "      <td>26.491096</td>\n",
       "      <td>80.158363</td>\n",
       "      <td>6.980401</td>\n",
       "      <td>242.864034</td>\n",
       "      <td>rice</td>\n",
       "    </tr>\n",
       "    <tr>\n",
       "      <th>4</th>\n",
       "      <td>78</td>\n",
       "      <td>42</td>\n",
       "      <td>42</td>\n",
       "      <td>20.130175</td>\n",
       "      <td>81.604873</td>\n",
       "      <td>7.628473</td>\n",
       "      <td>262.717340</td>\n",
       "      <td>rice</td>\n",
       "    </tr>\n",
       "    <tr>\n",
       "      <th>...</th>\n",
       "      <td>...</td>\n",
       "      <td>...</td>\n",
       "      <td>...</td>\n",
       "      <td>...</td>\n",
       "      <td>...</td>\n",
       "      <td>...</td>\n",
       "      <td>...</td>\n",
       "      <td>...</td>\n",
       "    </tr>\n",
       "    <tr>\n",
       "      <th>2195</th>\n",
       "      <td>107</td>\n",
       "      <td>34</td>\n",
       "      <td>32</td>\n",
       "      <td>26.774637</td>\n",
       "      <td>66.413269</td>\n",
       "      <td>6.780064</td>\n",
       "      <td>177.774507</td>\n",
       "      <td>coffee</td>\n",
       "    </tr>\n",
       "    <tr>\n",
       "      <th>2196</th>\n",
       "      <td>99</td>\n",
       "      <td>15</td>\n",
       "      <td>27</td>\n",
       "      <td>27.417112</td>\n",
       "      <td>56.636362</td>\n",
       "      <td>6.086922</td>\n",
       "      <td>127.924610</td>\n",
       "      <td>coffee</td>\n",
       "    </tr>\n",
       "    <tr>\n",
       "      <th>2197</th>\n",
       "      <td>118</td>\n",
       "      <td>33</td>\n",
       "      <td>30</td>\n",
       "      <td>24.131797</td>\n",
       "      <td>67.225123</td>\n",
       "      <td>6.362608</td>\n",
       "      <td>173.322839</td>\n",
       "      <td>coffee</td>\n",
       "    </tr>\n",
       "    <tr>\n",
       "      <th>2198</th>\n",
       "      <td>117</td>\n",
       "      <td>32</td>\n",
       "      <td>34</td>\n",
       "      <td>26.272418</td>\n",
       "      <td>52.127394</td>\n",
       "      <td>6.758793</td>\n",
       "      <td>127.175293</td>\n",
       "      <td>coffee</td>\n",
       "    </tr>\n",
       "    <tr>\n",
       "      <th>2199</th>\n",
       "      <td>104</td>\n",
       "      <td>18</td>\n",
       "      <td>30</td>\n",
       "      <td>23.603016</td>\n",
       "      <td>60.396475</td>\n",
       "      <td>6.779833</td>\n",
       "      <td>140.937041</td>\n",
       "      <td>coffee</td>\n",
       "    </tr>\n",
       "  </tbody>\n",
       "</table>\n",
       "<p>2200 rows × 8 columns</p>\n",
       "</div>"
      ],
      "text/plain": [
       "        N   P   K  temperature   humidity        ph    rainfall   label\n",
       "0      90  42  43    20.879744  82.002744  6.502985  202.935536    rice\n",
       "1      85  58  41    21.770462  80.319644  7.038096  226.655537    rice\n",
       "2      60  55  44    23.004459  82.320763  7.840207  263.964248    rice\n",
       "3      74  35  40    26.491096  80.158363  6.980401  242.864034    rice\n",
       "4      78  42  42    20.130175  81.604873  7.628473  262.717340    rice\n",
       "...   ...  ..  ..          ...        ...       ...         ...     ...\n",
       "2195  107  34  32    26.774637  66.413269  6.780064  177.774507  coffee\n",
       "2196   99  15  27    27.417112  56.636362  6.086922  127.924610  coffee\n",
       "2197  118  33  30    24.131797  67.225123  6.362608  173.322839  coffee\n",
       "2198  117  32  34    26.272418  52.127394  6.758793  127.175293  coffee\n",
       "2199  104  18  30    23.603016  60.396475  6.779833  140.937041  coffee\n",
       "\n",
       "[2200 rows x 8 columns]"
      ]
     },
     "execution_count": 10,
     "metadata": {},
     "output_type": "execute_result"
    }
   ],
   "source": [
    "xdf = df.copy()\n",
    "xdf"
   ]
  },
  {
   "cell_type": "code",
   "execution_count": 11,
   "metadata": {
    "id": "cUE5z9PdkvxE"
   },
   "outputs": [],
   "source": [
    "from sklearn.preprocessing import LabelEncoder \n",
    "labelencoder= LabelEncoder() "
   ]
  },
  {
   "cell_type": "code",
   "execution_count": 58,
   "metadata": {
    "colab": {
     "base_uri": "https://localhost:8080/",
     "height": 424
    },
    "id": "3EodQQFzm7wD",
    "outputId": "194c4f2c-593d-4779-df24-fadf8dfeaa83"
   },
   "outputs": [
    {
     "data": {
      "text/html": [
       "<div>\n",
       "<style scoped>\n",
       "    .dataframe tbody tr th:only-of-type {\n",
       "        vertical-align: middle;\n",
       "    }\n",
       "\n",
       "    .dataframe tbody tr th {\n",
       "        vertical-align: top;\n",
       "    }\n",
       "\n",
       "    .dataframe thead th {\n",
       "        text-align: right;\n",
       "    }\n",
       "</style>\n",
       "<table border=\"1\" class=\"dataframe\">\n",
       "  <thead>\n",
       "    <tr style=\"text-align: right;\">\n",
       "      <th></th>\n",
       "      <th>N</th>\n",
       "      <th>P</th>\n",
       "      <th>K</th>\n",
       "      <th>temperature</th>\n",
       "      <th>humidity</th>\n",
       "      <th>ph</th>\n",
       "      <th>rainfall</th>\n",
       "      <th>label</th>\n",
       "      <th>label_codes</th>\n",
       "    </tr>\n",
       "  </thead>\n",
       "  <tbody>\n",
       "    <tr>\n",
       "      <th>0</th>\n",
       "      <td>90</td>\n",
       "      <td>42</td>\n",
       "      <td>43</td>\n",
       "      <td>20.879744</td>\n",
       "      <td>82.002744</td>\n",
       "      <td>6.502985</td>\n",
       "      <td>202.935536</td>\n",
       "      <td>rice</td>\n",
       "      <td>20</td>\n",
       "    </tr>\n",
       "    <tr>\n",
       "      <th>1</th>\n",
       "      <td>85</td>\n",
       "      <td>58</td>\n",
       "      <td>41</td>\n",
       "      <td>21.770462</td>\n",
       "      <td>80.319644</td>\n",
       "      <td>7.038096</td>\n",
       "      <td>226.655537</td>\n",
       "      <td>rice</td>\n",
       "      <td>20</td>\n",
       "    </tr>\n",
       "    <tr>\n",
       "      <th>2</th>\n",
       "      <td>60</td>\n",
       "      <td>55</td>\n",
       "      <td>44</td>\n",
       "      <td>23.004459</td>\n",
       "      <td>82.320763</td>\n",
       "      <td>7.840207</td>\n",
       "      <td>263.964248</td>\n",
       "      <td>rice</td>\n",
       "      <td>20</td>\n",
       "    </tr>\n",
       "    <tr>\n",
       "      <th>3</th>\n",
       "      <td>74</td>\n",
       "      <td>35</td>\n",
       "      <td>40</td>\n",
       "      <td>26.491096</td>\n",
       "      <td>80.158363</td>\n",
       "      <td>6.980401</td>\n",
       "      <td>242.864034</td>\n",
       "      <td>rice</td>\n",
       "      <td>20</td>\n",
       "    </tr>\n",
       "    <tr>\n",
       "      <th>4</th>\n",
       "      <td>78</td>\n",
       "      <td>42</td>\n",
       "      <td>42</td>\n",
       "      <td>20.130175</td>\n",
       "      <td>81.604873</td>\n",
       "      <td>7.628473</td>\n",
       "      <td>262.717340</td>\n",
       "      <td>rice</td>\n",
       "      <td>20</td>\n",
       "    </tr>\n",
       "    <tr>\n",
       "      <th>...</th>\n",
       "      <td>...</td>\n",
       "      <td>...</td>\n",
       "      <td>...</td>\n",
       "      <td>...</td>\n",
       "      <td>...</td>\n",
       "      <td>...</td>\n",
       "      <td>...</td>\n",
       "      <td>...</td>\n",
       "      <td>...</td>\n",
       "    </tr>\n",
       "    <tr>\n",
       "      <th>2195</th>\n",
       "      <td>107</td>\n",
       "      <td>34</td>\n",
       "      <td>32</td>\n",
       "      <td>26.774637</td>\n",
       "      <td>66.413269</td>\n",
       "      <td>6.780064</td>\n",
       "      <td>177.774507</td>\n",
       "      <td>coffee</td>\n",
       "      <td>5</td>\n",
       "    </tr>\n",
       "    <tr>\n",
       "      <th>2196</th>\n",
       "      <td>99</td>\n",
       "      <td>15</td>\n",
       "      <td>27</td>\n",
       "      <td>27.417112</td>\n",
       "      <td>56.636362</td>\n",
       "      <td>6.086922</td>\n",
       "      <td>127.924610</td>\n",
       "      <td>coffee</td>\n",
       "      <td>5</td>\n",
       "    </tr>\n",
       "    <tr>\n",
       "      <th>2197</th>\n",
       "      <td>118</td>\n",
       "      <td>33</td>\n",
       "      <td>30</td>\n",
       "      <td>24.131797</td>\n",
       "      <td>67.225123</td>\n",
       "      <td>6.362608</td>\n",
       "      <td>173.322839</td>\n",
       "      <td>coffee</td>\n",
       "      <td>5</td>\n",
       "    </tr>\n",
       "    <tr>\n",
       "      <th>2198</th>\n",
       "      <td>117</td>\n",
       "      <td>32</td>\n",
       "      <td>34</td>\n",
       "      <td>26.272418</td>\n",
       "      <td>52.127394</td>\n",
       "      <td>6.758793</td>\n",
       "      <td>127.175293</td>\n",
       "      <td>coffee</td>\n",
       "      <td>5</td>\n",
       "    </tr>\n",
       "    <tr>\n",
       "      <th>2199</th>\n",
       "      <td>104</td>\n",
       "      <td>18</td>\n",
       "      <td>30</td>\n",
       "      <td>23.603016</td>\n",
       "      <td>60.396475</td>\n",
       "      <td>6.779833</td>\n",
       "      <td>140.937041</td>\n",
       "      <td>coffee</td>\n",
       "      <td>5</td>\n",
       "    </tr>\n",
       "  </tbody>\n",
       "</table>\n",
       "<p>2200 rows × 9 columns</p>\n",
       "</div>"
      ],
      "text/plain": [
       "        N   P   K  temperature   humidity        ph    rainfall   label  \\\n",
       "0      90  42  43    20.879744  82.002744  6.502985  202.935536    rice   \n",
       "1      85  58  41    21.770462  80.319644  7.038096  226.655537    rice   \n",
       "2      60  55  44    23.004459  82.320763  7.840207  263.964248    rice   \n",
       "3      74  35  40    26.491096  80.158363  6.980401  242.864034    rice   \n",
       "4      78  42  42    20.130175  81.604873  7.628473  262.717340    rice   \n",
       "...   ...  ..  ..          ...        ...       ...         ...     ...   \n",
       "2195  107  34  32    26.774637  66.413269  6.780064  177.774507  coffee   \n",
       "2196   99  15  27    27.417112  56.636362  6.086922  127.924610  coffee   \n",
       "2197  118  33  30    24.131797  67.225123  6.362608  173.322839  coffee   \n",
       "2198  117  32  34    26.272418  52.127394  6.758793  127.175293  coffee   \n",
       "2199  104  18  30    23.603016  60.396475  6.779833  140.937041  coffee   \n",
       "\n",
       "      label_codes  \n",
       "0              20  \n",
       "1              20  \n",
       "2              20  \n",
       "3              20  \n",
       "4              20  \n",
       "...           ...  \n",
       "2195            5  \n",
       "2196            5  \n",
       "2197            5  \n",
       "2198            5  \n",
       "2199            5  \n",
       "\n",
       "[2200 rows x 9 columns]"
      ]
     },
     "execution_count": 58,
     "metadata": {},
     "output_type": "execute_result"
    }
   ],
   "source": [
    "xdf['label_codes'] = labelencoder.fit_transform(xdf['label']) \n",
    "xdf"
   ]
  },
  {
   "cell_type": "code",
   "execution_count": 62,
   "metadata": {},
   "outputs": [
    {
     "data": {
      "text/html": [
       "<div>\n",
       "<style scoped>\n",
       "    .dataframe tbody tr th:only-of-type {\n",
       "        vertical-align: middle;\n",
       "    }\n",
       "\n",
       "    .dataframe tbody tr th {\n",
       "        vertical-align: top;\n",
       "    }\n",
       "\n",
       "    .dataframe thead th {\n",
       "        text-align: right;\n",
       "    }\n",
       "</style>\n",
       "<table border=\"1\" class=\"dataframe\">\n",
       "  <thead>\n",
       "    <tr style=\"text-align: right;\">\n",
       "      <th></th>\n",
       "      <th>label</th>\n",
       "      <th>label_codes</th>\n",
       "    </tr>\n",
       "  </thead>\n",
       "  <tbody>\n",
       "    <tr>\n",
       "      <th>0</th>\n",
       "      <td>rice</td>\n",
       "      <td>20</td>\n",
       "    </tr>\n",
       "    <tr>\n",
       "      <th>1</th>\n",
       "      <td>rice</td>\n",
       "      <td>20</td>\n",
       "    </tr>\n",
       "    <tr>\n",
       "      <th>2</th>\n",
       "      <td>rice</td>\n",
       "      <td>20</td>\n",
       "    </tr>\n",
       "    <tr>\n",
       "      <th>3</th>\n",
       "      <td>rice</td>\n",
       "      <td>20</td>\n",
       "    </tr>\n",
       "    <tr>\n",
       "      <th>4</th>\n",
       "      <td>rice</td>\n",
       "      <td>20</td>\n",
       "    </tr>\n",
       "    <tr>\n",
       "      <th>...</th>\n",
       "      <td>...</td>\n",
       "      <td>...</td>\n",
       "    </tr>\n",
       "    <tr>\n",
       "      <th>2195</th>\n",
       "      <td>coffee</td>\n",
       "      <td>5</td>\n",
       "    </tr>\n",
       "    <tr>\n",
       "      <th>2196</th>\n",
       "      <td>coffee</td>\n",
       "      <td>5</td>\n",
       "    </tr>\n",
       "    <tr>\n",
       "      <th>2197</th>\n",
       "      <td>coffee</td>\n",
       "      <td>5</td>\n",
       "    </tr>\n",
       "    <tr>\n",
       "      <th>2198</th>\n",
       "      <td>coffee</td>\n",
       "      <td>5</td>\n",
       "    </tr>\n",
       "    <tr>\n",
       "      <th>2199</th>\n",
       "      <td>coffee</td>\n",
       "      <td>5</td>\n",
       "    </tr>\n",
       "  </tbody>\n",
       "</table>\n",
       "<p>2200 rows × 2 columns</p>\n",
       "</div>"
      ],
      "text/plain": [
       "       label  label_codes\n",
       "0       rice           20\n",
       "1       rice           20\n",
       "2       rice           20\n",
       "3       rice           20\n",
       "4       rice           20\n",
       "...      ...          ...\n",
       "2195  coffee            5\n",
       "2196  coffee            5\n",
       "2197  coffee            5\n",
       "2198  coffee            5\n",
       "2199  coffee            5\n",
       "\n",
       "[2200 rows x 2 columns]"
      ]
     },
     "execution_count": 62,
     "metadata": {},
     "output_type": "execute_result"
    }
   ],
   "source": [
    "a = xdf['label'].unique()\n",
    "b = xdf['label_codes'].unique()\n",
    "\n",
    "df_new = xdf[['label', 'label_codes']]\n",
    "df_new"
   ]
  },
  {
   "cell_type": "code",
   "execution_count": 47,
   "metadata": {},
   "outputs": [
    {
     "data": {
      "text/plain": [
       "array([20, 11,  3,  9, 18, 13, 14,  2, 10, 19,  1, 12,  7, 21, 15,  0, 16,\n",
       "       17,  4,  6,  8,  5])"
      ]
     },
     "execution_count": 47,
     "metadata": {},
     "output_type": "execute_result"
    }
   ],
   "source": [
    "xdf['label_codes'].unique()"
   ]
  },
  {
   "cell_type": "code",
   "execution_count": 14,
   "metadata": {
    "id": "QGhkh4Mhm_Y7"
   },
   "outputs": [],
   "source": [
    "X = xdf.drop(['temperature','humidity','rainfall','label','label_codes'],axis = 1)"
   ]
  },
  {
   "cell_type": "code",
   "execution_count": 55,
   "metadata": {
    "id": "IoAdzNqynRbn"
   },
   "outputs": [
    {
     "data": {
      "text/plain": [
       "0       20\n",
       "1       20\n",
       "2       20\n",
       "3       20\n",
       "4       20\n",
       "        ..\n",
       "2195     5\n",
       "2196     5\n",
       "2197     5\n",
       "2198     5\n",
       "2199     5\n",
       "Name: label_codes, Length: 2200, dtype: int32"
      ]
     },
     "execution_count": 55,
     "metadata": {},
     "output_type": "execute_result"
    }
   ],
   "source": [
    "y = xdf['label_codes']\n",
    "y"
   ]
  },
  {
   "cell_type": "code",
   "execution_count": null,
   "metadata": {},
   "outputs": [],
   "source": []
  },
  {
   "cell_type": "code",
   "execution_count": 16,
   "metadata": {
    "colab": {
     "base_uri": "https://localhost:8080/",
     "height": 424
    },
    "id": "wlvj63DanUsb",
    "outputId": "f7885d0c-98a2-4f96-bc2c-24ecdf07dd0c"
   },
   "outputs": [
    {
     "data": {
      "text/html": [
       "<div>\n",
       "<style scoped>\n",
       "    .dataframe tbody tr th:only-of-type {\n",
       "        vertical-align: middle;\n",
       "    }\n",
       "\n",
       "    .dataframe tbody tr th {\n",
       "        vertical-align: top;\n",
       "    }\n",
       "\n",
       "    .dataframe thead th {\n",
       "        text-align: right;\n",
       "    }\n",
       "</style>\n",
       "<table border=\"1\" class=\"dataframe\">\n",
       "  <thead>\n",
       "    <tr style=\"text-align: right;\">\n",
       "      <th></th>\n",
       "      <th>N</th>\n",
       "      <th>P</th>\n",
       "      <th>K</th>\n",
       "      <th>ph</th>\n",
       "    </tr>\n",
       "  </thead>\n",
       "  <tbody>\n",
       "    <tr>\n",
       "      <th>0</th>\n",
       "      <td>90</td>\n",
       "      <td>42</td>\n",
       "      <td>43</td>\n",
       "      <td>6.502985</td>\n",
       "    </tr>\n",
       "    <tr>\n",
       "      <th>1</th>\n",
       "      <td>85</td>\n",
       "      <td>58</td>\n",
       "      <td>41</td>\n",
       "      <td>7.038096</td>\n",
       "    </tr>\n",
       "    <tr>\n",
       "      <th>2</th>\n",
       "      <td>60</td>\n",
       "      <td>55</td>\n",
       "      <td>44</td>\n",
       "      <td>7.840207</td>\n",
       "    </tr>\n",
       "    <tr>\n",
       "      <th>3</th>\n",
       "      <td>74</td>\n",
       "      <td>35</td>\n",
       "      <td>40</td>\n",
       "      <td>6.980401</td>\n",
       "    </tr>\n",
       "    <tr>\n",
       "      <th>4</th>\n",
       "      <td>78</td>\n",
       "      <td>42</td>\n",
       "      <td>42</td>\n",
       "      <td>7.628473</td>\n",
       "    </tr>\n",
       "    <tr>\n",
       "      <th>...</th>\n",
       "      <td>...</td>\n",
       "      <td>...</td>\n",
       "      <td>...</td>\n",
       "      <td>...</td>\n",
       "    </tr>\n",
       "    <tr>\n",
       "      <th>2195</th>\n",
       "      <td>107</td>\n",
       "      <td>34</td>\n",
       "      <td>32</td>\n",
       "      <td>6.780064</td>\n",
       "    </tr>\n",
       "    <tr>\n",
       "      <th>2196</th>\n",
       "      <td>99</td>\n",
       "      <td>15</td>\n",
       "      <td>27</td>\n",
       "      <td>6.086922</td>\n",
       "    </tr>\n",
       "    <tr>\n",
       "      <th>2197</th>\n",
       "      <td>118</td>\n",
       "      <td>33</td>\n",
       "      <td>30</td>\n",
       "      <td>6.362608</td>\n",
       "    </tr>\n",
       "    <tr>\n",
       "      <th>2198</th>\n",
       "      <td>117</td>\n",
       "      <td>32</td>\n",
       "      <td>34</td>\n",
       "      <td>6.758793</td>\n",
       "    </tr>\n",
       "    <tr>\n",
       "      <th>2199</th>\n",
       "      <td>104</td>\n",
       "      <td>18</td>\n",
       "      <td>30</td>\n",
       "      <td>6.779833</td>\n",
       "    </tr>\n",
       "  </tbody>\n",
       "</table>\n",
       "<p>2200 rows × 4 columns</p>\n",
       "</div>"
      ],
      "text/plain": [
       "        N   P   K        ph\n",
       "0      90  42  43  6.502985\n",
       "1      85  58  41  7.038096\n",
       "2      60  55  44  7.840207\n",
       "3      74  35  40  6.980401\n",
       "4      78  42  42  7.628473\n",
       "...   ...  ..  ..       ...\n",
       "2195  107  34  32  6.780064\n",
       "2196   99  15  27  6.086922\n",
       "2197  118  33  30  6.362608\n",
       "2198  117  32  34  6.758793\n",
       "2199  104  18  30  6.779833\n",
       "\n",
       "[2200 rows x 4 columns]"
      ]
     },
     "execution_count": 16,
     "metadata": {},
     "output_type": "execute_result"
    }
   ],
   "source": [
    "X"
   ]
  },
  {
   "cell_type": "code",
   "execution_count": 17,
   "metadata": {
    "colab": {
     "base_uri": "https://localhost:8080/"
    },
    "id": "0wtrgTWDnWxu",
    "outputId": "921cdbda-3592-48cb-ca11-a54fde0f16e4"
   },
   "outputs": [
    {
     "data": {
      "text/plain": [
       "0       20\n",
       "1       20\n",
       "2       20\n",
       "3       20\n",
       "4       20\n",
       "        ..\n",
       "2195     5\n",
       "2196     5\n",
       "2197     5\n",
       "2198     5\n",
       "2199     5\n",
       "Name: label_codes, Length: 2200, dtype: int32"
      ]
     },
     "execution_count": 17,
     "metadata": {},
     "output_type": "execute_result"
    }
   ],
   "source": [
    "y"
   ]
  },
  {
   "cell_type": "code",
   "execution_count": 18,
   "metadata": {},
   "outputs": [
    {
     "data": {
      "text/plain": [
       "array([20, 11,  3,  9, 18, 13, 14,  2, 10, 19,  1, 12,  7, 21, 15,  0, 16,\n",
       "       17,  4,  6,  8,  5])"
      ]
     },
     "execution_count": 18,
     "metadata": {},
     "output_type": "execute_result"
    }
   ],
   "source": [
    "y.unique()"
   ]
  },
  {
   "cell_type": "code",
   "execution_count": null,
   "metadata": {},
   "outputs": [],
   "source": []
  },
  {
   "cell_type": "code",
   "execution_count": 19,
   "metadata": {
    "id": "W0CWRjIynpFz"
   },
   "outputs": [],
   "source": [
    "from sklearn.model_selection import train_test_split"
   ]
  },
  {
   "cell_type": "code",
   "execution_count": 20,
   "metadata": {
    "id": "DICydNiXpOOW"
   },
   "outputs": [],
   "source": [
    "Xtrain, Xtest, ytrain, ytest = train_test_split(X, y, test_size=0.3)"
   ]
  },
  {
   "cell_type": "code",
   "execution_count": 21,
   "metadata": {
    "id": "C_TCCsC_pVN5"
   },
   "outputs": [],
   "source": [
    "from sklearn.linear_model import LinearRegression"
   ]
  },
  {
   "cell_type": "code",
   "execution_count": 22,
   "metadata": {
    "id": "u8yX80VYpZNS"
   },
   "outputs": [],
   "source": [
    "reg=LinearRegression()"
   ]
  },
  {
   "cell_type": "code",
   "execution_count": 23,
   "metadata": {
    "colab": {
     "base_uri": "https://localhost:8080/",
     "height": 74
    },
    "id": "tEJmJVKypjR_",
    "outputId": "c2e1d575-8b69-43c5-bb81-9c963aaa2792"
   },
   "outputs": [
    {
     "data": {
      "text/plain": [
       "LinearRegression()"
      ]
     },
     "execution_count": 23,
     "metadata": {},
     "output_type": "execute_result"
    }
   ],
   "source": [
    "reg.fit(Xtrain, ytrain)"
   ]
  },
  {
   "cell_type": "code",
   "execution_count": 24,
   "metadata": {
    "colab": {
     "base_uri": "https://localhost:8080/"
    },
    "id": "kUV4MBr7pqLn",
    "outputId": "627924fa-eb85-4d79-8512-f1b51c477899"
   },
   "outputs": [
    {
     "data": {
      "text/plain": [
       "444     18\n",
       "249      3\n",
       "97      20\n",
       "546     13\n",
       "1929     6\n",
       "        ..\n",
       "986     19\n",
       "0       20\n",
       "1992     6\n",
       "198     11\n",
       "488     18\n",
       "Name: label_codes, Length: 660, dtype: int32"
      ]
     },
     "execution_count": 24,
     "metadata": {},
     "output_type": "execute_result"
    }
   ],
   "source": [
    "ytest"
   ]
  },
  {
   "cell_type": "code",
   "execution_count": 25,
   "metadata": {
    "id": "vym2YlOdp0b_"
   },
   "outputs": [],
   "source": [
    "pred=reg.predict(Xtest)"
   ]
  },
  {
   "cell_type": "code",
   "execution_count": 26,
   "metadata": {
    "colab": {
     "base_uri": "https://localhost:8080/"
    },
    "id": "tpQ_uxA8qJcZ",
    "outputId": "ca3748bc-d51d-4dc5-e493-c5a9e270c397"
   },
   "outputs": [
    {
     "data": {
      "text/plain": [
       "array([ 9.95038992,  8.88079087, 10.34362582,  9.99035288, 10.53215117,\n",
       "       14.18630328,  8.97254463, 10.33734793, 14.76682578,  9.72338133,\n",
       "        7.45197238, 10.36003557, 12.5928586 , 14.50018375,  9.69665494,\n",
       "       10.01808784, 12.19073345,  8.97507664, 12.2199586 , 14.0700087 ,\n",
       "        7.03404627,  7.55542084,  4.28163037, 10.65431385, 13.89575997,\n",
       "       11.07631697, 12.93308096,  9.96361434,  9.83679893, 12.34328677,\n",
       "        5.51433658, 15.70734465, 12.42364677,  8.38488223,  9.21534953,\n",
       "       14.00016891, 10.52598614,  9.06314302,  8.29824134, 10.31030867,\n",
       "       12.12138573, 10.33498506,  8.73484483,  7.57427179, 11.14449378,\n",
       "       14.5224351 ,  7.67539136,  8.87069881, 10.44345788, 12.35425625,\n",
       "       12.6552891 , 15.2924355 ,  9.21633535, 15.08853071, 12.94671655,\n",
       "       12.39789556, 10.09843647, 11.05348021, 10.44646066, 10.18231291,\n",
       "       10.61125069,  9.51019225,  9.07867264, 10.78000095, 15.07591965,\n",
       "        9.84231232, 12.96063331,  8.28696777, 11.98187059, 10.58100045,\n",
       "       11.17591036, 11.89222944,  9.50076701, 10.03722033,  9.23585698,\n",
       "       12.3746664 ,  9.12815013,  7.49601101,  8.78470577, 14.62512901,\n",
       "       12.49359934, 14.96560586, 10.8883986 , 10.38066183, 10.87079901,\n",
       "       14.33284636,  9.72239576, 11.50373383,  9.25063662, 11.22930574,\n",
       "       13.64965587,  8.09836295,  8.88824944, 13.93334074, 11.74577269,\n",
       "        9.88736931,  9.84910508, 11.7928645 , 11.84091767, 11.09693633,\n",
       "       15.40905249, 14.11915822, 16.61807739, 11.13091446, 12.17589085,\n",
       "       14.57015902,  3.56196565, 10.61983342, 10.65333656, 11.35082858,\n",
       "        8.99889122,  4.28664329,  9.98598482, 14.35576855,  4.25201214,\n",
       "       10.48734379,  8.51290706,  3.87103973,  9.56552931, 15.38602883,\n",
       "       14.02636458,  2.04793627, 12.71604732, 11.11537811, 11.89813109,\n",
       "       10.24257608, 15.89236733,  9.47733804, 11.63882124, 10.74009437,\n",
       "        9.05716574, 11.71196866,  9.45031978, 15.22903923,  5.71026173,\n",
       "       10.35927975, 13.36067515,  7.81254314,  9.30100097, 10.15211381,\n",
       "        8.9930616 ,  3.6389613 , 10.4489967 ,  8.83487135,  9.67087359,\n",
       "       13.79975243, 11.20784264, 12.08023082, 15.642595  ,  7.99329229,\n",
       "       12.83216193, 11.15674469,  2.87959196, 13.51423842,  8.19737901,\n",
       "       14.86240966,  2.33352313, 16.3685648 ,  9.1750269 ,  9.97864183,\n",
       "       11.51929897, 11.88959338, 13.84223495, 12.33814555,  2.62309974,\n",
       "       10.94303994, 11.21496089,  9.17866285, 11.38687245,  8.8939564 ,\n",
       "       10.84329777,  2.87095029, 11.40121064, 14.44058071, 14.20323886,\n",
       "       11.12644504, 12.64990644, 13.44084232,  5.27602576,  8.14763926,\n",
       "       11.0348858 , 11.02104014, 11.08230211,  9.50368955, 15.8031261 ,\n",
       "       14.28469148, 13.73459541,  9.58344958, 12.11906452,  5.78696722,\n",
       "       14.96591909, 13.79911964, 11.62457374, 11.90411922,  9.8853889 ,\n",
       "        8.81374832, 10.78821781, 13.27802809,  8.89361289,  2.91930081,\n",
       "       14.31224717, 10.19138036,  9.4225721 , 10.60638783,  5.84769161,\n",
       "        4.03719681,  7.55430496, 10.6984246 , 14.18711812, 11.4011218 ,\n",
       "       13.28743927,  4.21286046, 13.84144347,  9.54586167,  8.60617582,\n",
       "       11.62039479, 14.42296438,  8.32790747, 12.74780451,  8.44648468,\n",
       "        9.34208216,  7.92838753,  8.62686927,  8.97749431, 11.10669802,\n",
       "        8.87952931,  9.77351731, 12.76135228,  9.30152531, 11.74440446,\n",
       "       11.85070164,  8.18009759, 10.27110327, 10.70662598, 11.28232361,\n",
       "       12.5801039 ,  4.63611413,  9.26440143,  9.10432382, 11.13190598,\n",
       "       11.29310299, 11.85154863,  8.76344035,  8.09803283,  5.71207121,\n",
       "        9.20381748, 10.82408795,  9.09824349, 10.48606144,  5.35723655,\n",
       "       13.62021766, 14.30472117,  2.86274314,  5.27295479,  9.93559133,\n",
       "       10.76391411, 10.3758061 , 10.37804661, 15.99151796,  3.02993967,\n",
       "       10.63610279, 10.72942729,  2.65102685,  3.7356656 ,  8.64716264,\n",
       "        7.81373132,  6.46309752,  9.95324721, 15.76034689,  9.38854003,\n",
       "       11.81435128,  8.7331174 , 11.63511139, 11.97003405,  9.70003007,\n",
       "        3.02079808, 12.6001368 , 10.8202066 ,  9.06636661, 16.73464991,\n",
       "       13.2016491 ,  4.09075015,  3.54774117, 11.99354762,  9.19554415,\n",
       "       15.34396105, 15.61267276, 13.1073299 , 11.02438222, 10.1454097 ,\n",
       "       11.11752323, 15.64094859,  9.44460034, 13.79941983,  3.15787782,\n",
       "       13.29710148, 11.00685642, 10.77360379, 10.45463444,  9.14330068,\n",
       "        9.81949719, 12.39328256, 13.7996118 ,  9.16540463, 12.24799678,\n",
       "       11.74060439, 14.22729074,  9.17484807,  2.01109023,  9.24176719,\n",
       "        2.75137923,  4.01272905, 10.09497871, 10.71528615,  8.0711096 ,\n",
       "        9.88247072,  9.34376676, 13.47484006, 14.34240143,  9.98449539,\n",
       "        8.30903015, 11.87524919, 11.11927193,  9.79651499, 14.21700635,\n",
       "       10.06044471, 10.75044761, 13.81954747, 14.35646614, 10.06097345,\n",
       "       14.90518155, 10.0630651 , 12.07485862, 13.46335058, 16.10581896,\n",
       "        9.20451402,  7.45267678, 11.68213206, 13.75407419, 10.56089672,\n",
       "        4.64858167,  9.25994599, 16.30413202, 13.5621052 ,  9.19521797,\n",
       "        9.34305086, 10.59356163, 14.7477063 , 10.58113652, 10.96991317,\n",
       "        7.95555749, 10.19131797,  7.72860319, 12.85262119, 11.63996653,\n",
       "       15.9460374 , 12.41578758,  9.63858052,  9.78857631, 14.7149254 ,\n",
       "       14.08753348, 12.15236115, 11.79663371,  8.89536627,  9.25416402,\n",
       "        9.62845026, 10.78292093,  3.22763159, 13.38048702,  9.43217266,\n",
       "        8.61410759, 10.28968258, 13.01589237, 13.62144432,  2.9034363 ,\n",
       "       10.50707324, 12.07289991, 10.55473958, 13.64158735, 14.84202632,\n",
       "        9.94289352, 10.55959135, 10.97278248,  9.63950115, 12.46979853,\n",
       "       11.31432764, 11.99098674, 10.69039303, 10.61057395,  8.57915344,\n",
       "       10.66897515, 10.06139739, 12.42944016,  7.09279979, 11.62591592,\n",
       "       11.02013565, 10.55080586,  4.7766839 , 10.45974399,  4.14782236,\n",
       "       11.36243145, 12.407256  , 13.23484301,  7.49151335,  8.83118387,\n",
       "       10.80948389, 14.51007281,  9.67217978, 11.24600277,  7.85489494,\n",
       "       12.13144388,  9.46967502, 15.11318281,  9.73993421,  9.35918186,\n",
       "       10.34747366,  4.88408194, 14.32624036, 10.2919059 , 11.40977782,\n",
       "       13.23331678, 13.9208127 ,  8.58429989, 11.54950513,  9.53685026,\n",
       "        9.3971672 ,  6.10393163, 14.59711491,  8.96541399, 14.95017367,\n",
       "        6.75948817,  5.63778914, 10.3613953 , 10.13165737, 12.54364088,\n",
       "       12.07561531,  5.88073814, 12.90457171,  7.96951793, 11.70043859,\n",
       "       11.80593271, 14.63841298,  4.68904449, 10.54186955,  8.31558814,\n",
       "        9.29072721,  9.10215194,  3.81457926, 10.64482094, 14.46830596,\n",
       "       16.28848438, 14.36576745, 10.33912477, 12.75787122, 14.56573366,\n",
       "       11.00160726, 15.00313495,  9.65083622,  5.55534218, 10.04588016,\n",
       "       11.63774848, 14.93875909,  9.06149365,  7.80277717,  3.28420446,\n",
       "       11.4768293 , 14.24782798,  2.90055508, 11.96593032,  4.57445355,\n",
       "        9.27857042,  9.85754621, 11.36649835, 11.20321553, 10.81381273,\n",
       "       12.7042162 ,  9.24932002, 10.04115054, 12.50179518,  9.93431732,\n",
       "       14.61456296,  3.5248091 , 10.28308717,  9.5771257 ,  3.62963976,\n",
       "        9.21912414,  4.71176723, 13.33716086, 10.11324055,  8.8427986 ,\n",
       "       12.6720401 , 11.33902378, 14.49917733,  3.1473711 ,  8.99165356,\n",
       "       10.87063878, 12.63463196,  2.9819683 ,  9.06042772, 10.16189194,\n",
       "        9.54285235,  8.25779953,  9.90291231,  7.28724883,  1.95219457,\n",
       "        3.61676759, 12.38016677, 10.97601566,  2.58415462,  8.6394904 ,\n",
       "       10.64174368,  7.73318465, 14.91120334,  9.99999065,  9.00018104,\n",
       "       12.09142667, 13.47427151, 13.18023613,  3.17139021, 10.65493146,\n",
       "        7.47034298, 12.04276797, 10.74238576, 13.78872369, 10.8439168 ,\n",
       "        7.4597624 , 16.07360614, 13.89529845,  9.29699201, 10.69202655,\n",
       "        8.30468578,  4.72652008, 10.42780326, 14.81325166,  9.58902625,\n",
       "        5.69420536, 10.07496885,  8.88878709, 12.14798501, 10.86134446,\n",
       "       13.65633058, 11.47600445, 13.66853607, 14.16827589, 13.20493449,\n",
       "       10.20624218, 11.78115614, 13.26574091,  2.52210562, 12.87127877,\n",
       "       10.61030368, 11.56721569,  9.25994848,  6.13215384,  9.02301524,\n",
       "       12.66552177,  2.96444817, 11.95878298, 11.1229098 , 15.27663647,\n",
       "       10.07732529, 13.71709157,  6.70316591,  7.62731616,  9.47986695,\n",
       "        4.26248659,  8.88076978,  8.6711989 ,  9.84669724, 11.56863735,\n",
       "       13.49591285, 15.54480357, 11.94341275, 10.47205955,  9.62217075,\n",
       "       14.93318516, 14.10745157, 12.06657664, 12.64023447, 10.72974319,\n",
       "       14.66033412,  8.62240172, 10.74192308,  8.98907463,  4.86426436,\n",
       "       12.55542386,  9.34329145, 10.03824796, 14.93135446, 10.91981001,\n",
       "        9.1738592 ,  9.61663727,  8.94219363, 10.5742335 , 12.18534566,\n",
       "        9.18433811, 11.57229913, 13.19799038, 12.34306093,  2.41455677,\n",
       "       12.52938763,  7.59029752,  9.64027083,  4.54432138, 10.37017187,\n",
       "       11.43598156, 10.28887238, 10.66366862, 11.77640004, 13.12384575,\n",
       "       12.60961158, 13.14168668,  9.94906868, 15.38757129,  9.12128081,\n",
       "        2.93237209, 11.54670608,  8.35971599, 13.94110624,  9.95495168,\n",
       "        4.19610896, 13.33681641,  9.79474391,  9.70257286, 11.83983516,\n",
       "       11.61741306, 10.52350316,  9.22242646, 10.17585629, 13.43684347,\n",
       "       14.37246485,  9.96183423,  9.01687307,  8.96488176, 13.22798918,\n",
       "        6.09378922,  8.87495592,  3.75469577, 16.29037157, 11.21740573,\n",
       "       13.64459787,  9.5065104 ,  9.60567012, 12.22503537,  9.16790767,\n",
       "       16.0408791 , 14.79674973, 10.36434619,  3.0806424 , 10.39772763,\n",
       "        3.04527919, 10.99651527, 10.33626323,  8.39374096, 10.06766626,\n",
       "       16.27735968, 10.73805757, 10.33682991,  9.20547368,  8.89353537])"
      ]
     },
     "execution_count": 26,
     "metadata": {},
     "output_type": "execute_result"
    }
   ],
   "source": [
    "pred"
   ]
  },
  {
   "cell_type": "code",
   "execution_count": 27,
   "metadata": {
    "id": "CH-KTAFmrCtm"
   },
   "outputs": [],
   "source": [
    "from sklearn.metrics import mean_squared_error"
   ]
  },
  {
   "cell_type": "code",
   "execution_count": 28,
   "metadata": {
    "id": "fcz17UpMroBS"
   },
   "outputs": [],
   "source": [
    "accuracy_train = []\n",
    "accuracy_test = []\n",
    "model_name = []"
   ]
  },
  {
   "cell_type": "code",
   "execution_count": 29,
   "metadata": {
    "colab": {
     "base_uri": "https://localhost:8080/"
    },
    "id": "2XWPi-VUr1cJ",
    "outputId": "cefca51e-56e5-4399-8312-570b68750b94"
   },
   "outputs": [
    {
     "name": "stdout",
     "output_type": "stream",
     "text": [
      "Train Accuracy:  70.44998814571747\n"
     ]
    }
   ],
   "source": [
    "predict_linear_train = reg.predict(Xtrain)\n",
    "MSE_linear_train = ( mean_squared_error(ytrain, predict_linear_train)  )\n",
    "\n",
    "accuracy_linear_train = 100 - MSE_linear_train\n",
    "print(\"Train Accuracy: \", accuracy_linear_train)"
   ]
  },
  {
   "cell_type": "code",
   "execution_count": 30,
   "metadata": {
    "colab": {
     "base_uri": "https://localhost:8080/"
    },
    "id": "Jxcw7d_qr-3g",
    "outputId": "6cae3d0f-3081-4c13-f775-24ccb2a7ac11"
   },
   "outputs": [
    {
     "name": "stdout",
     "output_type": "stream",
     "text": [
      "Test Accuracy:  70.77632370726425\n"
     ]
    }
   ],
   "source": [
    "predict_linear_test = reg.predict(Xtest)\n",
    "MSE_linear_test = ( mean_squared_error(ytest, predict_linear_test)  )\n",
    "accuracy_linear_test = 100 - MSE_linear_test\n",
    "print(\"Test Accuracy: \", accuracy_linear_test)\n",
    "\n",
    "accuracy_train.append( accuracy_linear_train )\n",
    "accuracy_test.append( accuracy_linear_test )\n",
    "model_name.append('Linear Regression')"
   ]
  },
  {
   "cell_type": "code",
   "execution_count": 31,
   "metadata": {
    "colab": {
     "base_uri": "https://localhost:8080/",
     "height": 81
    },
    "id": "mSu6tYyRsDE_",
    "outputId": "1ec7e1a2-ff8e-4457-adf1-b15c40ec4a80"
   },
   "outputs": [
    {
     "data": {
      "text/html": [
       "<div>\n",
       "<style scoped>\n",
       "    .dataframe tbody tr th:only-of-type {\n",
       "        vertical-align: middle;\n",
       "    }\n",
       "\n",
       "    .dataframe tbody tr th {\n",
       "        vertical-align: top;\n",
       "    }\n",
       "\n",
       "    .dataframe thead th {\n",
       "        text-align: right;\n",
       "    }\n",
       "</style>\n",
       "<table border=\"1\" class=\"dataframe\">\n",
       "  <thead>\n",
       "    <tr style=\"text-align: right;\">\n",
       "      <th></th>\n",
       "      <th>model_name</th>\n",
       "      <th>accuracy_train</th>\n",
       "      <th>accuracy_test</th>\n",
       "    </tr>\n",
       "  </thead>\n",
       "  <tbody>\n",
       "    <tr>\n",
       "      <th>0</th>\n",
       "      <td>Linear Regression</td>\n",
       "      <td>70.449988</td>\n",
       "      <td>70.776324</td>\n",
       "    </tr>\n",
       "  </tbody>\n",
       "</table>\n",
       "</div>"
      ],
      "text/plain": [
       "          model_name  accuracy_train  accuracy_test\n",
       "0  Linear Regression       70.449988      70.776324"
      ]
     },
     "execution_count": 31,
     "metadata": {},
     "output_type": "execute_result"
    }
   ],
   "source": [
    "dftable = pd.DataFrame(columns={'accuracy_train', 'accuracy_test', 'model_name'})\n",
    "dftable['accuracy_train'] = accuracy_train\n",
    "dftable['accuracy_test'] = accuracy_test\n",
    "dftable['model_name'] = model_name\n",
    "dftable = dftable[['model_name', 'accuracy_train', 'accuracy_test']]\n",
    "dftable"
   ]
  },
  {
   "cell_type": "code",
   "execution_count": 32,
   "metadata": {
    "id": "jotb5UNLsUJO"
   },
   "outputs": [],
   "source": [
    "from joblib import dump"
   ]
  },
  {
   "cell_type": "code",
   "execution_count": 33,
   "metadata": {},
   "outputs": [
    {
     "data": {
      "text/plain": [
       "['./../Model/reg.joblib']"
      ]
     },
     "execution_count": 33,
     "metadata": {},
     "output_type": "execute_result"
    }
   ],
   "source": [
    "dump(reg, './../Model/reg.joblib')"
   ]
  },
  {
   "cell_type": "code",
   "execution_count": 34,
   "metadata": {},
   "outputs": [],
   "source": [
    "import pickle"
   ]
  },
  {
   "cell_type": "code",
   "execution_count": 35,
   "metadata": {},
   "outputs": [],
   "source": [
    "pickle.dump(reg, open(\"Linear_Reg.sav\", \"wb\"))\n"
   ]
  },
  {
   "cell_type": "code",
   "execution_count": 36,
   "metadata": {},
   "outputs": [],
   "source": [
    "with open('model_pickle','wb') as file:\n",
    "    pickle.dump(reg,file)"
   ]
  },
  {
   "cell_type": "code",
   "execution_count": 37,
   "metadata": {},
   "outputs": [],
   "source": [
    "with open('model_pickle','rb') as file:\n",
    "    mp = pickle.load(file)"
   ]
  },
  {
   "cell_type": "code",
   "execution_count": 38,
   "metadata": {},
   "outputs": [
    {
     "data": {
      "text/plain": [
       "array([-0.02396011, -0.10492331,  0.00368931, -0.42907683])"
      ]
     },
     "execution_count": 38,
     "metadata": {},
     "output_type": "execute_result"
    }
   ],
   "source": [
    "mp.coef_"
   ]
  },
  {
   "cell_type": "code",
   "execution_count": 39,
   "metadata": {},
   "outputs": [
    {
     "data": {
      "text/plain": [
       "19.932886325929424"
      ]
     },
     "execution_count": 39,
     "metadata": {},
     "output_type": "execute_result"
    }
   ],
   "source": [
    "mp.intercept_"
   ]
  },
  {
   "cell_type": "code",
   "execution_count": 40,
   "metadata": {},
   "outputs": [],
   "source": [
    "pd.to_pickle(reg,r'C:\\Users\\User\\Desktop\\299\\CSE-299-Project\\Model\\modelpickle')"
   ]
  },
  {
   "cell_type": "code",
   "execution_count": 41,
   "metadata": {},
   "outputs": [],
   "source": [
    "model = pd.read_pickle(r'C:\\Users\\User\\Desktop\\299\\CSE-299-Project\\Model\\modelpickle') "
   ]
  },
  {
   "cell_type": "code",
   "execution_count": 42,
   "metadata": {},
   "outputs": [
    {
     "name": "stdout",
     "output_type": "stream",
     "text": [
      "N: 2\n",
      "P: 2\n",
      "K: 2\n",
      "ph: 2\n",
      "[18.82434444]\n"
     ]
    },
    {
     "name": "stderr",
     "output_type": "stream",
     "text": [
      "C:\\ProgramData\\Anaconda3\\lib\\site-packages\\sklearn\\base.py:450: UserWarning: X does not have valid feature names, but LinearRegression was fitted with feature names\n",
      "  warnings.warn(\n"
     ]
    }
   ],
   "source": [
    "N = float(input(\"N: \"))\n",
    "P = float(input(\"P: \"))\n",
    "K = float(input(\"K: \"))\n",
    "ph = float(input(\"ph: \"))\n",
    "\n",
    "result = model.predict([[N ,P, K, ph]])\n",
    "print(result)"
   ]
  },
  {
   "cell_type": "markdown",
   "metadata": {},
   "source": [
    "model = SVC(gamma='auto')\n",
    "model.fit(Xtrain, ytrain)\n",
    "\n",
    "\n",
    "predictions = model.predict(Xtest)\n",
    "\n",
    "\n"
   ]
  },
  {
   "cell_type": "code",
   "execution_count": 43,
   "metadata": {},
   "outputs": [],
   "source": [
    "pickle.dump(reg, open(\"Linear_Reg.pkl\", \"wb\"))"
   ]
  },
  {
   "cell_type": "code",
   "execution_count": 44,
   "metadata": {},
   "outputs": [],
   "source": [
    "new = pickle.load(open(\"Linear_Reg.pkl\", \"rb\"))"
   ]
  },
  {
   "cell_type": "code",
   "execution_count": 45,
   "metadata": {},
   "outputs": [
    {
     "name": "stderr",
     "output_type": "stream",
     "text": [
      "C:\\ProgramData\\Anaconda3\\lib\\site-packages\\sklearn\\base.py:450: UserWarning: X does not have valid feature names, but LinearRegression was fitted with feature names\n",
      "  warnings.warn(\n"
     ]
    },
    {
     "data": {
      "text/plain": [
       "array([15.7767564])"
      ]
     },
     "execution_count": 45,
     "metadata": {},
     "output_type": "execute_result"
    }
   ],
   "source": [
    "new.predict([[5,6,7,8]])"
   ]
  }
 ],
 "metadata": {
  "colab": {
   "provenance": []
  },
  "kernelspec": {
   "display_name": "Python 3 (ipykernel)",
   "language": "python",
   "name": "python3"
  },
  "language_info": {
   "codemirror_mode": {
    "name": "ipython",
    "version": 3
   },
   "file_extension": ".py",
   "mimetype": "text/x-python",
   "name": "python",
   "nbconvert_exporter": "python",
   "pygments_lexer": "ipython3",
   "version": "3.9.13"
  }
 },
 "nbformat": 4,
 "nbformat_minor": 1
}
