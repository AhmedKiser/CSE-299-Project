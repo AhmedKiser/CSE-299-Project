{
 "cells": [
  {
   "cell_type": "code",
   "execution_count": 1,
   "metadata": {
    "id": "tH7ZABD8holx"
   },
   "outputs": [],
   "source": [
    "#import lib\n",
    "import numpy as np\n",
    "import matplotlib.pyplot as plt\n",
    "import pandas as pd"
   ]
  },
  {
   "cell_type": "code",
   "execution_count": 2,
   "metadata": {
    "id": "J3Jq9B9MhqNK"
   },
   "outputs": [],
   "source": [
    "df=pd.read_csv('Crop_recommendation.csv')"
   ]
  },
  {
   "cell_type": "code",
   "execution_count": 3,
   "metadata": {
    "colab": {
     "base_uri": "https://localhost:8080/",
     "height": 424
    },
    "id": "hfrKHn87iGV_",
    "outputId": "805df793-522b-4bd1-9988-6065fced2479"
   },
   "outputs": [
    {
     "data": {
      "text/html": [
       "<div>\n",
       "<style scoped>\n",
       "    .dataframe tbody tr th:only-of-type {\n",
       "        vertical-align: middle;\n",
       "    }\n",
       "\n",
       "    .dataframe tbody tr th {\n",
       "        vertical-align: top;\n",
       "    }\n",
       "\n",
       "    .dataframe thead th {\n",
       "        text-align: right;\n",
       "    }\n",
       "</style>\n",
       "<table border=\"1\" class=\"dataframe\">\n",
       "  <thead>\n",
       "    <tr style=\"text-align: right;\">\n",
       "      <th></th>\n",
       "      <th>N</th>\n",
       "      <th>P</th>\n",
       "      <th>K</th>\n",
       "      <th>temperature</th>\n",
       "      <th>humidity</th>\n",
       "      <th>ph</th>\n",
       "      <th>rainfall</th>\n",
       "      <th>label</th>\n",
       "    </tr>\n",
       "  </thead>\n",
       "  <tbody>\n",
       "    <tr>\n",
       "      <th>0</th>\n",
       "      <td>90</td>\n",
       "      <td>42</td>\n",
       "      <td>43</td>\n",
       "      <td>20.879744</td>\n",
       "      <td>82.002744</td>\n",
       "      <td>6.502985</td>\n",
       "      <td>202.935536</td>\n",
       "      <td>rice</td>\n",
       "    </tr>\n",
       "    <tr>\n",
       "      <th>1</th>\n",
       "      <td>85</td>\n",
       "      <td>58</td>\n",
       "      <td>41</td>\n",
       "      <td>21.770462</td>\n",
       "      <td>80.319644</td>\n",
       "      <td>7.038096</td>\n",
       "      <td>226.655537</td>\n",
       "      <td>rice</td>\n",
       "    </tr>\n",
       "    <tr>\n",
       "      <th>2</th>\n",
       "      <td>60</td>\n",
       "      <td>55</td>\n",
       "      <td>44</td>\n",
       "      <td>23.004459</td>\n",
       "      <td>82.320763</td>\n",
       "      <td>7.840207</td>\n",
       "      <td>263.964248</td>\n",
       "      <td>rice</td>\n",
       "    </tr>\n",
       "    <tr>\n",
       "      <th>3</th>\n",
       "      <td>74</td>\n",
       "      <td>35</td>\n",
       "      <td>40</td>\n",
       "      <td>26.491096</td>\n",
       "      <td>80.158363</td>\n",
       "      <td>6.980401</td>\n",
       "      <td>242.864034</td>\n",
       "      <td>rice</td>\n",
       "    </tr>\n",
       "    <tr>\n",
       "      <th>4</th>\n",
       "      <td>78</td>\n",
       "      <td>42</td>\n",
       "      <td>42</td>\n",
       "      <td>20.130175</td>\n",
       "      <td>81.604873</td>\n",
       "      <td>7.628473</td>\n",
       "      <td>262.717340</td>\n",
       "      <td>rice</td>\n",
       "    </tr>\n",
       "    <tr>\n",
       "      <th>...</th>\n",
       "      <td>...</td>\n",
       "      <td>...</td>\n",
       "      <td>...</td>\n",
       "      <td>...</td>\n",
       "      <td>...</td>\n",
       "      <td>...</td>\n",
       "      <td>...</td>\n",
       "      <td>...</td>\n",
       "    </tr>\n",
       "    <tr>\n",
       "      <th>2195</th>\n",
       "      <td>107</td>\n",
       "      <td>34</td>\n",
       "      <td>32</td>\n",
       "      <td>26.774637</td>\n",
       "      <td>66.413269</td>\n",
       "      <td>6.780064</td>\n",
       "      <td>177.774507</td>\n",
       "      <td>coffee</td>\n",
       "    </tr>\n",
       "    <tr>\n",
       "      <th>2196</th>\n",
       "      <td>99</td>\n",
       "      <td>15</td>\n",
       "      <td>27</td>\n",
       "      <td>27.417112</td>\n",
       "      <td>56.636362</td>\n",
       "      <td>6.086922</td>\n",
       "      <td>127.924610</td>\n",
       "      <td>coffee</td>\n",
       "    </tr>\n",
       "    <tr>\n",
       "      <th>2197</th>\n",
       "      <td>118</td>\n",
       "      <td>33</td>\n",
       "      <td>30</td>\n",
       "      <td>24.131797</td>\n",
       "      <td>67.225123</td>\n",
       "      <td>6.362608</td>\n",
       "      <td>173.322839</td>\n",
       "      <td>coffee</td>\n",
       "    </tr>\n",
       "    <tr>\n",
       "      <th>2198</th>\n",
       "      <td>117</td>\n",
       "      <td>32</td>\n",
       "      <td>34</td>\n",
       "      <td>26.272418</td>\n",
       "      <td>52.127394</td>\n",
       "      <td>6.758793</td>\n",
       "      <td>127.175293</td>\n",
       "      <td>coffee</td>\n",
       "    </tr>\n",
       "    <tr>\n",
       "      <th>2199</th>\n",
       "      <td>104</td>\n",
       "      <td>18</td>\n",
       "      <td>30</td>\n",
       "      <td>23.603016</td>\n",
       "      <td>60.396475</td>\n",
       "      <td>6.779833</td>\n",
       "      <td>140.937041</td>\n",
       "      <td>coffee</td>\n",
       "    </tr>\n",
       "  </tbody>\n",
       "</table>\n",
       "<p>2200 rows × 8 columns</p>\n",
       "</div>"
      ],
      "text/plain": [
       "        N   P   K  temperature   humidity        ph    rainfall   label\n",
       "0      90  42  43    20.879744  82.002744  6.502985  202.935536    rice\n",
       "1      85  58  41    21.770462  80.319644  7.038096  226.655537    rice\n",
       "2      60  55  44    23.004459  82.320763  7.840207  263.964248    rice\n",
       "3      74  35  40    26.491096  80.158363  6.980401  242.864034    rice\n",
       "4      78  42  42    20.130175  81.604873  7.628473  262.717340    rice\n",
       "...   ...  ..  ..          ...        ...       ...         ...     ...\n",
       "2195  107  34  32    26.774637  66.413269  6.780064  177.774507  coffee\n",
       "2196   99  15  27    27.417112  56.636362  6.086922  127.924610  coffee\n",
       "2197  118  33  30    24.131797  67.225123  6.362608  173.322839  coffee\n",
       "2198  117  32  34    26.272418  52.127394  6.758793  127.175293  coffee\n",
       "2199  104  18  30    23.603016  60.396475  6.779833  140.937041  coffee\n",
       "\n",
       "[2200 rows x 8 columns]"
      ]
     },
     "execution_count": 3,
     "metadata": {},
     "output_type": "execute_result"
    }
   ],
   "source": [
    "df"
   ]
  },
  {
   "cell_type": "code",
   "execution_count": 4,
   "metadata": {
    "colab": {
     "base_uri": "https://localhost:8080/"
    },
    "id": "SNiQzScoibtu",
    "outputId": "6d0f1ea1-aab7-4f86-b062-63d3b472458f"
   },
   "outputs": [
    {
     "data": {
      "text/plain": [
       "(2200, 8)"
      ]
     },
     "execution_count": 4,
     "metadata": {},
     "output_type": "execute_result"
    }
   ],
   "source": [
    "df.shape"
   ]
  },
  {
   "cell_type": "code",
   "execution_count": 5,
   "metadata": {
    "colab": {
     "base_uri": "https://localhost:8080/"
    },
    "id": "5qiFt2osidut",
    "outputId": "a4c2c0e6-0a52-4384-a2fa-1a68c8ec5695"
   },
   "outputs": [
    {
     "data": {
      "text/plain": [
       "N              0\n",
       "P              0\n",
       "K              0\n",
       "temperature    0\n",
       "humidity       0\n",
       "ph             0\n",
       "rainfall       0\n",
       "label          0\n",
       "dtype: int64"
      ]
     },
     "execution_count": 5,
     "metadata": {},
     "output_type": "execute_result"
    }
   ],
   "source": [
    "df.isnull().sum()"
   ]
  },
  {
   "cell_type": "code",
   "execution_count": 6,
   "metadata": {
    "id": "gtCmBeNti13r"
   },
   "outputs": [],
   "source": [
    "X=df.drop( ['temperature','humidity','rainfall','label'],axis=1)"
   ]
  },
  {
   "cell_type": "code",
   "execution_count": 7,
   "metadata": {
    "id": "mdx5g2UEjlkB"
   },
   "outputs": [],
   "source": [
    "y=df['label']"
   ]
  },
  {
   "cell_type": "code",
   "execution_count": 8,
   "metadata": {
    "colab": {
     "base_uri": "https://localhost:8080/",
     "height": 424
    },
    "id": "exyiWmmMjpdT",
    "outputId": "374cde18-fd66-48ba-ffb4-a45edd7803e6"
   },
   "outputs": [
    {
     "data": {
      "text/html": [
       "<div>\n",
       "<style scoped>\n",
       "    .dataframe tbody tr th:only-of-type {\n",
       "        vertical-align: middle;\n",
       "    }\n",
       "\n",
       "    .dataframe tbody tr th {\n",
       "        vertical-align: top;\n",
       "    }\n",
       "\n",
       "    .dataframe thead th {\n",
       "        text-align: right;\n",
       "    }\n",
       "</style>\n",
       "<table border=\"1\" class=\"dataframe\">\n",
       "  <thead>\n",
       "    <tr style=\"text-align: right;\">\n",
       "      <th></th>\n",
       "      <th>N</th>\n",
       "      <th>P</th>\n",
       "      <th>K</th>\n",
       "      <th>ph</th>\n",
       "    </tr>\n",
       "  </thead>\n",
       "  <tbody>\n",
       "    <tr>\n",
       "      <th>0</th>\n",
       "      <td>90</td>\n",
       "      <td>42</td>\n",
       "      <td>43</td>\n",
       "      <td>6.502985</td>\n",
       "    </tr>\n",
       "    <tr>\n",
       "      <th>1</th>\n",
       "      <td>85</td>\n",
       "      <td>58</td>\n",
       "      <td>41</td>\n",
       "      <td>7.038096</td>\n",
       "    </tr>\n",
       "    <tr>\n",
       "      <th>2</th>\n",
       "      <td>60</td>\n",
       "      <td>55</td>\n",
       "      <td>44</td>\n",
       "      <td>7.840207</td>\n",
       "    </tr>\n",
       "    <tr>\n",
       "      <th>3</th>\n",
       "      <td>74</td>\n",
       "      <td>35</td>\n",
       "      <td>40</td>\n",
       "      <td>6.980401</td>\n",
       "    </tr>\n",
       "    <tr>\n",
       "      <th>4</th>\n",
       "      <td>78</td>\n",
       "      <td>42</td>\n",
       "      <td>42</td>\n",
       "      <td>7.628473</td>\n",
       "    </tr>\n",
       "    <tr>\n",
       "      <th>...</th>\n",
       "      <td>...</td>\n",
       "      <td>...</td>\n",
       "      <td>...</td>\n",
       "      <td>...</td>\n",
       "    </tr>\n",
       "    <tr>\n",
       "      <th>2195</th>\n",
       "      <td>107</td>\n",
       "      <td>34</td>\n",
       "      <td>32</td>\n",
       "      <td>6.780064</td>\n",
       "    </tr>\n",
       "    <tr>\n",
       "      <th>2196</th>\n",
       "      <td>99</td>\n",
       "      <td>15</td>\n",
       "      <td>27</td>\n",
       "      <td>6.086922</td>\n",
       "    </tr>\n",
       "    <tr>\n",
       "      <th>2197</th>\n",
       "      <td>118</td>\n",
       "      <td>33</td>\n",
       "      <td>30</td>\n",
       "      <td>6.362608</td>\n",
       "    </tr>\n",
       "    <tr>\n",
       "      <th>2198</th>\n",
       "      <td>117</td>\n",
       "      <td>32</td>\n",
       "      <td>34</td>\n",
       "      <td>6.758793</td>\n",
       "    </tr>\n",
       "    <tr>\n",
       "      <th>2199</th>\n",
       "      <td>104</td>\n",
       "      <td>18</td>\n",
       "      <td>30</td>\n",
       "      <td>6.779833</td>\n",
       "    </tr>\n",
       "  </tbody>\n",
       "</table>\n",
       "<p>2200 rows × 4 columns</p>\n",
       "</div>"
      ],
      "text/plain": [
       "        N   P   K        ph\n",
       "0      90  42  43  6.502985\n",
       "1      85  58  41  7.038096\n",
       "2      60  55  44  7.840207\n",
       "3      74  35  40  6.980401\n",
       "4      78  42  42  7.628473\n",
       "...   ...  ..  ..       ...\n",
       "2195  107  34  32  6.780064\n",
       "2196   99  15  27  6.086922\n",
       "2197  118  33  30  6.362608\n",
       "2198  117  32  34  6.758793\n",
       "2199  104  18  30  6.779833\n",
       "\n",
       "[2200 rows x 4 columns]"
      ]
     },
     "execution_count": 8,
     "metadata": {},
     "output_type": "execute_result"
    }
   ],
   "source": [
    "X"
   ]
  },
  {
   "cell_type": "code",
   "execution_count": 9,
   "metadata": {
    "colab": {
     "base_uri": "https://localhost:8080/"
    },
    "id": "-qACFxcrkGCQ",
    "outputId": "5c8d274f-d5c4-4805-8ced-adfb1e195bac"
   },
   "outputs": [
    {
     "data": {
      "text/plain": [
       "0         rice\n",
       "1         rice\n",
       "2         rice\n",
       "3         rice\n",
       "4         rice\n",
       "         ...  \n",
       "2195    coffee\n",
       "2196    coffee\n",
       "2197    coffee\n",
       "2198    coffee\n",
       "2199    coffee\n",
       "Name: label, Length: 2200, dtype: object"
      ]
     },
     "execution_count": 9,
     "metadata": {},
     "output_type": "execute_result"
    }
   ],
   "source": [
    "y"
   ]
  },
  {
   "cell_type": "code",
   "execution_count": 10,
   "metadata": {
    "colab": {
     "base_uri": "https://localhost:8080/",
     "height": 424
    },
    "id": "UY7T-z2rkI-c",
    "outputId": "83babb41-81b6-4656-89c9-1d3c43295ea5"
   },
   "outputs": [
    {
     "data": {
      "text/html": [
       "<div>\n",
       "<style scoped>\n",
       "    .dataframe tbody tr th:only-of-type {\n",
       "        vertical-align: middle;\n",
       "    }\n",
       "\n",
       "    .dataframe tbody tr th {\n",
       "        vertical-align: top;\n",
       "    }\n",
       "\n",
       "    .dataframe thead th {\n",
       "        text-align: right;\n",
       "    }\n",
       "</style>\n",
       "<table border=\"1\" class=\"dataframe\">\n",
       "  <thead>\n",
       "    <tr style=\"text-align: right;\">\n",
       "      <th></th>\n",
       "      <th>N</th>\n",
       "      <th>P</th>\n",
       "      <th>K</th>\n",
       "      <th>temperature</th>\n",
       "      <th>humidity</th>\n",
       "      <th>ph</th>\n",
       "      <th>rainfall</th>\n",
       "      <th>label</th>\n",
       "    </tr>\n",
       "  </thead>\n",
       "  <tbody>\n",
       "    <tr>\n",
       "      <th>0</th>\n",
       "      <td>90</td>\n",
       "      <td>42</td>\n",
       "      <td>43</td>\n",
       "      <td>20.879744</td>\n",
       "      <td>82.002744</td>\n",
       "      <td>6.502985</td>\n",
       "      <td>202.935536</td>\n",
       "      <td>rice</td>\n",
       "    </tr>\n",
       "    <tr>\n",
       "      <th>1</th>\n",
       "      <td>85</td>\n",
       "      <td>58</td>\n",
       "      <td>41</td>\n",
       "      <td>21.770462</td>\n",
       "      <td>80.319644</td>\n",
       "      <td>7.038096</td>\n",
       "      <td>226.655537</td>\n",
       "      <td>rice</td>\n",
       "    </tr>\n",
       "    <tr>\n",
       "      <th>2</th>\n",
       "      <td>60</td>\n",
       "      <td>55</td>\n",
       "      <td>44</td>\n",
       "      <td>23.004459</td>\n",
       "      <td>82.320763</td>\n",
       "      <td>7.840207</td>\n",
       "      <td>263.964248</td>\n",
       "      <td>rice</td>\n",
       "    </tr>\n",
       "    <tr>\n",
       "      <th>3</th>\n",
       "      <td>74</td>\n",
       "      <td>35</td>\n",
       "      <td>40</td>\n",
       "      <td>26.491096</td>\n",
       "      <td>80.158363</td>\n",
       "      <td>6.980401</td>\n",
       "      <td>242.864034</td>\n",
       "      <td>rice</td>\n",
       "    </tr>\n",
       "    <tr>\n",
       "      <th>4</th>\n",
       "      <td>78</td>\n",
       "      <td>42</td>\n",
       "      <td>42</td>\n",
       "      <td>20.130175</td>\n",
       "      <td>81.604873</td>\n",
       "      <td>7.628473</td>\n",
       "      <td>262.717340</td>\n",
       "      <td>rice</td>\n",
       "    </tr>\n",
       "    <tr>\n",
       "      <th>...</th>\n",
       "      <td>...</td>\n",
       "      <td>...</td>\n",
       "      <td>...</td>\n",
       "      <td>...</td>\n",
       "      <td>...</td>\n",
       "      <td>...</td>\n",
       "      <td>...</td>\n",
       "      <td>...</td>\n",
       "    </tr>\n",
       "    <tr>\n",
       "      <th>2195</th>\n",
       "      <td>107</td>\n",
       "      <td>34</td>\n",
       "      <td>32</td>\n",
       "      <td>26.774637</td>\n",
       "      <td>66.413269</td>\n",
       "      <td>6.780064</td>\n",
       "      <td>177.774507</td>\n",
       "      <td>coffee</td>\n",
       "    </tr>\n",
       "    <tr>\n",
       "      <th>2196</th>\n",
       "      <td>99</td>\n",
       "      <td>15</td>\n",
       "      <td>27</td>\n",
       "      <td>27.417112</td>\n",
       "      <td>56.636362</td>\n",
       "      <td>6.086922</td>\n",
       "      <td>127.924610</td>\n",
       "      <td>coffee</td>\n",
       "    </tr>\n",
       "    <tr>\n",
       "      <th>2197</th>\n",
       "      <td>118</td>\n",
       "      <td>33</td>\n",
       "      <td>30</td>\n",
       "      <td>24.131797</td>\n",
       "      <td>67.225123</td>\n",
       "      <td>6.362608</td>\n",
       "      <td>173.322839</td>\n",
       "      <td>coffee</td>\n",
       "    </tr>\n",
       "    <tr>\n",
       "      <th>2198</th>\n",
       "      <td>117</td>\n",
       "      <td>32</td>\n",
       "      <td>34</td>\n",
       "      <td>26.272418</td>\n",
       "      <td>52.127394</td>\n",
       "      <td>6.758793</td>\n",
       "      <td>127.175293</td>\n",
       "      <td>coffee</td>\n",
       "    </tr>\n",
       "    <tr>\n",
       "      <th>2199</th>\n",
       "      <td>104</td>\n",
       "      <td>18</td>\n",
       "      <td>30</td>\n",
       "      <td>23.603016</td>\n",
       "      <td>60.396475</td>\n",
       "      <td>6.779833</td>\n",
       "      <td>140.937041</td>\n",
       "      <td>coffee</td>\n",
       "    </tr>\n",
       "  </tbody>\n",
       "</table>\n",
       "<p>2200 rows × 8 columns</p>\n",
       "</div>"
      ],
      "text/plain": [
       "        N   P   K  temperature   humidity        ph    rainfall   label\n",
       "0      90  42  43    20.879744  82.002744  6.502985  202.935536    rice\n",
       "1      85  58  41    21.770462  80.319644  7.038096  226.655537    rice\n",
       "2      60  55  44    23.004459  82.320763  7.840207  263.964248    rice\n",
       "3      74  35  40    26.491096  80.158363  6.980401  242.864034    rice\n",
       "4      78  42  42    20.130175  81.604873  7.628473  262.717340    rice\n",
       "...   ...  ..  ..          ...        ...       ...         ...     ...\n",
       "2195  107  34  32    26.774637  66.413269  6.780064  177.774507  coffee\n",
       "2196   99  15  27    27.417112  56.636362  6.086922  127.924610  coffee\n",
       "2197  118  33  30    24.131797  67.225123  6.362608  173.322839  coffee\n",
       "2198  117  32  34    26.272418  52.127394  6.758793  127.175293  coffee\n",
       "2199  104  18  30    23.603016  60.396475  6.779833  140.937041  coffee\n",
       "\n",
       "[2200 rows x 8 columns]"
      ]
     },
     "execution_count": 10,
     "metadata": {},
     "output_type": "execute_result"
    }
   ],
   "source": [
    "xdf = df.copy()\n",
    "xdf"
   ]
  },
  {
   "cell_type": "code",
   "execution_count": 11,
   "metadata": {
    "id": "cUE5z9PdkvxE"
   },
   "outputs": [],
   "source": [
    "from sklearn.preprocessing import LabelEncoder \n",
    "labelencoder= LabelEncoder() "
   ]
  },
  {
   "cell_type": "code",
   "execution_count": 12,
   "metadata": {
    "colab": {
     "base_uri": "https://localhost:8080/",
     "height": 424
    },
    "id": "3EodQQFzm7wD",
    "outputId": "194c4f2c-593d-4779-df24-fadf8dfeaa83"
   },
   "outputs": [
    {
     "data": {
      "text/html": [
       "<div>\n",
       "<style scoped>\n",
       "    .dataframe tbody tr th:only-of-type {\n",
       "        vertical-align: middle;\n",
       "    }\n",
       "\n",
       "    .dataframe tbody tr th {\n",
       "        vertical-align: top;\n",
       "    }\n",
       "\n",
       "    .dataframe thead th {\n",
       "        text-align: right;\n",
       "    }\n",
       "</style>\n",
       "<table border=\"1\" class=\"dataframe\">\n",
       "  <thead>\n",
       "    <tr style=\"text-align: right;\">\n",
       "      <th></th>\n",
       "      <th>N</th>\n",
       "      <th>P</th>\n",
       "      <th>K</th>\n",
       "      <th>temperature</th>\n",
       "      <th>humidity</th>\n",
       "      <th>ph</th>\n",
       "      <th>rainfall</th>\n",
       "      <th>label</th>\n",
       "      <th>label_codes</th>\n",
       "    </tr>\n",
       "  </thead>\n",
       "  <tbody>\n",
       "    <tr>\n",
       "      <th>0</th>\n",
       "      <td>90</td>\n",
       "      <td>42</td>\n",
       "      <td>43</td>\n",
       "      <td>20.879744</td>\n",
       "      <td>82.002744</td>\n",
       "      <td>6.502985</td>\n",
       "      <td>202.935536</td>\n",
       "      <td>rice</td>\n",
       "      <td>20</td>\n",
       "    </tr>\n",
       "    <tr>\n",
       "      <th>1</th>\n",
       "      <td>85</td>\n",
       "      <td>58</td>\n",
       "      <td>41</td>\n",
       "      <td>21.770462</td>\n",
       "      <td>80.319644</td>\n",
       "      <td>7.038096</td>\n",
       "      <td>226.655537</td>\n",
       "      <td>rice</td>\n",
       "      <td>20</td>\n",
       "    </tr>\n",
       "    <tr>\n",
       "      <th>2</th>\n",
       "      <td>60</td>\n",
       "      <td>55</td>\n",
       "      <td>44</td>\n",
       "      <td>23.004459</td>\n",
       "      <td>82.320763</td>\n",
       "      <td>7.840207</td>\n",
       "      <td>263.964248</td>\n",
       "      <td>rice</td>\n",
       "      <td>20</td>\n",
       "    </tr>\n",
       "    <tr>\n",
       "      <th>3</th>\n",
       "      <td>74</td>\n",
       "      <td>35</td>\n",
       "      <td>40</td>\n",
       "      <td>26.491096</td>\n",
       "      <td>80.158363</td>\n",
       "      <td>6.980401</td>\n",
       "      <td>242.864034</td>\n",
       "      <td>rice</td>\n",
       "      <td>20</td>\n",
       "    </tr>\n",
       "    <tr>\n",
       "      <th>4</th>\n",
       "      <td>78</td>\n",
       "      <td>42</td>\n",
       "      <td>42</td>\n",
       "      <td>20.130175</td>\n",
       "      <td>81.604873</td>\n",
       "      <td>7.628473</td>\n",
       "      <td>262.717340</td>\n",
       "      <td>rice</td>\n",
       "      <td>20</td>\n",
       "    </tr>\n",
       "    <tr>\n",
       "      <th>...</th>\n",
       "      <td>...</td>\n",
       "      <td>...</td>\n",
       "      <td>...</td>\n",
       "      <td>...</td>\n",
       "      <td>...</td>\n",
       "      <td>...</td>\n",
       "      <td>...</td>\n",
       "      <td>...</td>\n",
       "      <td>...</td>\n",
       "    </tr>\n",
       "    <tr>\n",
       "      <th>2195</th>\n",
       "      <td>107</td>\n",
       "      <td>34</td>\n",
       "      <td>32</td>\n",
       "      <td>26.774637</td>\n",
       "      <td>66.413269</td>\n",
       "      <td>6.780064</td>\n",
       "      <td>177.774507</td>\n",
       "      <td>coffee</td>\n",
       "      <td>5</td>\n",
       "    </tr>\n",
       "    <tr>\n",
       "      <th>2196</th>\n",
       "      <td>99</td>\n",
       "      <td>15</td>\n",
       "      <td>27</td>\n",
       "      <td>27.417112</td>\n",
       "      <td>56.636362</td>\n",
       "      <td>6.086922</td>\n",
       "      <td>127.924610</td>\n",
       "      <td>coffee</td>\n",
       "      <td>5</td>\n",
       "    </tr>\n",
       "    <tr>\n",
       "      <th>2197</th>\n",
       "      <td>118</td>\n",
       "      <td>33</td>\n",
       "      <td>30</td>\n",
       "      <td>24.131797</td>\n",
       "      <td>67.225123</td>\n",
       "      <td>6.362608</td>\n",
       "      <td>173.322839</td>\n",
       "      <td>coffee</td>\n",
       "      <td>5</td>\n",
       "    </tr>\n",
       "    <tr>\n",
       "      <th>2198</th>\n",
       "      <td>117</td>\n",
       "      <td>32</td>\n",
       "      <td>34</td>\n",
       "      <td>26.272418</td>\n",
       "      <td>52.127394</td>\n",
       "      <td>6.758793</td>\n",
       "      <td>127.175293</td>\n",
       "      <td>coffee</td>\n",
       "      <td>5</td>\n",
       "    </tr>\n",
       "    <tr>\n",
       "      <th>2199</th>\n",
       "      <td>104</td>\n",
       "      <td>18</td>\n",
       "      <td>30</td>\n",
       "      <td>23.603016</td>\n",
       "      <td>60.396475</td>\n",
       "      <td>6.779833</td>\n",
       "      <td>140.937041</td>\n",
       "      <td>coffee</td>\n",
       "      <td>5</td>\n",
       "    </tr>\n",
       "  </tbody>\n",
       "</table>\n",
       "<p>2200 rows × 9 columns</p>\n",
       "</div>"
      ],
      "text/plain": [
       "        N   P   K  temperature   humidity        ph    rainfall   label  \\\n",
       "0      90  42  43    20.879744  82.002744  6.502985  202.935536    rice   \n",
       "1      85  58  41    21.770462  80.319644  7.038096  226.655537    rice   \n",
       "2      60  55  44    23.004459  82.320763  7.840207  263.964248    rice   \n",
       "3      74  35  40    26.491096  80.158363  6.980401  242.864034    rice   \n",
       "4      78  42  42    20.130175  81.604873  7.628473  262.717340    rice   \n",
       "...   ...  ..  ..          ...        ...       ...         ...     ...   \n",
       "2195  107  34  32    26.774637  66.413269  6.780064  177.774507  coffee   \n",
       "2196   99  15  27    27.417112  56.636362  6.086922  127.924610  coffee   \n",
       "2197  118  33  30    24.131797  67.225123  6.362608  173.322839  coffee   \n",
       "2198  117  32  34    26.272418  52.127394  6.758793  127.175293  coffee   \n",
       "2199  104  18  30    23.603016  60.396475  6.779833  140.937041  coffee   \n",
       "\n",
       "      label_codes  \n",
       "0              20  \n",
       "1              20  \n",
       "2              20  \n",
       "3              20  \n",
       "4              20  \n",
       "...           ...  \n",
       "2195            5  \n",
       "2196            5  \n",
       "2197            5  \n",
       "2198            5  \n",
       "2199            5  \n",
       "\n",
       "[2200 rows x 9 columns]"
      ]
     },
     "execution_count": 12,
     "metadata": {},
     "output_type": "execute_result"
    }
   ],
   "source": [
    "xdf['label_codes'] = labelencoder.fit_transform(xdf['label']) \n",
    "xdf"
   ]
  },
  {
   "cell_type": "code",
   "execution_count": 13,
   "metadata": {
    "id": "QGhkh4Mhm_Y7"
   },
   "outputs": [],
   "source": [
    "X = xdf.drop(['temperature','humidity','rainfall','label','label_codes'],axis = 1)"
   ]
  },
  {
   "cell_type": "code",
   "execution_count": 14,
   "metadata": {
    "id": "IoAdzNqynRbn"
   },
   "outputs": [],
   "source": [
    "y = xdf['label_codes']"
   ]
  },
  {
   "cell_type": "code",
   "execution_count": 15,
   "metadata": {
    "colab": {
     "base_uri": "https://localhost:8080/",
     "height": 424
    },
    "id": "wlvj63DanUsb",
    "outputId": "f7885d0c-98a2-4f96-bc2c-24ecdf07dd0c"
   },
   "outputs": [
    {
     "data": {
      "text/html": [
       "<div>\n",
       "<style scoped>\n",
       "    .dataframe tbody tr th:only-of-type {\n",
       "        vertical-align: middle;\n",
       "    }\n",
       "\n",
       "    .dataframe tbody tr th {\n",
       "        vertical-align: top;\n",
       "    }\n",
       "\n",
       "    .dataframe thead th {\n",
       "        text-align: right;\n",
       "    }\n",
       "</style>\n",
       "<table border=\"1\" class=\"dataframe\">\n",
       "  <thead>\n",
       "    <tr style=\"text-align: right;\">\n",
       "      <th></th>\n",
       "      <th>N</th>\n",
       "      <th>P</th>\n",
       "      <th>K</th>\n",
       "      <th>ph</th>\n",
       "    </tr>\n",
       "  </thead>\n",
       "  <tbody>\n",
       "    <tr>\n",
       "      <th>0</th>\n",
       "      <td>90</td>\n",
       "      <td>42</td>\n",
       "      <td>43</td>\n",
       "      <td>6.502985</td>\n",
       "    </tr>\n",
       "    <tr>\n",
       "      <th>1</th>\n",
       "      <td>85</td>\n",
       "      <td>58</td>\n",
       "      <td>41</td>\n",
       "      <td>7.038096</td>\n",
       "    </tr>\n",
       "    <tr>\n",
       "      <th>2</th>\n",
       "      <td>60</td>\n",
       "      <td>55</td>\n",
       "      <td>44</td>\n",
       "      <td>7.840207</td>\n",
       "    </tr>\n",
       "    <tr>\n",
       "      <th>3</th>\n",
       "      <td>74</td>\n",
       "      <td>35</td>\n",
       "      <td>40</td>\n",
       "      <td>6.980401</td>\n",
       "    </tr>\n",
       "    <tr>\n",
       "      <th>4</th>\n",
       "      <td>78</td>\n",
       "      <td>42</td>\n",
       "      <td>42</td>\n",
       "      <td>7.628473</td>\n",
       "    </tr>\n",
       "    <tr>\n",
       "      <th>...</th>\n",
       "      <td>...</td>\n",
       "      <td>...</td>\n",
       "      <td>...</td>\n",
       "      <td>...</td>\n",
       "    </tr>\n",
       "    <tr>\n",
       "      <th>2195</th>\n",
       "      <td>107</td>\n",
       "      <td>34</td>\n",
       "      <td>32</td>\n",
       "      <td>6.780064</td>\n",
       "    </tr>\n",
       "    <tr>\n",
       "      <th>2196</th>\n",
       "      <td>99</td>\n",
       "      <td>15</td>\n",
       "      <td>27</td>\n",
       "      <td>6.086922</td>\n",
       "    </tr>\n",
       "    <tr>\n",
       "      <th>2197</th>\n",
       "      <td>118</td>\n",
       "      <td>33</td>\n",
       "      <td>30</td>\n",
       "      <td>6.362608</td>\n",
       "    </tr>\n",
       "    <tr>\n",
       "      <th>2198</th>\n",
       "      <td>117</td>\n",
       "      <td>32</td>\n",
       "      <td>34</td>\n",
       "      <td>6.758793</td>\n",
       "    </tr>\n",
       "    <tr>\n",
       "      <th>2199</th>\n",
       "      <td>104</td>\n",
       "      <td>18</td>\n",
       "      <td>30</td>\n",
       "      <td>6.779833</td>\n",
       "    </tr>\n",
       "  </tbody>\n",
       "</table>\n",
       "<p>2200 rows × 4 columns</p>\n",
       "</div>"
      ],
      "text/plain": [
       "        N   P   K        ph\n",
       "0      90  42  43  6.502985\n",
       "1      85  58  41  7.038096\n",
       "2      60  55  44  7.840207\n",
       "3      74  35  40  6.980401\n",
       "4      78  42  42  7.628473\n",
       "...   ...  ..  ..       ...\n",
       "2195  107  34  32  6.780064\n",
       "2196   99  15  27  6.086922\n",
       "2197  118  33  30  6.362608\n",
       "2198  117  32  34  6.758793\n",
       "2199  104  18  30  6.779833\n",
       "\n",
       "[2200 rows x 4 columns]"
      ]
     },
     "execution_count": 15,
     "metadata": {},
     "output_type": "execute_result"
    }
   ],
   "source": [
    "X"
   ]
  },
  {
   "cell_type": "code",
   "execution_count": 16,
   "metadata": {
    "colab": {
     "base_uri": "https://localhost:8080/"
    },
    "id": "0wtrgTWDnWxu",
    "outputId": "921cdbda-3592-48cb-ca11-a54fde0f16e4"
   },
   "outputs": [
    {
     "data": {
      "text/plain": [
       "0       20\n",
       "1       20\n",
       "2       20\n",
       "3       20\n",
       "4       20\n",
       "        ..\n",
       "2195     5\n",
       "2196     5\n",
       "2197     5\n",
       "2198     5\n",
       "2199     5\n",
       "Name: label_codes, Length: 2200, dtype: int32"
      ]
     },
     "execution_count": 16,
     "metadata": {},
     "output_type": "execute_result"
    }
   ],
   "source": [
    "y"
   ]
  },
  {
   "cell_type": "code",
   "execution_count": 42,
   "metadata": {},
   "outputs": [
    {
     "data": {
      "text/plain": [
       "array([20, 11,  3,  9, 18, 13, 14,  2, 10, 19,  1, 12,  7, 21, 15,  0, 16,\n",
       "       17,  4,  6,  8,  5])"
      ]
     },
     "execution_count": 42,
     "metadata": {},
     "output_type": "execute_result"
    }
   ],
   "source": [
    "y.unique()"
   ]
  },
  {
   "cell_type": "code",
   "execution_count": 17,
   "metadata": {
    "id": "W0CWRjIynpFz"
   },
   "outputs": [],
   "source": [
    "from sklearn.model_selection import train_test_split"
   ]
  },
  {
   "cell_type": "code",
   "execution_count": 18,
   "metadata": {
    "id": "DICydNiXpOOW"
   },
   "outputs": [],
   "source": [
    "Xtrain, Xtest, ytrain, ytest = train_test_split(X, y, test_size=0.3)"
   ]
  },
  {
   "cell_type": "code",
   "execution_count": 19,
   "metadata": {
    "id": "C_TCCsC_pVN5"
   },
   "outputs": [],
   "source": [
    "from sklearn.linear_model import LinearRegression"
   ]
  },
  {
   "cell_type": "code",
   "execution_count": 20,
   "metadata": {
    "id": "u8yX80VYpZNS"
   },
   "outputs": [],
   "source": [
    "reg=LinearRegression()"
   ]
  },
  {
   "cell_type": "code",
   "execution_count": 21,
   "metadata": {
    "colab": {
     "base_uri": "https://localhost:8080/",
     "height": 74
    },
    "id": "tEJmJVKypjR_",
    "outputId": "c2e1d575-8b69-43c5-bb81-9c963aaa2792"
   },
   "outputs": [
    {
     "data": {
      "text/plain": [
       "LinearRegression()"
      ]
     },
     "execution_count": 21,
     "metadata": {},
     "output_type": "execute_result"
    }
   ],
   "source": [
    "reg.fit(Xtrain, ytrain)"
   ]
  },
  {
   "cell_type": "code",
   "execution_count": 22,
   "metadata": {
    "colab": {
     "base_uri": "https://localhost:8080/"
    },
    "id": "kUV4MBr7pqLn",
    "outputId": "627924fa-eb85-4d79-8512-f1b51c477899"
   },
   "outputs": [
    {
     "data": {
      "text/plain": [
       "959     19\n",
       "1142    12\n",
       "808     10\n",
       "644     14\n",
       "1401    15\n",
       "        ..\n",
       "1822     4\n",
       "1395    21\n",
       "1937     6\n",
       "1963     6\n",
       "1431    15\n",
       "Name: label_codes, Length: 660, dtype: int32"
      ]
     },
     "execution_count": 22,
     "metadata": {},
     "output_type": "execute_result"
    }
   ],
   "source": [
    "ytest"
   ]
  },
  {
   "cell_type": "code",
   "execution_count": 23,
   "metadata": {
    "id": "vym2YlOdp0b_"
   },
   "outputs": [],
   "source": [
    "pred=reg.predict(Xtest)"
   ]
  },
  {
   "cell_type": "code",
   "execution_count": 24,
   "metadata": {
    "colab": {
     "base_uri": "https://localhost:8080/"
    },
    "id": "tpQ_uxA8qJcZ",
    "outputId": "ca3748bc-d51d-4dc5-e493-c5a9e270c397"
   },
   "outputs": [
    {
     "data": {
      "text/plain": [
       "array([16.50801838, 12.59523298, 10.13600365, 11.85567365, 11.89448348,\n",
       "        8.20970936,  8.13475199,  8.31707614, 13.55243257, 10.52519064,\n",
       "       11.52286252, 10.23424425,  9.36207575,  8.76761177,  9.86382467,\n",
       "       10.71829484, 11.92642768,  8.78676564, 12.02990113,  5.00972169,\n",
       "        9.77081832, 12.82647017,  7.21422945,  9.9279349 ,  4.62299308,\n",
       "        9.33198944,  8.75581515, 14.76108947,  7.10808469, 13.80188028,\n",
       "        8.52458798,  9.58892088, 11.94697653, 11.35359249, 15.92428311,\n",
       "        3.34904501, 11.97619545,  9.09822526, 10.79382216,  9.67779706,\n",
       "       14.85269445, 10.30720517, 10.21713254, 11.22301032,  6.34867888,\n",
       "       13.5620361 ,  7.55934738, 14.62391832, 14.5194595 ,  9.27048002,\n",
       "       11.58988843,  8.50647127, 13.65006435, 10.88928374, 10.78243674,\n",
       "       15.73532966, 11.46406891, 10.90117895, 14.04769049, 10.99486557,\n",
       "       11.8085466 ,  9.74162851, 11.00679534, 11.1375832 , 10.62013566,\n",
       "       16.20110543,  4.50921775,  7.6774469 ,  9.74283725,  9.65319097,\n",
       "       14.29477388, 14.20692364,  9.31337312,  9.78560097, 15.55060378,\n",
       "       15.55987871, 11.29133859, 13.15075981, 16.30902327, 11.19044902,\n",
       "        9.06230647,  9.39568028,  2.21860759,  8.76062554,  7.92471732,\n",
       "       10.6527539 , 10.53775359, 15.93577206, 11.13862881, 15.85010061,\n",
       "        9.9586619 , 13.54045   ,  4.85551693,  9.66693535, 16.0717323 ,\n",
       "        8.2562221 ,  3.84902869, 13.22636539, 11.65669228, 14.69215225,\n",
       "       11.85242455,  2.32588657,  2.33342825,  9.24174589,  4.84446921,\n",
       "        9.88129939,  8.7217164 , 14.52642932,  8.75962015,  9.85724024,\n",
       "       12.82694306, 15.19804875, 14.86710858, 14.96082141,  9.32935999,\n",
       "       10.35804461, 10.75146233, 10.72852002,  9.06586773, 12.29901718,\n",
       "        7.5534871 , 15.90281642,  9.9088259 , 11.98420007, 10.1481668 ,\n",
       "       10.24073069, 10.44228537,  9.04536572,  9.29851047, 10.80248471,\n",
       "       11.81402539, 11.00272389,  5.15498605, 13.75275386, 11.29557558,\n",
       "       14.86847393,  8.71249544, 11.39983408, 13.6643549 ,  9.25030829,\n",
       "        2.91939687, 10.05339037,  2.89581437, 10.60500373, 11.99537857,\n",
       "       14.82703449,  8.7321281 , 11.99317612, 14.43089572, 12.14858098,\n",
       "       12.57831737, 12.69920411, 10.31369704,  8.90433614,  5.60208205,\n",
       "       12.32320635, 10.23084545, 12.91019157,  9.40276512, 13.49977375,\n",
       "       15.59434509,  9.21679297, 15.74217597, 12.39326978, 12.26972575,\n",
       "        7.99071948, 13.75460866,  7.09846192,  8.43501529, 11.31683586,\n",
       "        9.76527732, 10.94524121, 12.13754453, 12.59973459, 11.08695278,\n",
       "        9.57306059, 13.18920679,  9.02014494,  7.20530733, 10.30105136,\n",
       "        3.64253877, 13.68193649,  9.79180775, 14.20140937, 10.66900254,\n",
       "       10.78142411, 11.83141553, 14.19528149, 12.04180003,  7.88637786,\n",
       "        9.8351249 ,  3.02571765,  9.83939216, 10.24544159, 15.01092581,\n",
       "        8.07020146, 13.57249416,  9.10789271,  8.99581079, 15.33438475,\n",
       "        9.52717869, 10.2931885 , 11.51755566, 12.42849486, 15.75472621,\n",
       "       12.24150987, 13.20681323,  2.29590505, 13.64993977,  5.35477502,\n",
       "       10.39063547, 12.89171507, 14.5523173 , 13.18711251, 10.68157911,\n",
       "       11.11733067,  9.40606515, 11.2347419 ,  4.52673608,  8.83216296,\n",
       "       11.69415932, 11.07504407, 11.25853496,  2.54935234,  7.60442225,\n",
       "       16.37003773, 11.89848301, 13.74452312, 10.15005151,  8.92305614,\n",
       "       15.63548673, 14.77917739,  2.6680116 ,  8.02209642, 13.84500586,\n",
       "        9.40941804,  9.60968379, 13.59519343, 12.18074766, 11.98188326,\n",
       "        9.58126573, 15.14240247, 10.06964894, 11.24365577,  9.09669373,\n",
       "       15.81898854,  4.52574466, 14.39750556, 14.30679668,  4.13267559,\n",
       "        8.06702652, 16.32286446, 14.50557853,  9.26126482, 12.97256665,\n",
       "       10.95384863, 13.45296288, 12.86710877, 16.55087942, 11.80755561,\n",
       "        8.88822738,  3.67624291,  3.2704682 , 14.00769166,  8.4418787 ,\n",
       "       10.79488251,  7.59453862, 15.74257336, 10.1474775 , 10.99010607,\n",
       "       16.64950635, 12.95080761,  6.35821674, 10.89831498, 13.77606646,\n",
       "       10.54890974, 10.3301962 ,  5.57640326, 13.53683173, 12.29620551,\n",
       "       13.34876472, 11.34038546, 15.02500485, 13.90648657,  9.12079557,\n",
       "        2.96423366,  8.04765896,  9.55616262, 16.56669863, 16.39420271,\n",
       "       11.46151294, 11.04812402,  9.70335381, 14.29981175,  2.45720794,\n",
       "       12.35966912, 10.34130161,  8.68559242, 13.17765025,  5.19361232,\n",
       "       15.74203448,  5.23351056, 10.06947284, 12.90551355, 14.07953486,\n",
       "        9.0527297 , 10.74056934, 13.68971178, 13.52757247, 10.66367409,\n",
       "        3.71227428, 15.58497896, 12.37218799, 13.31544024, 11.69447338,\n",
       "        9.06963906,  4.85676821, 10.77848759, 15.04277753, 10.52595902,\n",
       "       15.41357538, 10.60446694, 13.36795188,  7.22185305,  8.17546179,\n",
       "       14.94555187,  9.06710493, 10.55137196,  9.43643086, 10.97389401,\n",
       "       10.47656462,  3.19053874,  1.87309133, 15.22926687,  1.80868953,\n",
       "        9.80763668, 10.76647868,  9.0144778 , 13.15536196,  5.64742894,\n",
       "       11.92295146, 10.94432932, 14.89740854,  8.81363879,  9.31438551,\n",
       "        8.35953772,  9.91755278,  5.91142899,  7.98134241,  9.73829866,\n",
       "       16.62762524,  9.15824367,  8.89906877,  5.59748903, 16.0142243 ,\n",
       "       12.70100079,  9.45354728,  2.58455818, 10.91823778, 10.83629359,\n",
       "       12.22783792,  4.41267678,  9.24209282, 10.31369662, 13.05595646,\n",
       "        3.43195625, 12.19281822, 10.37553113,  8.91259845, 10.05405158,\n",
       "        9.64380604, 15.98364552, 10.54538645,  9.6440968 , 11.7829674 ,\n",
       "       10.79879776, 10.28153974, 14.26502048, 10.44383125, 13.29811226,\n",
       "        9.43220679,  9.35749872, 11.04706465,  3.43992842, 10.00038027,\n",
       "        2.69803989,  2.49453283, 16.43374757,  9.43658895,  8.86762596,\n",
       "        7.83188454, 10.2495564 , 11.91160915,  9.41366985,  8.20511963,\n",
       "       12.61588269, 12.01618162,  9.70106834,  8.40206311, 10.06045837,\n",
       "       10.10116343, 11.03784995, 14.56236425,  7.75160004, 12.46876886,\n",
       "       12.31361341, 15.86678167, 11.77767767,  9.11336693, 15.41359665,\n",
       "       10.53431366, 10.48884583,  7.90626034, 11.05338283, 11.17512185,\n",
       "       12.82737787, 10.67337869,  7.23509357, 15.14098063, 15.92546226,\n",
       "        8.61059967,  8.04321907,  4.81062162, 10.18394844, 11.49298881,\n",
       "        9.48395251,  9.98779847,  9.70444627,  9.15775318, 13.87444797,\n",
       "       11.07678017, 12.29634621,  9.255551  ,  7.55470829,  9.12601111,\n",
       "       10.30380911, 11.7228589 , 10.07294113,  2.82756589, 13.09035216,\n",
       "       10.01134361, 10.17198718,  9.93485926,  3.82616921, 12.61042718,\n",
       "        8.69135032, 11.58711846, 14.83220262, 11.19649676,  2.75580998,\n",
       "       12.5239666 , 10.59926166, 12.36752949,  8.78159737, 10.01288603,\n",
       "        9.08044607,  1.62109778, 15.94597795, 15.38115617, 13.98869805,\n",
       "       16.54842847, 11.45798316,  9.32073377,  7.52381818,  4.96213598,\n",
       "       11.63035521,  8.45039296,  9.28533193, 12.97628474,  9.65622065,\n",
       "       14.13338816,  2.54913587, 10.02181168,  8.88640007,  9.58489719,\n",
       "       13.37974922, 10.4222272 ,  9.0221406 ,  2.82162884,  5.36048872,\n",
       "        5.8902477 ,  8.1716673 ,  9.60462884, 10.29858025,  9.70009672,\n",
       "        8.93811407, 15.34943464, 11.88458585, 11.26010957, 14.57639686,\n",
       "       15.5399921 , 13.45729379, 14.97197803,  9.85577344,  4.06651866,\n",
       "       14.37291445, 12.26619052,  8.53149912, 15.40453381, 14.47518351,\n",
       "        9.05560713, 14.10675077,  7.42817614, 12.13735789, 12.70741526,\n",
       "       11.19145528, 10.51005507,  5.11630771, 13.19624375,  9.19252988,\n",
       "       13.83765545, 10.14933958, 10.33625931, 12.08861283,  9.99318273,\n",
       "       11.53858373, 10.38951967,  6.74993435,  9.04845154, 10.01827976,\n",
       "        9.88183057, 11.2064498 ,  4.71108052,  9.56443699,  6.35249285,\n",
       "        5.77609155, 13.01105407, 14.4094535 , 13.16592838,  7.74863848,\n",
       "       14.31069615, 10.71086139, 13.19756747,  9.79915081, 10.96419894,\n",
       "        4.12795885,  9.40517613,  9.6612536 , 13.18697284,  9.14346479,\n",
       "        7.31603139,  9.79344207, 13.6659071 , 14.36757102,  8.79698685,\n",
       "        9.10937499, 14.23009965,  8.56781598, 12.30531815, 10.28893083,\n",
       "        9.0889509 , 16.07146623,  9.16565735,  8.22409769,  7.89492466,\n",
       "        4.11942947, 11.05841571,  9.67502072, 10.075431  , 11.98680647,\n",
       "        8.91123222,  4.67941829,  8.628669  , 16.19474469, 12.3428009 ,\n",
       "        8.39526975, 10.15617642,  9.4292398 , 10.99383283,  9.19042548,\n",
       "        7.08053665, 12.74538841,  9.56393557, 11.14654408,  3.7681356 ,\n",
       "       10.30893051, 16.62225536, 11.88971832, 15.47153657, 10.63280796,\n",
       "       10.59920481, 12.7363351 , 12.38399743,  9.96247148, 10.54876229,\n",
       "        9.47722808,  9.27415658, 13.69312261, 12.37096741,  9.93404372,\n",
       "        2.98171879, 16.02760296,  8.36121984, 16.00504693, 13.3620714 ,\n",
       "        9.29484218, 11.69288149, 11.68873784, 16.34677535,  5.73551258,\n",
       "       13.50473339,  8.41555438, 14.83313344, 12.6723257 , 14.83775342,\n",
       "        8.33675637, 10.50227938, 11.02698833,  9.58860044, 13.6040856 ,\n",
       "       15.57421014, 14.90164391, 10.77082006,  8.19055185, 15.28515152,\n",
       "        9.49372161, 10.74645605,  8.44344044, 10.23616285, 14.86264296,\n",
       "       10.6943409 , 15.6416691 , 12.10639705, 11.25158918,  9.48312628,\n",
       "       13.94880426,  7.69579915,  7.44951663,  9.31945897, 10.34672107,\n",
       "        9.9883027 ,  9.16570843,  9.3760156 ,  9.4482188 , 10.0380432 ,\n",
       "       13.44196223,  8.00430309, 15.51575207,  2.63621384, 15.52192489,\n",
       "       12.54287856, 16.28635369,  4.81070057,  8.47204141,  8.57242428,\n",
       "       11.81843685,  3.10673738,  9.97654443,  9.10001327,  6.06713292,\n",
       "       11.84207107, 14.60924668, 11.47773099, 10.53707525, 11.43815157,\n",
       "       17.19001389, 13.78994679, 10.58335633,  9.48904148, 12.29495386])"
      ]
     },
     "execution_count": 24,
     "metadata": {},
     "output_type": "execute_result"
    }
   ],
   "source": [
    "pred"
   ]
  },
  {
   "cell_type": "code",
   "execution_count": 25,
   "metadata": {
    "id": "CH-KTAFmrCtm"
   },
   "outputs": [],
   "source": [
    "from sklearn.metrics import mean_squared_error"
   ]
  },
  {
   "cell_type": "code",
   "execution_count": 26,
   "metadata": {
    "id": "fcz17UpMroBS"
   },
   "outputs": [],
   "source": [
    "accuracy_train = []\n",
    "accuracy_test = []\n",
    "model_name = []"
   ]
  },
  {
   "cell_type": "code",
   "execution_count": 27,
   "metadata": {
    "colab": {
     "base_uri": "https://localhost:8080/"
    },
    "id": "2XWPi-VUr1cJ",
    "outputId": "cefca51e-56e5-4399-8312-570b68750b94"
   },
   "outputs": [
    {
     "name": "stdout",
     "output_type": "stream",
     "text": [
      "Train Accuracy:  70.7760648103485\n"
     ]
    }
   ],
   "source": [
    "predict_linear_train = reg.predict(Xtrain)\n",
    "MSE_linear_train = ( mean_squared_error(ytrain, predict_linear_train)  )\n",
    "\n",
    "accuracy_linear_train = 100 - MSE_linear_train\n",
    "print(\"Train Accuracy: \", accuracy_linear_train)"
   ]
  },
  {
   "cell_type": "code",
   "execution_count": 28,
   "metadata": {
    "colab": {
     "base_uri": "https://localhost:8080/"
    },
    "id": "Jxcw7d_qr-3g",
    "outputId": "6cae3d0f-3081-4c13-f775-24ccb2a7ac11"
   },
   "outputs": [
    {
     "name": "stdout",
     "output_type": "stream",
     "text": [
      "Test Accuracy:  70.0281066137391\n"
     ]
    }
   ],
   "source": [
    "predict_linear_test = reg.predict(Xtest)\n",
    "MSE_linear_test = ( mean_squared_error(ytest, predict_linear_test)  )\n",
    "accuracy_linear_test = 100 - MSE_linear_test\n",
    "print(\"Test Accuracy: \", accuracy_linear_test)\n",
    "\n",
    "accuracy_train.append( accuracy_linear_train )\n",
    "accuracy_test.append( accuracy_linear_test )\n",
    "model_name.append('Linear Regression')"
   ]
  },
  {
   "cell_type": "code",
   "execution_count": 29,
   "metadata": {
    "colab": {
     "base_uri": "https://localhost:8080/",
     "height": 81
    },
    "id": "mSu6tYyRsDE_",
    "outputId": "1ec7e1a2-ff8e-4457-adf1-b15c40ec4a80"
   },
   "outputs": [
    {
     "data": {
      "text/html": [
       "<div>\n",
       "<style scoped>\n",
       "    .dataframe tbody tr th:only-of-type {\n",
       "        vertical-align: middle;\n",
       "    }\n",
       "\n",
       "    .dataframe tbody tr th {\n",
       "        vertical-align: top;\n",
       "    }\n",
       "\n",
       "    .dataframe thead th {\n",
       "        text-align: right;\n",
       "    }\n",
       "</style>\n",
       "<table border=\"1\" class=\"dataframe\">\n",
       "  <thead>\n",
       "    <tr style=\"text-align: right;\">\n",
       "      <th></th>\n",
       "      <th>model_name</th>\n",
       "      <th>accuracy_train</th>\n",
       "      <th>accuracy_test</th>\n",
       "    </tr>\n",
       "  </thead>\n",
       "  <tbody>\n",
       "    <tr>\n",
       "      <th>0</th>\n",
       "      <td>Linear Regression</td>\n",
       "      <td>70.776065</td>\n",
       "      <td>70.028107</td>\n",
       "    </tr>\n",
       "  </tbody>\n",
       "</table>\n",
       "</div>"
      ],
      "text/plain": [
       "          model_name  accuracy_train  accuracy_test\n",
       "0  Linear Regression       70.776065      70.028107"
      ]
     },
     "execution_count": 29,
     "metadata": {},
     "output_type": "execute_result"
    }
   ],
   "source": [
    "dftable = pd.DataFrame(columns={'accuracy_train', 'accuracy_test', 'model_name'})\n",
    "dftable['accuracy_train'] = accuracy_train\n",
    "dftable['accuracy_test'] = accuracy_test\n",
    "dftable['model_name'] = model_name\n",
    "dftable = dftable[['model_name', 'accuracy_train', 'accuracy_test']]\n",
    "dftable"
   ]
  },
  {
   "cell_type": "code",
   "execution_count": 32,
   "metadata": {
    "id": "jotb5UNLsUJO"
   },
   "outputs": [],
   "source": [
    "from joblib import dump"
   ]
  },
  {
   "cell_type": "code",
   "execution_count": 36,
   "metadata": {},
   "outputs": [
    {
     "data": {
      "text/plain": [
       "['./../Model/reg.joblib']"
      ]
     },
     "execution_count": 36,
     "metadata": {},
     "output_type": "execute_result"
    }
   ],
   "source": [
    "dump(reg, './../Model/reg.joblib')"
   ]
  },
  {
   "cell_type": "code",
   "execution_count": null,
   "metadata": {},
   "outputs": [],
   "source": [
    "import pickle"
   ]
  },
  {
   "cell_type": "code",
   "execution_count": 40,
   "metadata": {},
   "outputs": [],
   "source": [
    "pickle.dump(reg, open(\"Linear_Reg.sav\", \"wb\"))\n"
   ]
  },
  {
   "cell_type": "code",
   "execution_count": 47,
   "metadata": {},
   "outputs": [],
   "source": [
    "with open('model_pickle','wb') as file:\n",
    "    pickle.dump(reg,file)"
   ]
  },
  {
   "cell_type": "code",
   "execution_count": 48,
   "metadata": {},
   "outputs": [],
   "source": [
    "with open('model_pickle','rb') as file:\n",
    "    mp = pickle.load(file)"
   ]
  },
  {
   "cell_type": "code",
   "execution_count": 49,
   "metadata": {},
   "outputs": [
    {
     "data": {
      "text/plain": [
       "array([-0.02401103, -0.10911634,  0.00385875, -0.61519428])"
      ]
     },
     "execution_count": 49,
     "metadata": {},
     "output_type": "execute_result"
    }
   ],
   "source": [
    "mp.coef_"
   ]
  },
  {
   "cell_type": "code",
   "execution_count": 50,
   "metadata": {},
   "outputs": [
    {
     "data": {
      "text/plain": [
       "21.408899853334255"
      ]
     },
     "execution_count": 50,
     "metadata": {},
     "output_type": "execute_result"
    }
   ],
   "source": [
    "mp.intercept_"
   ]
  }
 ],
 "metadata": {
  "colab": {
   "provenance": []
  },
  "kernelspec": {
   "display_name": "Python 3 (ipykernel)",
   "language": "python",
   "name": "python3"
  },
  "language_info": {
   "codemirror_mode": {
    "name": "ipython",
    "version": 3
   },
   "file_extension": ".py",
   "mimetype": "text/x-python",
   "name": "python",
   "nbconvert_exporter": "python",
   "pygments_lexer": "ipython3",
   "version": "3.9.13"
  }
 },
 "nbformat": 4,
 "nbformat_minor": 1
}
