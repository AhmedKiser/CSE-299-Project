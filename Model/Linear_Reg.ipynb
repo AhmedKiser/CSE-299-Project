{
 "cells": [
  {
   "cell_type": "code",
   "execution_count": 1,
   "metadata": {
    "id": "tH7ZABD8holx"
   },
   "outputs": [],
   "source": [
    "#import lib\n",
    "import numpy as np\n",
    "import matplotlib.pyplot as plt\n",
    "import pandas as pd\n",
    "from sklearn.svm import SVC"
   ]
  },
  {
   "cell_type": "code",
   "execution_count": 2,
   "metadata": {
    "id": "J3Jq9B9MhqNK"
   },
   "outputs": [],
   "source": [
    "df=pd.read_csv('Crop_recommendation.csv')"
   ]
  },
  {
   "cell_type": "code",
   "execution_count": 3,
   "metadata": {
    "colab": {
     "base_uri": "https://localhost:8080/",
     "height": 424
    },
    "id": "hfrKHn87iGV_",
    "outputId": "805df793-522b-4bd1-9988-6065fced2479"
   },
   "outputs": [
    {
     "data": {
      "text/html": [
       "<div>\n",
       "<style scoped>\n",
       "    .dataframe tbody tr th:only-of-type {\n",
       "        vertical-align: middle;\n",
       "    }\n",
       "\n",
       "    .dataframe tbody tr th {\n",
       "        vertical-align: top;\n",
       "    }\n",
       "\n",
       "    .dataframe thead th {\n",
       "        text-align: right;\n",
       "    }\n",
       "</style>\n",
       "<table border=\"1\" class=\"dataframe\">\n",
       "  <thead>\n",
       "    <tr style=\"text-align: right;\">\n",
       "      <th></th>\n",
       "      <th>N</th>\n",
       "      <th>P</th>\n",
       "      <th>K</th>\n",
       "      <th>temperature</th>\n",
       "      <th>humidity</th>\n",
       "      <th>ph</th>\n",
       "      <th>rainfall</th>\n",
       "      <th>label</th>\n",
       "    </tr>\n",
       "  </thead>\n",
       "  <tbody>\n",
       "    <tr>\n",
       "      <th>0</th>\n",
       "      <td>90</td>\n",
       "      <td>42</td>\n",
       "      <td>43</td>\n",
       "      <td>20.879744</td>\n",
       "      <td>82.002744</td>\n",
       "      <td>6.502985</td>\n",
       "      <td>202.935536</td>\n",
       "      <td>rice</td>\n",
       "    </tr>\n",
       "    <tr>\n",
       "      <th>1</th>\n",
       "      <td>85</td>\n",
       "      <td>58</td>\n",
       "      <td>41</td>\n",
       "      <td>21.770462</td>\n",
       "      <td>80.319644</td>\n",
       "      <td>7.038096</td>\n",
       "      <td>226.655537</td>\n",
       "      <td>rice</td>\n",
       "    </tr>\n",
       "    <tr>\n",
       "      <th>2</th>\n",
       "      <td>60</td>\n",
       "      <td>55</td>\n",
       "      <td>44</td>\n",
       "      <td>23.004459</td>\n",
       "      <td>82.320763</td>\n",
       "      <td>7.840207</td>\n",
       "      <td>263.964248</td>\n",
       "      <td>rice</td>\n",
       "    </tr>\n",
       "    <tr>\n",
       "      <th>3</th>\n",
       "      <td>74</td>\n",
       "      <td>35</td>\n",
       "      <td>40</td>\n",
       "      <td>26.491096</td>\n",
       "      <td>80.158363</td>\n",
       "      <td>6.980401</td>\n",
       "      <td>242.864034</td>\n",
       "      <td>rice</td>\n",
       "    </tr>\n",
       "    <tr>\n",
       "      <th>4</th>\n",
       "      <td>78</td>\n",
       "      <td>42</td>\n",
       "      <td>42</td>\n",
       "      <td>20.130175</td>\n",
       "      <td>81.604873</td>\n",
       "      <td>7.628473</td>\n",
       "      <td>262.717340</td>\n",
       "      <td>rice</td>\n",
       "    </tr>\n",
       "    <tr>\n",
       "      <th>...</th>\n",
       "      <td>...</td>\n",
       "      <td>...</td>\n",
       "      <td>...</td>\n",
       "      <td>...</td>\n",
       "      <td>...</td>\n",
       "      <td>...</td>\n",
       "      <td>...</td>\n",
       "      <td>...</td>\n",
       "    </tr>\n",
       "    <tr>\n",
       "      <th>2195</th>\n",
       "      <td>107</td>\n",
       "      <td>34</td>\n",
       "      <td>32</td>\n",
       "      <td>26.774637</td>\n",
       "      <td>66.413269</td>\n",
       "      <td>6.780064</td>\n",
       "      <td>177.774507</td>\n",
       "      <td>coffee</td>\n",
       "    </tr>\n",
       "    <tr>\n",
       "      <th>2196</th>\n",
       "      <td>99</td>\n",
       "      <td>15</td>\n",
       "      <td>27</td>\n",
       "      <td>27.417112</td>\n",
       "      <td>56.636362</td>\n",
       "      <td>6.086922</td>\n",
       "      <td>127.924610</td>\n",
       "      <td>coffee</td>\n",
       "    </tr>\n",
       "    <tr>\n",
       "      <th>2197</th>\n",
       "      <td>118</td>\n",
       "      <td>33</td>\n",
       "      <td>30</td>\n",
       "      <td>24.131797</td>\n",
       "      <td>67.225123</td>\n",
       "      <td>6.362608</td>\n",
       "      <td>173.322839</td>\n",
       "      <td>coffee</td>\n",
       "    </tr>\n",
       "    <tr>\n",
       "      <th>2198</th>\n",
       "      <td>117</td>\n",
       "      <td>32</td>\n",
       "      <td>34</td>\n",
       "      <td>26.272418</td>\n",
       "      <td>52.127394</td>\n",
       "      <td>6.758793</td>\n",
       "      <td>127.175293</td>\n",
       "      <td>coffee</td>\n",
       "    </tr>\n",
       "    <tr>\n",
       "      <th>2199</th>\n",
       "      <td>104</td>\n",
       "      <td>18</td>\n",
       "      <td>30</td>\n",
       "      <td>23.603016</td>\n",
       "      <td>60.396475</td>\n",
       "      <td>6.779833</td>\n",
       "      <td>140.937041</td>\n",
       "      <td>coffee</td>\n",
       "    </tr>\n",
       "  </tbody>\n",
       "</table>\n",
       "<p>2200 rows × 8 columns</p>\n",
       "</div>"
      ],
      "text/plain": [
       "        N   P   K  temperature   humidity        ph    rainfall   label\n",
       "0      90  42  43    20.879744  82.002744  6.502985  202.935536    rice\n",
       "1      85  58  41    21.770462  80.319644  7.038096  226.655537    rice\n",
       "2      60  55  44    23.004459  82.320763  7.840207  263.964248    rice\n",
       "3      74  35  40    26.491096  80.158363  6.980401  242.864034    rice\n",
       "4      78  42  42    20.130175  81.604873  7.628473  262.717340    rice\n",
       "...   ...  ..  ..          ...        ...       ...         ...     ...\n",
       "2195  107  34  32    26.774637  66.413269  6.780064  177.774507  coffee\n",
       "2196   99  15  27    27.417112  56.636362  6.086922  127.924610  coffee\n",
       "2197  118  33  30    24.131797  67.225123  6.362608  173.322839  coffee\n",
       "2198  117  32  34    26.272418  52.127394  6.758793  127.175293  coffee\n",
       "2199  104  18  30    23.603016  60.396475  6.779833  140.937041  coffee\n",
       "\n",
       "[2200 rows x 8 columns]"
      ]
     },
     "execution_count": 3,
     "metadata": {},
     "output_type": "execute_result"
    }
   ],
   "source": [
    "df"
   ]
  },
  {
   "cell_type": "code",
   "execution_count": 4,
   "metadata": {
    "colab": {
     "base_uri": "https://localhost:8080/"
    },
    "id": "SNiQzScoibtu",
    "outputId": "6d0f1ea1-aab7-4f86-b062-63d3b472458f"
   },
   "outputs": [
    {
     "data": {
      "text/plain": [
       "(2200, 8)"
      ]
     },
     "execution_count": 4,
     "metadata": {},
     "output_type": "execute_result"
    }
   ],
   "source": [
    "df.shape"
   ]
  },
  {
   "cell_type": "code",
   "execution_count": 5,
   "metadata": {
    "colab": {
     "base_uri": "https://localhost:8080/"
    },
    "id": "5qiFt2osidut",
    "outputId": "a4c2c0e6-0a52-4384-a2fa-1a68c8ec5695"
   },
   "outputs": [
    {
     "data": {
      "text/plain": [
       "N              0\n",
       "P              0\n",
       "K              0\n",
       "temperature    0\n",
       "humidity       0\n",
       "ph             0\n",
       "rainfall       0\n",
       "label          0\n",
       "dtype: int64"
      ]
     },
     "execution_count": 5,
     "metadata": {},
     "output_type": "execute_result"
    }
   ],
   "source": [
    "df.isnull().sum()"
   ]
  },
  {
   "cell_type": "code",
   "execution_count": 6,
   "metadata": {
    "id": "gtCmBeNti13r"
   },
   "outputs": [],
   "source": [
    "X=df.drop( ['temperature','humidity','rainfall','label'],axis=1)"
   ]
  },
  {
   "cell_type": "code",
   "execution_count": 7,
   "metadata": {
    "id": "mdx5g2UEjlkB"
   },
   "outputs": [],
   "source": [
    "y=df['label']"
   ]
  },
  {
   "cell_type": "code",
   "execution_count": 8,
   "metadata": {
    "colab": {
     "base_uri": "https://localhost:8080/",
     "height": 424
    },
    "id": "exyiWmmMjpdT",
    "outputId": "374cde18-fd66-48ba-ffb4-a45edd7803e6"
   },
   "outputs": [
    {
     "data": {
      "text/html": [
       "<div>\n",
       "<style scoped>\n",
       "    .dataframe tbody tr th:only-of-type {\n",
       "        vertical-align: middle;\n",
       "    }\n",
       "\n",
       "    .dataframe tbody tr th {\n",
       "        vertical-align: top;\n",
       "    }\n",
       "\n",
       "    .dataframe thead th {\n",
       "        text-align: right;\n",
       "    }\n",
       "</style>\n",
       "<table border=\"1\" class=\"dataframe\">\n",
       "  <thead>\n",
       "    <tr style=\"text-align: right;\">\n",
       "      <th></th>\n",
       "      <th>N</th>\n",
       "      <th>P</th>\n",
       "      <th>K</th>\n",
       "      <th>ph</th>\n",
       "    </tr>\n",
       "  </thead>\n",
       "  <tbody>\n",
       "    <tr>\n",
       "      <th>0</th>\n",
       "      <td>90</td>\n",
       "      <td>42</td>\n",
       "      <td>43</td>\n",
       "      <td>6.502985</td>\n",
       "    </tr>\n",
       "    <tr>\n",
       "      <th>1</th>\n",
       "      <td>85</td>\n",
       "      <td>58</td>\n",
       "      <td>41</td>\n",
       "      <td>7.038096</td>\n",
       "    </tr>\n",
       "    <tr>\n",
       "      <th>2</th>\n",
       "      <td>60</td>\n",
       "      <td>55</td>\n",
       "      <td>44</td>\n",
       "      <td>7.840207</td>\n",
       "    </tr>\n",
       "    <tr>\n",
       "      <th>3</th>\n",
       "      <td>74</td>\n",
       "      <td>35</td>\n",
       "      <td>40</td>\n",
       "      <td>6.980401</td>\n",
       "    </tr>\n",
       "    <tr>\n",
       "      <th>4</th>\n",
       "      <td>78</td>\n",
       "      <td>42</td>\n",
       "      <td>42</td>\n",
       "      <td>7.628473</td>\n",
       "    </tr>\n",
       "    <tr>\n",
       "      <th>...</th>\n",
       "      <td>...</td>\n",
       "      <td>...</td>\n",
       "      <td>...</td>\n",
       "      <td>...</td>\n",
       "    </tr>\n",
       "    <tr>\n",
       "      <th>2195</th>\n",
       "      <td>107</td>\n",
       "      <td>34</td>\n",
       "      <td>32</td>\n",
       "      <td>6.780064</td>\n",
       "    </tr>\n",
       "    <tr>\n",
       "      <th>2196</th>\n",
       "      <td>99</td>\n",
       "      <td>15</td>\n",
       "      <td>27</td>\n",
       "      <td>6.086922</td>\n",
       "    </tr>\n",
       "    <tr>\n",
       "      <th>2197</th>\n",
       "      <td>118</td>\n",
       "      <td>33</td>\n",
       "      <td>30</td>\n",
       "      <td>6.362608</td>\n",
       "    </tr>\n",
       "    <tr>\n",
       "      <th>2198</th>\n",
       "      <td>117</td>\n",
       "      <td>32</td>\n",
       "      <td>34</td>\n",
       "      <td>6.758793</td>\n",
       "    </tr>\n",
       "    <tr>\n",
       "      <th>2199</th>\n",
       "      <td>104</td>\n",
       "      <td>18</td>\n",
       "      <td>30</td>\n",
       "      <td>6.779833</td>\n",
       "    </tr>\n",
       "  </tbody>\n",
       "</table>\n",
       "<p>2200 rows × 4 columns</p>\n",
       "</div>"
      ],
      "text/plain": [
       "        N   P   K        ph\n",
       "0      90  42  43  6.502985\n",
       "1      85  58  41  7.038096\n",
       "2      60  55  44  7.840207\n",
       "3      74  35  40  6.980401\n",
       "4      78  42  42  7.628473\n",
       "...   ...  ..  ..       ...\n",
       "2195  107  34  32  6.780064\n",
       "2196   99  15  27  6.086922\n",
       "2197  118  33  30  6.362608\n",
       "2198  117  32  34  6.758793\n",
       "2199  104  18  30  6.779833\n",
       "\n",
       "[2200 rows x 4 columns]"
      ]
     },
     "execution_count": 8,
     "metadata": {},
     "output_type": "execute_result"
    }
   ],
   "source": [
    "X"
   ]
  },
  {
   "cell_type": "code",
   "execution_count": 9,
   "metadata": {
    "colab": {
     "base_uri": "https://localhost:8080/"
    },
    "id": "-qACFxcrkGCQ",
    "outputId": "5c8d274f-d5c4-4805-8ced-adfb1e195bac"
   },
   "outputs": [
    {
     "data": {
      "text/plain": [
       "0         rice\n",
       "1         rice\n",
       "2         rice\n",
       "3         rice\n",
       "4         rice\n",
       "         ...  \n",
       "2195    coffee\n",
       "2196    coffee\n",
       "2197    coffee\n",
       "2198    coffee\n",
       "2199    coffee\n",
       "Name: label, Length: 2200, dtype: object"
      ]
     },
     "execution_count": 9,
     "metadata": {},
     "output_type": "execute_result"
    }
   ],
   "source": [
    "y"
   ]
  },
  {
   "cell_type": "code",
   "execution_count": 10,
   "metadata": {
    "colab": {
     "base_uri": "https://localhost:8080/",
     "height": 424
    },
    "id": "UY7T-z2rkI-c",
    "outputId": "83babb41-81b6-4656-89c9-1d3c43295ea5"
   },
   "outputs": [
    {
     "data": {
      "text/html": [
       "<div>\n",
       "<style scoped>\n",
       "    .dataframe tbody tr th:only-of-type {\n",
       "        vertical-align: middle;\n",
       "    }\n",
       "\n",
       "    .dataframe tbody tr th {\n",
       "        vertical-align: top;\n",
       "    }\n",
       "\n",
       "    .dataframe thead th {\n",
       "        text-align: right;\n",
       "    }\n",
       "</style>\n",
       "<table border=\"1\" class=\"dataframe\">\n",
       "  <thead>\n",
       "    <tr style=\"text-align: right;\">\n",
       "      <th></th>\n",
       "      <th>N</th>\n",
       "      <th>P</th>\n",
       "      <th>K</th>\n",
       "      <th>temperature</th>\n",
       "      <th>humidity</th>\n",
       "      <th>ph</th>\n",
       "      <th>rainfall</th>\n",
       "      <th>label</th>\n",
       "    </tr>\n",
       "  </thead>\n",
       "  <tbody>\n",
       "    <tr>\n",
       "      <th>0</th>\n",
       "      <td>90</td>\n",
       "      <td>42</td>\n",
       "      <td>43</td>\n",
       "      <td>20.879744</td>\n",
       "      <td>82.002744</td>\n",
       "      <td>6.502985</td>\n",
       "      <td>202.935536</td>\n",
       "      <td>rice</td>\n",
       "    </tr>\n",
       "    <tr>\n",
       "      <th>1</th>\n",
       "      <td>85</td>\n",
       "      <td>58</td>\n",
       "      <td>41</td>\n",
       "      <td>21.770462</td>\n",
       "      <td>80.319644</td>\n",
       "      <td>7.038096</td>\n",
       "      <td>226.655537</td>\n",
       "      <td>rice</td>\n",
       "    </tr>\n",
       "    <tr>\n",
       "      <th>2</th>\n",
       "      <td>60</td>\n",
       "      <td>55</td>\n",
       "      <td>44</td>\n",
       "      <td>23.004459</td>\n",
       "      <td>82.320763</td>\n",
       "      <td>7.840207</td>\n",
       "      <td>263.964248</td>\n",
       "      <td>rice</td>\n",
       "    </tr>\n",
       "    <tr>\n",
       "      <th>3</th>\n",
       "      <td>74</td>\n",
       "      <td>35</td>\n",
       "      <td>40</td>\n",
       "      <td>26.491096</td>\n",
       "      <td>80.158363</td>\n",
       "      <td>6.980401</td>\n",
       "      <td>242.864034</td>\n",
       "      <td>rice</td>\n",
       "    </tr>\n",
       "    <tr>\n",
       "      <th>4</th>\n",
       "      <td>78</td>\n",
       "      <td>42</td>\n",
       "      <td>42</td>\n",
       "      <td>20.130175</td>\n",
       "      <td>81.604873</td>\n",
       "      <td>7.628473</td>\n",
       "      <td>262.717340</td>\n",
       "      <td>rice</td>\n",
       "    </tr>\n",
       "    <tr>\n",
       "      <th>...</th>\n",
       "      <td>...</td>\n",
       "      <td>...</td>\n",
       "      <td>...</td>\n",
       "      <td>...</td>\n",
       "      <td>...</td>\n",
       "      <td>...</td>\n",
       "      <td>...</td>\n",
       "      <td>...</td>\n",
       "    </tr>\n",
       "    <tr>\n",
       "      <th>2195</th>\n",
       "      <td>107</td>\n",
       "      <td>34</td>\n",
       "      <td>32</td>\n",
       "      <td>26.774637</td>\n",
       "      <td>66.413269</td>\n",
       "      <td>6.780064</td>\n",
       "      <td>177.774507</td>\n",
       "      <td>coffee</td>\n",
       "    </tr>\n",
       "    <tr>\n",
       "      <th>2196</th>\n",
       "      <td>99</td>\n",
       "      <td>15</td>\n",
       "      <td>27</td>\n",
       "      <td>27.417112</td>\n",
       "      <td>56.636362</td>\n",
       "      <td>6.086922</td>\n",
       "      <td>127.924610</td>\n",
       "      <td>coffee</td>\n",
       "    </tr>\n",
       "    <tr>\n",
       "      <th>2197</th>\n",
       "      <td>118</td>\n",
       "      <td>33</td>\n",
       "      <td>30</td>\n",
       "      <td>24.131797</td>\n",
       "      <td>67.225123</td>\n",
       "      <td>6.362608</td>\n",
       "      <td>173.322839</td>\n",
       "      <td>coffee</td>\n",
       "    </tr>\n",
       "    <tr>\n",
       "      <th>2198</th>\n",
       "      <td>117</td>\n",
       "      <td>32</td>\n",
       "      <td>34</td>\n",
       "      <td>26.272418</td>\n",
       "      <td>52.127394</td>\n",
       "      <td>6.758793</td>\n",
       "      <td>127.175293</td>\n",
       "      <td>coffee</td>\n",
       "    </tr>\n",
       "    <tr>\n",
       "      <th>2199</th>\n",
       "      <td>104</td>\n",
       "      <td>18</td>\n",
       "      <td>30</td>\n",
       "      <td>23.603016</td>\n",
       "      <td>60.396475</td>\n",
       "      <td>6.779833</td>\n",
       "      <td>140.937041</td>\n",
       "      <td>coffee</td>\n",
       "    </tr>\n",
       "  </tbody>\n",
       "</table>\n",
       "<p>2200 rows × 8 columns</p>\n",
       "</div>"
      ],
      "text/plain": [
       "        N   P   K  temperature   humidity        ph    rainfall   label\n",
       "0      90  42  43    20.879744  82.002744  6.502985  202.935536    rice\n",
       "1      85  58  41    21.770462  80.319644  7.038096  226.655537    rice\n",
       "2      60  55  44    23.004459  82.320763  7.840207  263.964248    rice\n",
       "3      74  35  40    26.491096  80.158363  6.980401  242.864034    rice\n",
       "4      78  42  42    20.130175  81.604873  7.628473  262.717340    rice\n",
       "...   ...  ..  ..          ...        ...       ...         ...     ...\n",
       "2195  107  34  32    26.774637  66.413269  6.780064  177.774507  coffee\n",
       "2196   99  15  27    27.417112  56.636362  6.086922  127.924610  coffee\n",
       "2197  118  33  30    24.131797  67.225123  6.362608  173.322839  coffee\n",
       "2198  117  32  34    26.272418  52.127394  6.758793  127.175293  coffee\n",
       "2199  104  18  30    23.603016  60.396475  6.779833  140.937041  coffee\n",
       "\n",
       "[2200 rows x 8 columns]"
      ]
     },
     "execution_count": 10,
     "metadata": {},
     "output_type": "execute_result"
    }
   ],
   "source": [
    "xdf = df.copy()\n",
    "xdf"
   ]
  },
  {
   "cell_type": "code",
   "execution_count": 11,
   "metadata": {
    "id": "cUE5z9PdkvxE"
   },
   "outputs": [],
   "source": [
    "from sklearn.preprocessing import LabelEncoder \n",
    "labelencoder= LabelEncoder() "
   ]
  },
  {
   "cell_type": "code",
   "execution_count": 12,
   "metadata": {
    "colab": {
     "base_uri": "https://localhost:8080/",
     "height": 424
    },
    "id": "3EodQQFzm7wD",
    "outputId": "194c4f2c-593d-4779-df24-fadf8dfeaa83"
   },
   "outputs": [
    {
     "data": {
      "text/html": [
       "<div>\n",
       "<style scoped>\n",
       "    .dataframe tbody tr th:only-of-type {\n",
       "        vertical-align: middle;\n",
       "    }\n",
       "\n",
       "    .dataframe tbody tr th {\n",
       "        vertical-align: top;\n",
       "    }\n",
       "\n",
       "    .dataframe thead th {\n",
       "        text-align: right;\n",
       "    }\n",
       "</style>\n",
       "<table border=\"1\" class=\"dataframe\">\n",
       "  <thead>\n",
       "    <tr style=\"text-align: right;\">\n",
       "      <th></th>\n",
       "      <th>N</th>\n",
       "      <th>P</th>\n",
       "      <th>K</th>\n",
       "      <th>temperature</th>\n",
       "      <th>humidity</th>\n",
       "      <th>ph</th>\n",
       "      <th>rainfall</th>\n",
       "      <th>label</th>\n",
       "      <th>label_codes</th>\n",
       "    </tr>\n",
       "  </thead>\n",
       "  <tbody>\n",
       "    <tr>\n",
       "      <th>0</th>\n",
       "      <td>90</td>\n",
       "      <td>42</td>\n",
       "      <td>43</td>\n",
       "      <td>20.879744</td>\n",
       "      <td>82.002744</td>\n",
       "      <td>6.502985</td>\n",
       "      <td>202.935536</td>\n",
       "      <td>rice</td>\n",
       "      <td>20</td>\n",
       "    </tr>\n",
       "    <tr>\n",
       "      <th>1</th>\n",
       "      <td>85</td>\n",
       "      <td>58</td>\n",
       "      <td>41</td>\n",
       "      <td>21.770462</td>\n",
       "      <td>80.319644</td>\n",
       "      <td>7.038096</td>\n",
       "      <td>226.655537</td>\n",
       "      <td>rice</td>\n",
       "      <td>20</td>\n",
       "    </tr>\n",
       "    <tr>\n",
       "      <th>2</th>\n",
       "      <td>60</td>\n",
       "      <td>55</td>\n",
       "      <td>44</td>\n",
       "      <td>23.004459</td>\n",
       "      <td>82.320763</td>\n",
       "      <td>7.840207</td>\n",
       "      <td>263.964248</td>\n",
       "      <td>rice</td>\n",
       "      <td>20</td>\n",
       "    </tr>\n",
       "    <tr>\n",
       "      <th>3</th>\n",
       "      <td>74</td>\n",
       "      <td>35</td>\n",
       "      <td>40</td>\n",
       "      <td>26.491096</td>\n",
       "      <td>80.158363</td>\n",
       "      <td>6.980401</td>\n",
       "      <td>242.864034</td>\n",
       "      <td>rice</td>\n",
       "      <td>20</td>\n",
       "    </tr>\n",
       "    <tr>\n",
       "      <th>4</th>\n",
       "      <td>78</td>\n",
       "      <td>42</td>\n",
       "      <td>42</td>\n",
       "      <td>20.130175</td>\n",
       "      <td>81.604873</td>\n",
       "      <td>7.628473</td>\n",
       "      <td>262.717340</td>\n",
       "      <td>rice</td>\n",
       "      <td>20</td>\n",
       "    </tr>\n",
       "    <tr>\n",
       "      <th>...</th>\n",
       "      <td>...</td>\n",
       "      <td>...</td>\n",
       "      <td>...</td>\n",
       "      <td>...</td>\n",
       "      <td>...</td>\n",
       "      <td>...</td>\n",
       "      <td>...</td>\n",
       "      <td>...</td>\n",
       "      <td>...</td>\n",
       "    </tr>\n",
       "    <tr>\n",
       "      <th>2195</th>\n",
       "      <td>107</td>\n",
       "      <td>34</td>\n",
       "      <td>32</td>\n",
       "      <td>26.774637</td>\n",
       "      <td>66.413269</td>\n",
       "      <td>6.780064</td>\n",
       "      <td>177.774507</td>\n",
       "      <td>coffee</td>\n",
       "      <td>5</td>\n",
       "    </tr>\n",
       "    <tr>\n",
       "      <th>2196</th>\n",
       "      <td>99</td>\n",
       "      <td>15</td>\n",
       "      <td>27</td>\n",
       "      <td>27.417112</td>\n",
       "      <td>56.636362</td>\n",
       "      <td>6.086922</td>\n",
       "      <td>127.924610</td>\n",
       "      <td>coffee</td>\n",
       "      <td>5</td>\n",
       "    </tr>\n",
       "    <tr>\n",
       "      <th>2197</th>\n",
       "      <td>118</td>\n",
       "      <td>33</td>\n",
       "      <td>30</td>\n",
       "      <td>24.131797</td>\n",
       "      <td>67.225123</td>\n",
       "      <td>6.362608</td>\n",
       "      <td>173.322839</td>\n",
       "      <td>coffee</td>\n",
       "      <td>5</td>\n",
       "    </tr>\n",
       "    <tr>\n",
       "      <th>2198</th>\n",
       "      <td>117</td>\n",
       "      <td>32</td>\n",
       "      <td>34</td>\n",
       "      <td>26.272418</td>\n",
       "      <td>52.127394</td>\n",
       "      <td>6.758793</td>\n",
       "      <td>127.175293</td>\n",
       "      <td>coffee</td>\n",
       "      <td>5</td>\n",
       "    </tr>\n",
       "    <tr>\n",
       "      <th>2199</th>\n",
       "      <td>104</td>\n",
       "      <td>18</td>\n",
       "      <td>30</td>\n",
       "      <td>23.603016</td>\n",
       "      <td>60.396475</td>\n",
       "      <td>6.779833</td>\n",
       "      <td>140.937041</td>\n",
       "      <td>coffee</td>\n",
       "      <td>5</td>\n",
       "    </tr>\n",
       "  </tbody>\n",
       "</table>\n",
       "<p>2200 rows × 9 columns</p>\n",
       "</div>"
      ],
      "text/plain": [
       "        N   P   K  temperature   humidity        ph    rainfall   label  \\\n",
       "0      90  42  43    20.879744  82.002744  6.502985  202.935536    rice   \n",
       "1      85  58  41    21.770462  80.319644  7.038096  226.655537    rice   \n",
       "2      60  55  44    23.004459  82.320763  7.840207  263.964248    rice   \n",
       "3      74  35  40    26.491096  80.158363  6.980401  242.864034    rice   \n",
       "4      78  42  42    20.130175  81.604873  7.628473  262.717340    rice   \n",
       "...   ...  ..  ..          ...        ...       ...         ...     ...   \n",
       "2195  107  34  32    26.774637  66.413269  6.780064  177.774507  coffee   \n",
       "2196   99  15  27    27.417112  56.636362  6.086922  127.924610  coffee   \n",
       "2197  118  33  30    24.131797  67.225123  6.362608  173.322839  coffee   \n",
       "2198  117  32  34    26.272418  52.127394  6.758793  127.175293  coffee   \n",
       "2199  104  18  30    23.603016  60.396475  6.779833  140.937041  coffee   \n",
       "\n",
       "      label_codes  \n",
       "0              20  \n",
       "1              20  \n",
       "2              20  \n",
       "3              20  \n",
       "4              20  \n",
       "...           ...  \n",
       "2195            5  \n",
       "2196            5  \n",
       "2197            5  \n",
       "2198            5  \n",
       "2199            5  \n",
       "\n",
       "[2200 rows x 9 columns]"
      ]
     },
     "execution_count": 12,
     "metadata": {},
     "output_type": "execute_result"
    }
   ],
   "source": [
    "xdf['label_codes'] = labelencoder.fit_transform(xdf['label']) \n",
    "xdf"
   ]
  },
  {
   "cell_type": "code",
   "execution_count": 13,
   "metadata": {
    "id": "QGhkh4Mhm_Y7"
   },
   "outputs": [],
   "source": [
    "X = xdf.drop(['temperature','humidity','rainfall','label','label_codes'],axis = 1)"
   ]
  },
  {
   "cell_type": "code",
   "execution_count": 14,
   "metadata": {
    "id": "IoAdzNqynRbn"
   },
   "outputs": [],
   "source": [
    "y = xdf['label_codes']"
   ]
  },
  {
   "cell_type": "code",
   "execution_count": 15,
   "metadata": {
    "colab": {
     "base_uri": "https://localhost:8080/",
     "height": 424
    },
    "id": "wlvj63DanUsb",
    "outputId": "f7885d0c-98a2-4f96-bc2c-24ecdf07dd0c"
   },
   "outputs": [
    {
     "data": {
      "text/html": [
       "<div>\n",
       "<style scoped>\n",
       "    .dataframe tbody tr th:only-of-type {\n",
       "        vertical-align: middle;\n",
       "    }\n",
       "\n",
       "    .dataframe tbody tr th {\n",
       "        vertical-align: top;\n",
       "    }\n",
       "\n",
       "    .dataframe thead th {\n",
       "        text-align: right;\n",
       "    }\n",
       "</style>\n",
       "<table border=\"1\" class=\"dataframe\">\n",
       "  <thead>\n",
       "    <tr style=\"text-align: right;\">\n",
       "      <th></th>\n",
       "      <th>N</th>\n",
       "      <th>P</th>\n",
       "      <th>K</th>\n",
       "      <th>ph</th>\n",
       "    </tr>\n",
       "  </thead>\n",
       "  <tbody>\n",
       "    <tr>\n",
       "      <th>0</th>\n",
       "      <td>90</td>\n",
       "      <td>42</td>\n",
       "      <td>43</td>\n",
       "      <td>6.502985</td>\n",
       "    </tr>\n",
       "    <tr>\n",
       "      <th>1</th>\n",
       "      <td>85</td>\n",
       "      <td>58</td>\n",
       "      <td>41</td>\n",
       "      <td>7.038096</td>\n",
       "    </tr>\n",
       "    <tr>\n",
       "      <th>2</th>\n",
       "      <td>60</td>\n",
       "      <td>55</td>\n",
       "      <td>44</td>\n",
       "      <td>7.840207</td>\n",
       "    </tr>\n",
       "    <tr>\n",
       "      <th>3</th>\n",
       "      <td>74</td>\n",
       "      <td>35</td>\n",
       "      <td>40</td>\n",
       "      <td>6.980401</td>\n",
       "    </tr>\n",
       "    <tr>\n",
       "      <th>4</th>\n",
       "      <td>78</td>\n",
       "      <td>42</td>\n",
       "      <td>42</td>\n",
       "      <td>7.628473</td>\n",
       "    </tr>\n",
       "    <tr>\n",
       "      <th>...</th>\n",
       "      <td>...</td>\n",
       "      <td>...</td>\n",
       "      <td>...</td>\n",
       "      <td>...</td>\n",
       "    </tr>\n",
       "    <tr>\n",
       "      <th>2195</th>\n",
       "      <td>107</td>\n",
       "      <td>34</td>\n",
       "      <td>32</td>\n",
       "      <td>6.780064</td>\n",
       "    </tr>\n",
       "    <tr>\n",
       "      <th>2196</th>\n",
       "      <td>99</td>\n",
       "      <td>15</td>\n",
       "      <td>27</td>\n",
       "      <td>6.086922</td>\n",
       "    </tr>\n",
       "    <tr>\n",
       "      <th>2197</th>\n",
       "      <td>118</td>\n",
       "      <td>33</td>\n",
       "      <td>30</td>\n",
       "      <td>6.362608</td>\n",
       "    </tr>\n",
       "    <tr>\n",
       "      <th>2198</th>\n",
       "      <td>117</td>\n",
       "      <td>32</td>\n",
       "      <td>34</td>\n",
       "      <td>6.758793</td>\n",
       "    </tr>\n",
       "    <tr>\n",
       "      <th>2199</th>\n",
       "      <td>104</td>\n",
       "      <td>18</td>\n",
       "      <td>30</td>\n",
       "      <td>6.779833</td>\n",
       "    </tr>\n",
       "  </tbody>\n",
       "</table>\n",
       "<p>2200 rows × 4 columns</p>\n",
       "</div>"
      ],
      "text/plain": [
       "        N   P   K        ph\n",
       "0      90  42  43  6.502985\n",
       "1      85  58  41  7.038096\n",
       "2      60  55  44  7.840207\n",
       "3      74  35  40  6.980401\n",
       "4      78  42  42  7.628473\n",
       "...   ...  ..  ..       ...\n",
       "2195  107  34  32  6.780064\n",
       "2196   99  15  27  6.086922\n",
       "2197  118  33  30  6.362608\n",
       "2198  117  32  34  6.758793\n",
       "2199  104  18  30  6.779833\n",
       "\n",
       "[2200 rows x 4 columns]"
      ]
     },
     "execution_count": 15,
     "metadata": {},
     "output_type": "execute_result"
    }
   ],
   "source": [
    "X"
   ]
  },
  {
   "cell_type": "code",
   "execution_count": 16,
   "metadata": {
    "colab": {
     "base_uri": "https://localhost:8080/"
    },
    "id": "0wtrgTWDnWxu",
    "outputId": "921cdbda-3592-48cb-ca11-a54fde0f16e4"
   },
   "outputs": [
    {
     "data": {
      "text/plain": [
       "0       20\n",
       "1       20\n",
       "2       20\n",
       "3       20\n",
       "4       20\n",
       "        ..\n",
       "2195     5\n",
       "2196     5\n",
       "2197     5\n",
       "2198     5\n",
       "2199     5\n",
       "Name: label_codes, Length: 2200, dtype: int32"
      ]
     },
     "execution_count": 16,
     "metadata": {},
     "output_type": "execute_result"
    }
   ],
   "source": [
    "y"
   ]
  },
  {
   "cell_type": "code",
   "execution_count": 17,
   "metadata": {},
   "outputs": [
    {
     "data": {
      "text/plain": [
       "array([20, 11,  3,  9, 18, 13, 14,  2, 10, 19,  1, 12,  7, 21, 15,  0, 16,\n",
       "       17,  4,  6,  8,  5])"
      ]
     },
     "execution_count": 17,
     "metadata": {},
     "output_type": "execute_result"
    }
   ],
   "source": [
    "y.unique()"
   ]
  },
  {
   "cell_type": "code",
   "execution_count": 18,
   "metadata": {
    "id": "W0CWRjIynpFz"
   },
   "outputs": [],
   "source": [
    "from sklearn.model_selection import train_test_split"
   ]
  },
  {
   "cell_type": "code",
   "execution_count": 19,
   "metadata": {
    "id": "DICydNiXpOOW"
   },
   "outputs": [],
   "source": [
    "Xtrain, Xtest, ytrain, ytest = train_test_split(X, y, test_size=0.3)"
   ]
  },
  {
   "cell_type": "code",
   "execution_count": 20,
   "metadata": {
    "id": "C_TCCsC_pVN5"
   },
   "outputs": [],
   "source": [
    "from sklearn.linear_model import LinearRegression"
   ]
  },
  {
   "cell_type": "code",
   "execution_count": 21,
   "metadata": {
    "id": "u8yX80VYpZNS"
   },
   "outputs": [],
   "source": [
    "reg=LinearRegression()"
   ]
  },
  {
   "cell_type": "code",
   "execution_count": 22,
   "metadata": {
    "colab": {
     "base_uri": "https://localhost:8080/",
     "height": 74
    },
    "id": "tEJmJVKypjR_",
    "outputId": "c2e1d575-8b69-43c5-bb81-9c963aaa2792"
   },
   "outputs": [
    {
     "data": {
      "text/plain": [
       "LinearRegression()"
      ]
     },
     "execution_count": 22,
     "metadata": {},
     "output_type": "execute_result"
    }
   ],
   "source": [
    "reg.fit(Xtrain, ytrain)"
   ]
  },
  {
   "cell_type": "code",
   "execution_count": 23,
   "metadata": {
    "colab": {
     "base_uri": "https://localhost:8080/"
    },
    "id": "kUV4MBr7pqLn",
    "outputId": "627924fa-eb85-4d79-8512-f1b51c477899"
   },
   "outputs": [
    {
     "data": {
      "text/plain": [
       "1407    15\n",
       "1839     4\n",
       "775      2\n",
       "647     14\n",
       "2083     8\n",
       "        ..\n",
       "2128     5\n",
       "2024     8\n",
       "1498    15\n",
       "1802     4\n",
       "891     10\n",
       "Name: label_codes, Length: 660, dtype: int32"
      ]
     },
     "execution_count": 23,
     "metadata": {},
     "output_type": "execute_result"
    }
   ],
   "source": [
    "ytest"
   ]
  },
  {
   "cell_type": "code",
   "execution_count": 24,
   "metadata": {
    "id": "vym2YlOdp0b_"
   },
   "outputs": [],
   "source": [
    "pred=reg.predict(Xtest)"
   ]
  },
  {
   "cell_type": "code",
   "execution_count": 25,
   "metadata": {
    "colab": {
     "base_uri": "https://localhost:8080/"
    },
    "id": "tpQ_uxA8qJcZ",
    "outputId": "ca3748bc-d51d-4dc5-e493-c5a9e270c397"
   },
   "outputs": [
    {
     "data": {
      "text/plain": [
       "array([12.00160571, 15.21643541,  9.66662952, 11.17069142, 10.21103699,\n",
       "        9.14179216,  6.99558886, 12.94788487,  9.91217368, 10.95043639,\n",
       "        9.49577392,  9.9691531 ,  7.60376974, 15.1933902 ,  9.32678994,\n",
       "       11.07631483,  7.85156875, 16.81233671, 12.38962838,  7.67913806,\n",
       "       14.25463692,  8.1752103 , 12.98097455, 10.42106159, 10.10089708,\n",
       "       14.01182555,  9.21795028, 14.09822444,  6.43878663, 12.22091297,\n",
       "        7.89281629, 13.5268697 , 11.68102718,  9.37274427,  9.57904473,\n",
       "       15.78232594,  8.78431911, 13.36445562, 13.33329933, 16.63796641,\n",
       "       11.34089932,  8.81698531, 15.00020392,  8.27212844, 13.18866435,\n",
       "        9.91995829,  9.18276326, 12.78530265,  8.97875208,  8.92538815,\n",
       "       14.99487646, 10.86131247, 11.00411122, 11.32089304, 13.41443916,\n",
       "       13.75181049,  9.99841534,  4.28441149,  8.07813248, 13.77935182,\n",
       "       15.54166636, 15.70165448, 10.79006079,  4.66545492,  9.05603149,\n",
       "       14.10694432,  9.91062308, 14.26966743, 10.0307102 , 11.97605361,\n",
       "       11.34197024,  9.9046932 , 11.58588018, 15.50170701,  4.70296269,\n",
       "       14.89852663,  9.10121875, 11.73054056, 16.51130941,  8.12195175,\n",
       "       11.24983754, 10.70211485, 16.41695006, 12.61217147, 14.37084884,\n",
       "        7.43082562,  9.62979799, 11.27016771, 10.65805163,  9.24053522,\n",
       "       11.57468749, 10.22840701,  8.0566055 ,  5.76009026,  9.12576316,\n",
       "        9.2309148 , 10.15143213,  2.62402583, 11.74123717, 10.34997474,\n",
       "        9.00866267,  8.22820708, 10.34383047, 10.14115607,  2.05701769,\n",
       "       15.2475862 , 14.22889445, 13.28974938, 12.23176359, 11.56750426,\n",
       "       15.64749067, 14.11716358, 12.93484538, 11.61235086, 10.5936777 ,\n",
       "       14.62038084, 14.96914252, 15.478833  , 11.91733241,  2.75554703,\n",
       "        8.75400085, 10.10006418,  4.01882502,  4.86324493,  9.28960021,\n",
       "        8.58338492, 10.54003515, 11.89694032, 10.76774696,  6.8170384 ,\n",
       "        7.56640008, 12.04129294, 13.66269608,  4.2981719 ,  8.81670005,\n",
       "       12.32776045,  9.34187803, 13.62163501,  9.08043252, 13.4832268 ,\n",
       "        9.80806447,  8.47877195,  8.95308309, 11.75677062, 12.34802148,\n",
       "       10.87034804,  9.45915541, 10.79996086, 10.917686  , 15.25862559,\n",
       "       10.34622113,  9.15093361, 16.49645684,  6.60591012,  9.12982259,\n",
       "       12.16530017,  8.91663404, 11.77273576,  3.2816306 , 10.27196218,\n",
       "        2.66924874,  6.60162817,  8.49328915, 11.8768067 , 14.53894442,\n",
       "       15.18090888,  8.37359752,  9.54525364,  8.58910502, 14.03189072,\n",
       "       15.78185481, 10.62007203, 10.50213956, 14.61245835,  9.67142194,\n",
       "       10.37674533,  9.73533232,  8.18715646, 12.30159006, 15.45606345,\n",
       "       12.10997405, 14.27064245, 13.09376884,  8.65940119,  4.3674692 ,\n",
       "        9.3810402 ,  8.93282116,  8.2256891 , 10.20197161, 16.69570949,\n",
       "        7.4462475 , 13.99595896,  7.75607986, 11.86543787, 16.28028388,\n",
       "       11.14363733, 16.34245501, 16.06276247, 14.56206477,  9.23399833,\n",
       "       10.00166042, 12.29482652,  9.90454396,  3.43397122, 16.69525351,\n",
       "       12.30199288,  9.0439908 ,  2.94487111,  3.45974507, 13.49001016,\n",
       "        9.14473572,  9.7454688 , 10.28677569, 11.79371259,  3.55521311,\n",
       "       10.01498146, 14.86399391,  5.65178778, 15.35806035, 11.60267904,\n",
       "       16.35272505, 10.39760434,  5.00935075, 10.01896851,  9.76907776,\n",
       "        9.68955603,  7.4911753 ,  8.40260099,  2.48156864,  8.22985844,\n",
       "        9.13954592, 15.30302746, 10.83395836,  9.75804315,  9.26713503,\n",
       "        7.22439273,  8.18296578, 13.77190176, 11.185747  , 10.00652917,\n",
       "       11.55000347, 11.53003221, 11.90540976, 11.36494833, 16.02127437,\n",
       "       15.17778284,  9.74721898, 10.45842037, 15.75324645,  4.90434625,\n",
       "        9.41225788, 12.70311081,  2.42516374, 10.85603805, 14.74232345,\n",
       "        7.59317579,  2.71483824,  5.54205427, 15.66995083, 16.50633037,\n",
       "       11.07767663,  9.95406865, 14.65721385, 10.17975263, 16.60158321,\n",
       "       16.70228124, 10.80507216,  7.70723787, 12.03964769, 14.67594202,\n",
       "        9.82495011, 12.76997981, 13.30343371, 11.3757306 ,  7.438013  ,\n",
       "       10.81278111,  7.8827247 , 11.81857495, 11.27515868, 10.34768002,\n",
       "       11.74050485, 15.55432129, 12.79611806,  9.83515874,  8.78833936,\n",
       "       13.61689715, 15.36099291, 14.19120339, 10.28505168, 13.33670309,\n",
       "       10.37606342, 14.16431183, 12.49891592, 10.30604926, 14.47654392,\n",
       "       10.05862514, 10.91970625, 15.26740223, 11.12079993, 13.21977321,\n",
       "        9.30708887, 13.58677627,  8.23342579, 13.68399146, 14.35838256,\n",
       "        9.36339368,  9.13317749,  9.12951568,  2.92456897,  2.93162013,\n",
       "       11.88730067,  4.8615502 , 15.30181877,  9.53294873, 14.87061246,\n",
       "       11.78681423, 13.82083781, 10.52383891,  5.9388921 , 13.78962324,\n",
       "       11.46235322,  9.86495945, 12.96785676,  6.85738918, 10.43960656,\n",
       "       13.67586932, 11.00260697,  7.58645072,  9.89086708,  9.02625877,\n",
       "       11.95291721, 10.11407317, 13.93567295,  9.62134969, 10.01393361,\n",
       "        8.89222355,  9.20651484, 16.26610249, 14.55761499, 12.40379387,\n",
       "        4.7915368 , 10.0875694 ,  4.19580003, 15.07827506,  9.72955595,\n",
       "       10.26640317, 16.93452167, 11.16454893, 15.5057361 ,  9.84276424,\n",
       "        9.33958148,  8.1851672 ,  9.85410352, 15.36481765, 14.77690964,\n",
       "       14.87241445,  7.91961564,  5.32045589,  2.52729499, 15.22818805,\n",
       "       14.00880045,  5.4160703 , 11.18485727, 10.91920278,  9.35504356,\n",
       "        9.76130176, 13.08202457, 10.92944476, 15.082901  , 17.14786364,\n",
       "       10.61742341, 10.69018716, 12.36192034, 10.16165209, 10.28856253,\n",
       "       14.54511065,  5.40716486, 14.56740316,  8.82003307, 16.19822335,\n",
       "       15.23767538,  9.49770729,  7.46078816, 14.44097903, 14.50173897,\n",
       "       15.90958709, 10.86899568,  8.25717788, 11.88751516,  9.20522265,\n",
       "        9.35302026, 10.64734113, 15.4635315 , 10.81740346, 11.72156484,\n",
       "       11.83884047,  6.59276957, 15.38389273, 10.00252697, 13.39564243,\n",
       "       12.1241219 , 13.63327408, 12.31071387, 15.70037904, 11.31624183,\n",
       "       11.07659818, 13.36407502, 10.09194107,  8.93756592,  3.72645082,\n",
       "       10.65543395, 15.05968814,  4.9896035 , 11.00576758,  9.41712888,\n",
       "       13.6605276 ,  9.69022033,  9.80910663, 10.07567437, 12.05492415,\n",
       "       14.60929726,  8.18707982, 14.27469182, 15.21553724, 11.83684176,\n",
       "       16.38681907,  1.96483338,  8.33753708, 10.92798688,  3.67288553,\n",
       "       13.87611994,  2.92211309,  8.49774988, 10.0920871 ,  9.33421356,\n",
       "       10.49272254, 11.15503306, 11.75598185,  4.65863564, 11.56447927,\n",
       "       15.20635428,  7.30151211, 12.75924132, 13.08296739,  8.81121138,\n",
       "       10.4794766 , 11.68448801,  7.90205586, 10.59460994, 15.12036658,\n",
       "       12.3327124 , 14.92676267,  7.12504693, 14.98000204, 12.65730026,\n",
       "        2.48374098, 15.83740397, 10.18497882, 10.4344238 ,  9.46507717,\n",
       "        9.23552592, 10.4160883 ,  2.88372535, 15.07715737,  9.84541214,\n",
       "        9.06879497, 10.80588238, 10.33390928, 17.30216953, 11.27308854,\n",
       "        9.06550223,  4.49506936,  5.93933107,  9.38828383, 14.78717177,\n",
       "       14.96989879, 11.75089592, 16.74307175, 16.00089014,  9.03148845,\n",
       "       11.3955762 , 13.16452087,  8.89918704,  8.80850799,  9.4166207 ,\n",
       "        5.83679396, 11.63409187,  9.68989469, 16.22704108,  8.9399961 ,\n",
       "       11.67849978,  9.64412163, 11.42845541, 13.91483856,  4.80842821,\n",
       "        9.26528161,  8.96156293, 15.78323579,  7.33346826, 14.75604004,\n",
       "       10.38220888, 11.62502534, 15.01703996, 13.40431078, 11.90678117,\n",
       "       10.48788919,  7.175088  , 13.16028638, 15.89632742, 13.44990174,\n",
       "        9.68694789,  6.76025791, 16.47733033, 14.50394966,  2.18504483,\n",
       "        8.5196008 , 10.22294751, 10.30309532,  8.76908824, 13.26918152,\n",
       "        9.2783437 , 13.34774999,  3.02849612,  6.93068037, 10.10764854,\n",
       "        9.37193133,  9.51382167, 15.42962562,  8.96508932,  9.34946571,\n",
       "        4.65115861, 11.48891808,  3.51717056,  4.20188896,  3.81572323,\n",
       "        7.53931777,  5.57607995, 14.07319239, 10.64015867, 10.49785303,\n",
       "        9.52810404,  8.78091129, 10.19511657, 14.99034582,  4.62274465,\n",
       "       10.1483349 , 14.9792415 , 10.08903303, 10.99996655,  9.14270674,\n",
       "       11.62813322, 11.14284065, 10.4296767 ,  4.57676919, 11.33999256,\n",
       "       11.04532413,  6.19233904,  5.97409365, 14.62665026,  9.87702133,\n",
       "        2.46373606,  8.12525447,  8.76192902,  8.16659897,  9.13677497,\n",
       "       10.30003875, 12.820287  ,  2.83529085, 13.35424788, 10.36675806,\n",
       "       16.01396059,  9.85827936, 11.03759029, 11.23159366,  3.86116678,\n",
       "       15.40958945, 11.42700498,  8.14820284, 11.8808784 , 14.12766598,\n",
       "       13.58964767,  9.87137291,  3.03998836, 11.46472797,  2.3732572 ,\n",
       "       15.37974265,  8.99113466, 15.77238393, 12.65078637, 11.06921879,\n",
       "        9.71953152, 11.14664424, 10.81749899, 12.7040012 , 14.88112252,\n",
       "       11.88695563,  3.26841474,  9.27827558,  3.25858793, 10.36058815,\n",
       "       10.77282906,  9.27692039, 13.82369635,  8.02164422, 15.3187681 ,\n",
       "       13.64547643, 10.98730192, 12.16200481,  5.70627068,  9.33626749,\n",
       "       10.06255912,  7.80674094, 13.90464104,  8.97220137,  9.26661638,\n",
       "       14.33516222, 10.23682685, 15.28870397,  9.02850861,  9.01116503,\n",
       "       11.12878963, 14.20882024, 10.30043673, 13.74659628,  8.89763509,\n",
       "       12.57754971, 14.34190714,  8.68519995, 10.8690093 , 11.40817198,\n",
       "       11.57477827,  9.53846942, 10.7206966 , 14.22988231,  8.37358144,\n",
       "        7.14887909,  9.79018356, 15.84393337, 10.39706152, 13.07121992,\n",
       "        9.45639698, 12.7143216 , 10.6657686 , 10.62505584, 13.74654132,\n",
       "        3.00554246, 10.94647089, 14.67522352,  7.42151564,  9.22202388,\n",
       "       10.52158062, 16.15215825, 10.18833159,  9.38159496,  3.07015315,\n",
       "       12.31228108, 10.1409468 , 14.0234376 , 14.68721972, 10.12796186])"
      ]
     },
     "execution_count": 25,
     "metadata": {},
     "output_type": "execute_result"
    }
   ],
   "source": [
    "pred"
   ]
  },
  {
   "cell_type": "code",
   "execution_count": 26,
   "metadata": {
    "id": "CH-KTAFmrCtm"
   },
   "outputs": [],
   "source": [
    "from sklearn.metrics import mean_squared_error"
   ]
  },
  {
   "cell_type": "code",
   "execution_count": 27,
   "metadata": {
    "id": "fcz17UpMroBS"
   },
   "outputs": [],
   "source": [
    "accuracy_train = []\n",
    "accuracy_test = []\n",
    "model_name = []"
   ]
  },
  {
   "cell_type": "code",
   "execution_count": 28,
   "metadata": {
    "colab": {
     "base_uri": "https://localhost:8080/"
    },
    "id": "2XWPi-VUr1cJ",
    "outputId": "cefca51e-56e5-4399-8312-570b68750b94"
   },
   "outputs": [
    {
     "name": "stdout",
     "output_type": "stream",
     "text": [
      "Train Accuracy:  70.07480314689772\n"
     ]
    }
   ],
   "source": [
    "predict_linear_train = reg.predict(Xtrain)\n",
    "MSE_linear_train = ( mean_squared_error(ytrain, predict_linear_train)  )\n",
    "\n",
    "accuracy_linear_train = 100 - MSE_linear_train\n",
    "print(\"Train Accuracy: \", accuracy_linear_train)"
   ]
  },
  {
   "cell_type": "code",
   "execution_count": 29,
   "metadata": {
    "colab": {
     "base_uri": "https://localhost:8080/"
    },
    "id": "Jxcw7d_qr-3g",
    "outputId": "6cae3d0f-3081-4c13-f775-24ccb2a7ac11"
   },
   "outputs": [
    {
     "name": "stdout",
     "output_type": "stream",
     "text": [
      "Test Accuracy:  71.56950137847538\n"
     ]
    }
   ],
   "source": [
    "predict_linear_test = reg.predict(Xtest)\n",
    "MSE_linear_test = ( mean_squared_error(ytest, predict_linear_test)  )\n",
    "accuracy_linear_test = 100 - MSE_linear_test\n",
    "print(\"Test Accuracy: \", accuracy_linear_test)\n",
    "\n",
    "accuracy_train.append( accuracy_linear_train )\n",
    "accuracy_test.append( accuracy_linear_test )\n",
    "model_name.append('Linear Regression')"
   ]
  },
  {
   "cell_type": "code",
   "execution_count": 30,
   "metadata": {
    "colab": {
     "base_uri": "https://localhost:8080/",
     "height": 81
    },
    "id": "mSu6tYyRsDE_",
    "outputId": "1ec7e1a2-ff8e-4457-adf1-b15c40ec4a80"
   },
   "outputs": [
    {
     "data": {
      "text/html": [
       "<div>\n",
       "<style scoped>\n",
       "    .dataframe tbody tr th:only-of-type {\n",
       "        vertical-align: middle;\n",
       "    }\n",
       "\n",
       "    .dataframe tbody tr th {\n",
       "        vertical-align: top;\n",
       "    }\n",
       "\n",
       "    .dataframe thead th {\n",
       "        text-align: right;\n",
       "    }\n",
       "</style>\n",
       "<table border=\"1\" class=\"dataframe\">\n",
       "  <thead>\n",
       "    <tr style=\"text-align: right;\">\n",
       "      <th></th>\n",
       "      <th>model_name</th>\n",
       "      <th>accuracy_train</th>\n",
       "      <th>accuracy_test</th>\n",
       "    </tr>\n",
       "  </thead>\n",
       "  <tbody>\n",
       "    <tr>\n",
       "      <th>0</th>\n",
       "      <td>Linear Regression</td>\n",
       "      <td>70.074803</td>\n",
       "      <td>71.569501</td>\n",
       "    </tr>\n",
       "  </tbody>\n",
       "</table>\n",
       "</div>"
      ],
      "text/plain": [
       "          model_name  accuracy_train  accuracy_test\n",
       "0  Linear Regression       70.074803      71.569501"
      ]
     },
     "execution_count": 30,
     "metadata": {},
     "output_type": "execute_result"
    }
   ],
   "source": [
    "dftable = pd.DataFrame(columns={'accuracy_train', 'accuracy_test', 'model_name'})\n",
    "dftable['accuracy_train'] = accuracy_train\n",
    "dftable['accuracy_test'] = accuracy_test\n",
    "dftable['model_name'] = model_name\n",
    "dftable = dftable[['model_name', 'accuracy_train', 'accuracy_test']]\n",
    "dftable"
   ]
  },
  {
   "cell_type": "code",
   "execution_count": 31,
   "metadata": {
    "id": "jotb5UNLsUJO"
   },
   "outputs": [],
   "source": [
    "from joblib import dump"
   ]
  },
  {
   "cell_type": "code",
   "execution_count": 32,
   "metadata": {},
   "outputs": [
    {
     "data": {
      "text/plain": [
       "['./../Model/reg.joblib']"
      ]
     },
     "execution_count": 32,
     "metadata": {},
     "output_type": "execute_result"
    }
   ],
   "source": [
    "dump(reg, './../Model/reg.joblib')"
   ]
  },
  {
   "cell_type": "code",
   "execution_count": 33,
   "metadata": {},
   "outputs": [],
   "source": [
    "import pickle"
   ]
  },
  {
   "cell_type": "code",
   "execution_count": 34,
   "metadata": {},
   "outputs": [],
   "source": [
    "pickle.dump(reg, open(\"Linear_Reg.sav\", \"wb\"))\n"
   ]
  },
  {
   "cell_type": "code",
   "execution_count": 35,
   "metadata": {},
   "outputs": [],
   "source": [
    "with open('model_pickle','wb') as file:\n",
    "    pickle.dump(reg,file)"
   ]
  },
  {
   "cell_type": "code",
   "execution_count": 36,
   "metadata": {},
   "outputs": [],
   "source": [
    "with open('model_pickle','rb') as file:\n",
    "    mp = pickle.load(file)"
   ]
  },
  {
   "cell_type": "code",
   "execution_count": 37,
   "metadata": {},
   "outputs": [
    {
     "data": {
      "text/plain": [
       "array([-0.02330464, -0.11070812,  0.00526163, -0.53673343])"
      ]
     },
     "execution_count": 37,
     "metadata": {},
     "output_type": "execute_result"
    }
   ],
   "source": [
    "mp.coef_"
   ]
  },
  {
   "cell_type": "code",
   "execution_count": 38,
   "metadata": {},
   "outputs": [
    {
     "data": {
      "text/plain": [
       "20.96876208700749"
      ]
     },
     "execution_count": 38,
     "metadata": {},
     "output_type": "execute_result"
    }
   ],
   "source": [
    "mp.intercept_"
   ]
  },
  {
   "cell_type": "code",
   "execution_count": 39,
   "metadata": {},
   "outputs": [],
   "source": [
    "pd.to_pickle(reg,r'C:\\Users\\User\\Desktop\\299\\CSE-299-Project\\Model\\modelpickle')"
   ]
  },
  {
   "cell_type": "code",
   "execution_count": 40,
   "metadata": {},
   "outputs": [],
   "source": [
    "model = pd.read_pickle(r'C:\\Users\\User\\Desktop\\299\\CSE-299-Project\\Model\\modelpickle') "
   ]
  },
  {
   "cell_type": "code",
   "execution_count": 41,
   "metadata": {},
   "outputs": [
    {
     "name": "stdout",
     "output_type": "stream",
     "text": [
      "N: 5\n",
      "P: 5\n",
      "K: 5\n",
      "ph: 6\n",
      "[17.1046059]\n"
     ]
    },
    {
     "name": "stderr",
     "output_type": "stream",
     "text": [
      "C:\\ProgramData\\Anaconda3\\lib\\site-packages\\sklearn\\base.py:450: UserWarning: X does not have valid feature names, but LinearRegression was fitted with feature names\n",
      "  warnings.warn(\n"
     ]
    }
   ],
   "source": [
    "N = float(input(\"N: \"))\n",
    "P = float(input(\"P: \"))\n",
    "K = float(input(\"K: \"))\n",
    "ph = float(input(\"ph: \"))\n",
    "\n",
    "result = model.predict([[N ,P, K, ph]])\n",
    "print(result)"
   ]
  },
  {
   "cell_type": "markdown",
   "metadata": {},
   "source": [
    "model = SVC(gamma='auto')\n",
    "model.fit(Xtrain, ytrain)\n",
    "\n",
    "\n",
    "predictions = model.predict(Xtest)\n",
    "\n",
    "\n"
   ]
  },
  {
   "cell_type": "code",
   "execution_count": 44,
   "metadata": {},
   "outputs": [],
   "source": [
    "pickle.dump(reg, open(\"Linear_Reg.pkl\", \"wb\"))"
   ]
  },
  {
   "cell_type": "code",
   "execution_count": 45,
   "metadata": {},
   "outputs": [],
   "source": [
    "new = pickle.load(open(\"Linear_Reg.pkl\", \"rb\"))"
   ]
  },
  {
   "cell_type": "code",
   "execution_count": 46,
   "metadata": {},
   "outputs": [
    {
     "name": "stderr",
     "output_type": "stream",
     "text": [
      "C:\\ProgramData\\Anaconda3\\lib\\site-packages\\sklearn\\base.py:450: UserWarning: X does not have valid feature names, but LinearRegression was fitted with feature names\n",
      "  warnings.warn(\n"
     ]
    },
    {
     "data": {
      "text/plain": [
       "array([15.93095419])"
      ]
     },
     "execution_count": 46,
     "metadata": {},
     "output_type": "execute_result"
    }
   ],
   "source": [
    "model.predict([[5,6,7,8]])"
   ]
  }
 ],
 "metadata": {
  "colab": {
   "provenance": []
  },
  "kernelspec": {
   "display_name": "Python 3 (ipykernel)",
   "language": "python",
   "name": "python3"
  },
  "language_info": {
   "codemirror_mode": {
    "name": "ipython",
    "version": 3
   },
   "file_extension": ".py",
   "mimetype": "text/x-python",
   "name": "python",
   "nbconvert_exporter": "python",
   "pygments_lexer": "ipython3",
   "version": "3.9.13"
  }
 },
 "nbformat": 4,
 "nbformat_minor": 1
}
